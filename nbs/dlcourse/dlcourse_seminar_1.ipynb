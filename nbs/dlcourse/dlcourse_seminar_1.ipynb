{
  "nbformat": 4,
  "nbformat_minor": 0,
  "metadata": {
    "colab": {
      "name": "dlcourse seminar 1.ipynb",
      "provenance": []
    },
    "kernelspec": {
      "name": "python3",
      "display_name": "Python 3"
    }
  },
  "cells": [
    {
      "cell_type": "markdown",
      "metadata": {
        "id": "PGF3416gav8l"
      },
      "source": [
        "# Arrays "
      ]
    },
    {
      "cell_type": "code",
      "metadata": {
        "id": "0wtcQoI6acQS"
      },
      "source": [
        "import numpy as np"
      ],
      "execution_count": 1,
      "outputs": []
    },
    {
      "cell_type": "code",
      "metadata": {
        "colab": {
          "base_uri": "https://localhost:8080/"
        },
        "id": "I0Q-c1dGah1N",
        "outputId": "009aa9c4-1618-4eb5-ea30-c78c0f8c33dd"
      },
      "source": [
        "a = np.zeros((2, 3), dtype=np.float32)\n",
        "a"
      ],
      "execution_count": 2,
      "outputs": [
        {
          "output_type": "execute_result",
          "data": {
            "text/plain": [
              "array([[0., 0., 0.],\n",
              "       [0., 0., 0.]], dtype=float32)"
            ]
          },
          "metadata": {
            "tags": []
          },
          "execution_count": 2
        }
      ]
    },
    {
      "cell_type": "code",
      "metadata": {
        "colab": {
          "base_uri": "https://localhost:8080/"
        },
        "id": "YnljVvVnao0f",
        "outputId": "8c031721-03e3-4736-b86e-78c90931224e"
      },
      "source": [
        "a.__class__"
      ],
      "execution_count": 3,
      "outputs": [
        {
          "output_type": "execute_result",
          "data": {
            "text/plain": [
              "numpy.ndarray"
            ]
          },
          "metadata": {
            "tags": []
          },
          "execution_count": 3
        }
      ]
    },
    {
      "cell_type": "code",
      "metadata": {
        "colab": {
          "base_uri": "https://localhost:8080/"
        },
        "id": "0VokgnytazEu",
        "outputId": "8dede957-32fe-4a7e-a3e2-16810152c4f1"
      },
      "source": [
        "a += 1\n",
        "a"
      ],
      "execution_count": 4,
      "outputs": [
        {
          "output_type": "execute_result",
          "data": {
            "text/plain": [
              "array([[1., 1., 1.],\n",
              "       [1., 1., 1.]], dtype=float32)"
            ]
          },
          "metadata": {
            "tags": []
          },
          "execution_count": 4
        }
      ]
    },
    {
      "cell_type": "code",
      "metadata": {
        "colab": {
          "base_uri": "https://localhost:8080/"
        },
        "id": "tBdZr6VHbOnQ",
        "outputId": "ea69570b-75aa-4674-bad7-f0c1ebcf28eb"
      },
      "source": [
        "a *= 2\n",
        "a"
      ],
      "execution_count": 5,
      "outputs": [
        {
          "output_type": "execute_result",
          "data": {
            "text/plain": [
              "array([[2., 2., 2.],\n",
              "       [2., 2., 2.]], dtype=float32)"
            ]
          },
          "metadata": {
            "tags": []
          },
          "execution_count": 5
        }
      ]
    },
    {
      "cell_type": "code",
      "metadata": {
        "id": "EUJ4RFXFbP_u"
      },
      "source": [
        "ones = lambda *shape: np.ones(shape, dtype=np.float32)"
      ],
      "execution_count": 6,
      "outputs": []
    },
    {
      "cell_type": "code",
      "metadata": {
        "colab": {
          "base_uri": "https://localhost:8080/"
        },
        "id": "nIKNhK6DbjIj",
        "outputId": "cfb3db2e-cc6f-4d1c-85da-25a0087ce890"
      },
      "source": [
        "ones(3, 3)"
      ],
      "execution_count": 7,
      "outputs": [
        {
          "output_type": "execute_result",
          "data": {
            "text/plain": [
              "array([[1., 1., 1.],\n",
              "       [1., 1., 1.],\n",
              "       [1., 1., 1.]], dtype=float32)"
            ]
          },
          "metadata": {
            "tags": []
          },
          "execution_count": 7
        }
      ]
    },
    {
      "cell_type": "markdown",
      "metadata": {
        "id": "kV8IN-JFbqys"
      },
      "source": [
        "# Task\n",
        "\n",
        "Pretty print A + B = C "
      ]
    },
    {
      "cell_type": "code",
      "metadata": {
        "colab": {
          "base_uri": "https://localhost:8080/",
          "height": 309
        },
        "id": "2jrbljYWbj5z",
        "outputId": "554b523f-e587-4d8a-e8b7-4d49c9deef52"
      },
      "source": [
        "my_input = [ones(2, 3), \"+\", ones(2, 3), \"=\", ones(2, 3) * 2]\n",
        "print(my_input)\n",
        "print(*my_input)\n",
        "display(*my_input)"
      ],
      "execution_count": 8,
      "outputs": [
        {
          "output_type": "stream",
          "text": [
            "[array([[1., 1., 1.],\n",
            "       [1., 1., 1.]], dtype=float32), '+', array([[1., 1., 1.],\n",
            "       [1., 1., 1.]], dtype=float32), '=', array([[2., 2., 2.],\n",
            "       [2., 2., 2.]], dtype=float32)]\n",
            "[[1. 1. 1.]\n",
            " [1. 1. 1.]] + [[1. 1. 1.]\n",
            " [1. 1. 1.]] = [[2. 2. 2.]\n",
            " [2. 2. 2.]]\n"
          ],
          "name": "stdout"
        },
        {
          "output_type": "display_data",
          "data": {
            "text/plain": [
              "array([[1., 1., 1.],\n",
              "       [1., 1., 1.]], dtype=float32)"
            ]
          },
          "metadata": {
            "tags": []
          }
        },
        {
          "output_type": "display_data",
          "data": {
            "application/vnd.google.colaboratory.intrinsic+json": {
              "type": "string"
            },
            "text/plain": [
              "'+'"
            ]
          },
          "metadata": {
            "tags": []
          }
        },
        {
          "output_type": "display_data",
          "data": {
            "text/plain": [
              "array([[1., 1., 1.],\n",
              "       [1., 1., 1.]], dtype=float32)"
            ]
          },
          "metadata": {
            "tags": []
          }
        },
        {
          "output_type": "display_data",
          "data": {
            "application/vnd.google.colaboratory.intrinsic+json": {
              "type": "string"
            },
            "text/plain": [
              "'='"
            ]
          },
          "metadata": {
            "tags": []
          }
        },
        {
          "output_type": "display_data",
          "data": {
            "text/plain": [
              "array([[2., 2., 2.],\n",
              "       [2., 2., 2.]], dtype=float32)"
            ]
          },
          "metadata": {
            "tags": []
          }
        }
      ]
    },
    {
      "cell_type": "code",
      "metadata": {
        "id": "H-YGpdg2b-zF"
      },
      "source": [
        "def pretty_print(*lst):\n",
        "    pass\n",
        "pretty_print(*my_input)"
      ],
      "execution_count": 9,
      "outputs": []
    },
    {
      "cell_type": "code",
      "metadata": {
        "colab": {
          "base_uri": "https://localhost:8080/"
        },
        "id": "QGffPItIcF7u",
        "outputId": "ad32d768-7136-470a-d33a-7775fce38b42"
      },
      "source": [
        "lines = [str(a).split(\"\\n\") for a in my_input]\n",
        "lines"
      ],
      "execution_count": 10,
      "outputs": [
        {
          "output_type": "execute_result",
          "data": {
            "text/plain": [
              "[['[[1. 1. 1.]', ' [1. 1. 1.]]'],\n",
              " ['+'],\n",
              " ['[[1. 1. 1.]', ' [1. 1. 1.]]'],\n",
              " ['='],\n",
              " ['[[2. 2. 2.]', ' [2. 2. 2.]]']]"
            ]
          },
          "metadata": {
            "tags": []
          },
          "execution_count": 10
        }
      ]
    },
    {
      "cell_type": "code",
      "metadata": {
        "colab": {
          "base_uri": "https://localhost:8080/"
        },
        "id": "Hd_CrtdzcLzu",
        "outputId": "cdbe62bf-f6bf-45ac-c907-f7a61ded306c"
      },
      "source": [
        "max_lines = max([len(line) for line in lines])\n",
        "max_lines"
      ],
      "execution_count": 11,
      "outputs": [
        {
          "output_type": "execute_result",
          "data": {
            "text/plain": [
              "2"
            ]
          },
          "metadata": {
            "tags": []
          },
          "execution_count": 11
        }
      ]
    },
    {
      "cell_type": "code",
      "metadata": {
        "colab": {
          "base_uri": "https://localhost:8080/"
        },
        "id": "rpJE8rs2cU89",
        "outputId": "1037a89a-46ac-49c7-e998-a0c081450f20"
      },
      "source": [
        "lines = [line + [\"\"] * (max_lines - len(line)) for line in lines]\n",
        "lines"
      ],
      "execution_count": 12,
      "outputs": [
        {
          "output_type": "execute_result",
          "data": {
            "text/plain": [
              "[['[[1. 1. 1.]', ' [1. 1. 1.]]'],\n",
              " ['+', ''],\n",
              " ['[[1. 1. 1.]', ' [1. 1. 1.]]'],\n",
              " ['=', ''],\n",
              " ['[[2. 2. 2.]', ' [2. 2. 2.]]']]"
            ]
          },
          "metadata": {
            "tags": []
          },
          "execution_count": 12
        }
      ]
    },
    {
      "cell_type": "markdown",
      "metadata": {
        "id": "OJootwJJcrXD"
      },
      "source": [
        "# Transpose, reshape, max"
      ]
    },
    {
      "cell_type": "code",
      "metadata": {
        "colab": {
          "base_uri": "https://localhost:8080/"
        },
        "id": "VqhDue57cjKr",
        "outputId": "6973b97b-7961-4999-a61e-fa2d9ccfc905"
      },
      "source": [
        "lines_arr = np.array(lines)\n",
        "lines_arr.T"
      ],
      "execution_count": 13,
      "outputs": [
        {
          "output_type": "execute_result",
          "data": {
            "text/plain": [
              "array([['[[1. 1. 1.]', '+', '[[1. 1. 1.]', '=', '[[2. 2. 2.]'],\n",
              "       [' [1. 1. 1.]]', '', ' [1. 1. 1.]]', '', ' [2. 2. 2.]]']],\n",
              "      dtype='<U12')"
            ]
          },
          "metadata": {
            "tags": []
          },
          "execution_count": 13
        }
      ]
    },
    {
      "cell_type": "code",
      "metadata": {
        "colab": {
          "base_uri": "https://localhost:8080/"
        },
        "id": "n1UGdUnicxcv",
        "outputId": "2468dbbc-0083-44ab-bfd4-1445e07a76e8"
      },
      "source": [
        "widths = [len(x) for x in lines]\n",
        "widths"
      ],
      "execution_count": 14,
      "outputs": [
        {
          "output_type": "execute_result",
          "data": {
            "text/plain": [
              "[2, 2, 2, 2, 2]"
            ]
          },
          "metadata": {
            "tags": []
          },
          "execution_count": 14
        }
      ]
    },
    {
      "cell_type": "code",
      "metadata": {
        "colab": {
          "base_uri": "https://localhost:8080/"
        },
        "id": "vxUepuX8c2rA",
        "outputId": "ec85b5cc-8257-4761-e535-2e52c77af5ca"
      },
      "source": [
        "lines_arr.shape, lines_arr.flatten().shape"
      ],
      "execution_count": 15,
      "outputs": [
        {
          "output_type": "execute_result",
          "data": {
            "text/plain": [
              "((5, 2), (10,))"
            ]
          },
          "metadata": {
            "tags": []
          },
          "execution_count": 15
        }
      ]
    },
    {
      "cell_type": "code",
      "metadata": {
        "colab": {
          "base_uri": "https://localhost:8080/"
        },
        "id": "uw-peOPzc-BD",
        "outputId": "01d2c4f9-587e-42a2-b048-69e4e8e3098d"
      },
      "source": [
        "widths = np.array([len(x) for x in lines_arr.flatten()])\n",
        "print(widths)\n",
        "widths = widths.reshape(len(lines_arr), -1)\n",
        "widths"
      ],
      "execution_count": 16,
      "outputs": [
        {
          "output_type": "stream",
          "text": [
            "[11 12  1  0 11 12  1  0 11 12]\n"
          ],
          "name": "stdout"
        },
        {
          "output_type": "execute_result",
          "data": {
            "text/plain": [
              "array([[11, 12],\n",
              "       [ 1,  0],\n",
              "       [11, 12],\n",
              "       [ 1,  0],\n",
              "       [11, 12]])"
            ]
          },
          "metadata": {
            "tags": []
          },
          "execution_count": 16
        }
      ]
    },
    {
      "cell_type": "code",
      "metadata": {
        "colab": {
          "base_uri": "https://localhost:8080/"
        },
        "id": "TIKg2aNwdK8a",
        "outputId": "cf66a5e5-e739-4b32-b351-0efa5b545a37"
      },
      "source": [
        "widths.reshape(*lines_arr.shape)\n",
        "widths"
      ],
      "execution_count": 17,
      "outputs": [
        {
          "output_type": "execute_result",
          "data": {
            "text/plain": [
              "array([[11, 12],\n",
              "       [ 1,  0],\n",
              "       [11, 12],\n",
              "       [ 1,  0],\n",
              "       [11, 12]])"
            ]
          },
          "metadata": {
            "tags": []
          },
          "execution_count": 17
        }
      ]
    },
    {
      "cell_type": "code",
      "metadata": {
        "colab": {
          "base_uri": "https://localhost:8080/"
        },
        "id": "Ebxy4l9TdYNQ",
        "outputId": "9e58c46c-69dd-452b-f8c8-c5242524dd20"
      },
      "source": [
        "np.max(widths)"
      ],
      "execution_count": 18,
      "outputs": [
        {
          "output_type": "execute_result",
          "data": {
            "text/plain": [
              "12"
            ]
          },
          "metadata": {
            "tags": []
          },
          "execution_count": 18
        }
      ]
    },
    {
      "cell_type": "code",
      "metadata": {
        "colab": {
          "base_uri": "https://localhost:8080/"
        },
        "id": "Z7mqoaU-dihR",
        "outputId": "7f4f85c4-94d8-40d4-beba-899f4f3bcf62"
      },
      "source": [
        "np.max(widths, axis=1)"
      ],
      "execution_count": 19,
      "outputs": [
        {
          "output_type": "execute_result",
          "data": {
            "text/plain": [
              "array([12,  1, 12,  1, 12])"
            ]
          },
          "metadata": {
            "tags": []
          },
          "execution_count": 19
        }
      ]
    },
    {
      "cell_type": "code",
      "metadata": {
        "colab": {
          "base_uri": "https://localhost:8080/"
        },
        "id": "jQz83sRgdwhh",
        "outputId": "8ba8651c-2319-43d2-fafd-6d60a55b8df5"
      },
      "source": [
        "lines_widths = widths.max(axis=1)\n",
        "lines_widths"
      ],
      "execution_count": 20,
      "outputs": [
        {
          "output_type": "execute_result",
          "data": {
            "text/plain": [
              "array([12,  1, 12,  1, 12])"
            ]
          },
          "metadata": {
            "tags": []
          },
          "execution_count": 20
        }
      ]
    },
    {
      "cell_type": "code",
      "metadata": {
        "colab": {
          "base_uri": "https://localhost:8080/"
        },
        "id": "5wZ7K3bFd3oz",
        "outputId": "29d243a8-c3b0-4fe8-bafc-edc34e389ccf"
      },
      "source": [
        "lines = [str(a).split(\"\\n\") for a in my_input]\n",
        "max_lines = max([len(line) for line in lines])\n",
        "max_lines"
      ],
      "execution_count": 21,
      "outputs": [
        {
          "output_type": "execute_result",
          "data": {
            "text/plain": [
              "2"
            ]
          },
          "metadata": {
            "tags": []
          },
          "execution_count": 21
        }
      ]
    },
    {
      "cell_type": "code",
      "metadata": {
        "colab": {
          "base_uri": "https://localhost:8080/"
        },
        "id": "gWY1p7YaeGJ7",
        "outputId": "fe0bf006-0fa7-4a3a-b885-24db77826010"
      },
      "source": [
        "def format_item(lines, max_lines=0):\n",
        "    max_width = max([len(line) for line in lines])\n",
        "    empty = \" \" * max_width\n",
        "    lines = [line.ljust(max_width) for line in lines]\n",
        "    lines += [empty] * (max_lines - len(lines))\n",
        "    return lines\n",
        "\n",
        "res = format_item(str(np.arange(1, 5).reshape(2, -1)).split(\"\\n\"), max_lines=3)\n",
        "print(\"\\n\".join(res))"
      ],
      "execution_count": 22,
      "outputs": [
        {
          "output_type": "stream",
          "text": [
            "[[1 2] \n",
            " [3 4]]\n",
            "       \n"
          ],
          "name": "stdout"
        }
      ]
    },
    {
      "cell_type": "code",
      "metadata": {
        "colab": {
          "base_uri": "https://localhost:8080/"
        },
        "id": "sbu_nQi0ej3U",
        "outputId": "ca0c9e67-baeb-49f1-9cbe-c991ffa6003b"
      },
      "source": [
        "def pretty_print(*lst):\n",
        "    lines = [str(item).split(\"\\n\") for item in lst]\n",
        "    max_lines = max([len(item) for item in lines])\n",
        "    lines = [format_item(item, max_lines=max_lines) for item in lines]\n",
        "    lines_t = np.array(lines).T\n",
        "    print(\"\\n\".join([\" \".join(line) for line in lines_t]))\n",
        "\n",
        "pretty_print(*my_input)"
      ],
      "execution_count": 23,
      "outputs": [
        {
          "output_type": "stream",
          "text": [
            "[[1. 1. 1.]  + [[1. 1. 1.]  = [[2. 2. 2.] \n",
            " [1. 1. 1.]]    [1. 1. 1.]]    [2. 2. 2.]]\n"
          ],
          "name": "stdout"
        }
      ]
    },
    {
      "cell_type": "markdown",
      "metadata": {
        "id": "92Oj_sy_gejS"
      },
      "source": [
        "# Lets test our function"
      ]
    },
    {
      "cell_type": "code",
      "metadata": {
        "colab": {
          "base_uri": "https://localhost:8080/"
        },
        "id": "mYXBclC-fuD2",
        "outputId": "e919c521-24ec-494b-861e-75d6c35c98ce"
      },
      "source": [
        "A = np.arange(1, 11).reshape(5, 2)\n",
        "B = np.linspace(10, 30, 10).reshape(5, 2)\n",
        "R = A * B\n",
        "\n",
        "pretty_print(A, \"*\", B, \"=\", R)"
      ],
      "execution_count": 24,
      "outputs": [
        {
          "output_type": "stream",
          "text": [
            "[[ 1  2]  * [[10.         12.22222222]  = [[ 10.          24.44444444] \n",
            " [ 3  4]     [14.44444444 16.66666667]     [ 43.33333333  66.66666667] \n",
            " [ 5  6]     [18.88888889 21.11111111]     [ 94.44444444 126.66666667] \n",
            " [ 7  8]     [23.33333333 25.55555556]     [163.33333333 204.44444444] \n",
            " [ 9 10]]    [27.77777778 30.        ]]    [250.         300.        ]]\n"
          ],
          "name": "stdout"
        }
      ]
    },
    {
      "cell_type": "code",
      "metadata": {
        "colab": {
          "base_uri": "https://localhost:8080/"
        },
        "id": "_SAvlwwogqId",
        "outputId": "d3312e39-ca8a-4daa-e4ce-fe65475860dd"
      },
      "source": [
        "import operator\n",
        "\n",
        "def op(x, name, y, func):\n",
        "    r = func(x, y)\n",
        "    pretty_print(x, name, y, \"=\", r)\n",
        "\n",
        "op(np.array([[1,2], [3, 4]]), \"+\", np.array([[5, 6], [7, 7]]), operator.add)"
      ],
      "execution_count": 25,
      "outputs": [
        {
          "output_type": "stream",
          "text": [
            "[[1 2]  + [[5 6]  = [[ 6  8] \n",
            " [3 4]]    [7 7]]    [10 11]]\n"
          ],
          "name": "stdout"
        }
      ]
    },
    {
      "cell_type": "code",
      "metadata": {
        "colab": {
          "base_uri": "https://localhost:8080/"
        },
        "id": "Q2OVykOng7pt",
        "outputId": "b5ac3b28-c694-478f-92b5-abfeaa490118"
      },
      "source": [
        "class Op:\n",
        "    def __init__(self, name, func):\n",
        "        self.name = name\n",
        "        self.func = func\n",
        "\n",
        "    def __call__(self, x, y):\n",
        "        r = self.func(x, y)\n",
        "        pretty_print(x, self.name, y, \"=\", r)\n",
        "\n",
        "SSum = Op(\"+\", lambda x, y: x + y)\n",
        "SMul = Op(\"*\", lambda x, y: x * y)\n",
        "SDel = Op(\"-\", lambda x, y: x - y)\n",
        "MMul = Op(\"@\", lambda x, y: x @ y)\n",
        "\n",
        "SMul(A, B)\n"
      ],
      "execution_count": 26,
      "outputs": [
        {
          "output_type": "stream",
          "text": [
            "[[ 1  2]  * [[10.         12.22222222]  = [[ 10.          24.44444444] \n",
            " [ 3  4]     [14.44444444 16.66666667]     [ 43.33333333  66.66666667] \n",
            " [ 5  6]     [18.88888889 21.11111111]     [ 94.44444444 126.66666667] \n",
            " [ 7  8]     [23.33333333 25.55555556]     [163.33333333 204.44444444] \n",
            " [ 9 10]]    [27.77777778 30.        ]]    [250.         300.        ]]\n"
          ],
          "name": "stdout"
        }
      ]
    },
    {
      "cell_type": "code",
      "metadata": {
        "colab": {
          "base_uri": "https://localhost:8080/"
        },
        "id": "wt6j9LWzhbzI",
        "outputId": "4374ab4b-65c3-4074-c37d-e7706dab6f5e"
      },
      "source": [
        "MMul(A.T, B)"
      ],
      "execution_count": 27,
      "outputs": [
        {
          "output_type": "stream",
          "text": [
            "[[ 1  3  5  7  9]  @ [[10.         12.22222222]  = [[561.11111111 616.66666667] \n",
            " [ 2  4  6  8 10]]    [14.44444444 16.66666667]     [655.55555556 722.22222222]]\n",
            "                      [18.88888889 21.11111111]                                 \n",
            "                      [23.33333333 25.55555556]                                 \n",
            "                      [27.77777778 30.        ]]                                \n"
          ],
          "name": "stdout"
        }
      ]
    },
    {
      "cell_type": "markdown",
      "metadata": {
        "id": "yU_piou8hofK"
      },
      "source": [
        "# Bradcasting and stack"
      ]
    },
    {
      "cell_type": "code",
      "metadata": {
        "colab": {
          "base_uri": "https://localhost:8080/"
        },
        "id": "Hsl_JPP3hmwU",
        "outputId": "4b21447f-a8a7-42b8-b2e1-a4669f9d8229"
      },
      "source": [
        "SSum(A, B[0])"
      ],
      "execution_count": 28,
      "outputs": [
        {
          "output_type": "stream",
          "text": [
            "[[ 1  2]  + [10.         12.22222222] = [[11.         14.22222222] \n",
            " [ 3  4]                                 [13.         16.22222222] \n",
            " [ 5  6]                                 [15.         18.22222222] \n",
            " [ 7  8]                                 [17.         20.22222222] \n",
            " [ 9 10]]                                [19.         22.22222222]]\n"
          ],
          "name": "stdout"
        }
      ]
    },
    {
      "cell_type": "code",
      "metadata": {
        "colab": {
          "base_uri": "https://localhost:8080/"
        },
        "id": "-_JXUkbmiBj9",
        "outputId": "a4d2ed38-8436-4748-ff31-e16064bc8edd"
      },
      "source": [
        "SMul(A, B[0])"
      ],
      "execution_count": 29,
      "outputs": [
        {
          "output_type": "stream",
          "text": [
            "[[ 1  2]  * [10.         12.22222222] = [[ 10.          24.44444444] \n",
            " [ 3  4]                                 [ 30.          48.88888889] \n",
            " [ 5  6]                                 [ 50.          73.33333333] \n",
            " [ 7  8]                                 [ 70.          97.77777778] \n",
            " [ 9 10]]                                [ 90.         122.22222222]]\n"
          ],
          "name": "stdout"
        }
      ]
    },
    {
      "cell_type": "code",
      "metadata": {
        "colab": {
          "base_uri": "https://localhost:8080/"
        },
        "id": "lTv9tZJ9iJKS",
        "outputId": "7055709d-6131-497f-8ae7-7afa09eac04f"
      },
      "source": [
        "SMul(A, np.stack(list(B[:1]) * 5))"
      ],
      "execution_count": 30,
      "outputs": [
        {
          "output_type": "stream",
          "text": [
            "[[ 1  2]  * [[10.         12.22222222]  = [[ 10.          24.44444444] \n",
            " [ 3  4]     [10.         12.22222222]     [ 30.          48.88888889] \n",
            " [ 5  6]     [10.         12.22222222]     [ 50.          73.33333333] \n",
            " [ 7  8]     [10.         12.22222222]     [ 70.          97.77777778] \n",
            " [ 9 10]]    [10.         12.22222222]]    [ 90.         122.22222222]]\n"
          ],
          "name": "stdout"
        }
      ]
    },
    {
      "cell_type": "markdown",
      "metadata": {
        "id": "VrUbrMdtyBfz"
      },
      "source": [
        "# Binary and logical operations"
      ]
    },
    {
      "cell_type": "code",
      "metadata": {
        "colab": {
          "base_uri": "https://localhost:8080/"
        },
        "id": "42Wr6W_NiVjG",
        "outputId": "3a36d1fc-d0e6-40cd-8667-f480a2673875"
      },
      "source": [
        "pretty_print(A, A > 3, B, B >= 15.)"
      ],
      "execution_count": 31,
      "outputs": [
        {
          "output_type": "stream",
          "text": [
            "[[ 1  2]  [[False False]  [[10.         12.22222222]  [[False False] \n",
            " [ 3  4]   [False  True]   [14.44444444 16.66666667]   [False  True] \n",
            " [ 5  6]   [ True  True]   [18.88888889 21.11111111]   [ True  True] \n",
            " [ 7  8]   [ True  True]   [23.33333333 25.55555556]   [ True  True] \n",
            " [ 9 10]]  [ True  True]]  [27.77777778 30.        ]]  [ True  True]]\n"
          ],
          "name": "stdout"
        }
      ]
    },
    {
      "cell_type": "code",
      "metadata": {
        "colab": {
          "base_uri": "https://localhost:8080/"
        },
        "id": "d4f82U9YyIjm",
        "outputId": "1cddb62c-805c-44c3-9497-4a9936197c28"
      },
      "source": [
        "pretty_print(np.isclose(B, 10), (10 - 1e-7 <= B) & (B <= 10 + 1e-7))"
      ],
      "execution_count": 32,
      "outputs": [
        {
          "output_type": "stream",
          "text": [
            "[[ True False]  [[ True False] \n",
            " [False False]   [False False] \n",
            " [False False]   [False False] \n",
            " [False False]   [False False] \n",
            " [False False]]  [False False]]\n"
          ],
          "name": "stdout"
        }
      ]
    },
    {
      "cell_type": "code",
      "metadata": {
        "colab": {
          "base_uri": "https://localhost:8080/"
        },
        "id": "Lq-mMWhRyi2R",
        "outputId": "54ee71a1-18dc-4b89-aaf2-b0b47e2445a8"
      },
      "source": [
        "idx = np.isclose(B, 10) | np.isclose(B, 30)\n",
        "B[idx]"
      ],
      "execution_count": 33,
      "outputs": [
        {
          "output_type": "execute_result",
          "data": {
            "text/plain": [
              "array([10., 30.])"
            ]
          },
          "metadata": {
            "tags": []
          },
          "execution_count": 33
        }
      ]
    },
    {
      "cell_type": "markdown",
      "metadata": {
        "id": "yYAbShery3PM"
      },
      "source": [
        "# Random values"
      ]
    },
    {
      "cell_type": "code",
      "metadata": {
        "colab": {
          "base_uri": "https://localhost:8080/"
        },
        "id": "WjD7vM9-yvfE",
        "outputId": "3fd4a14c-4ed1-4930-f585-3b589b842e14"
      },
      "source": [
        "pretty_print(np.random.uniform(0, 1), np.random.randn(2, 3), np.random.rand(2, 3))"
      ],
      "execution_count": 34,
      "outputs": [
        {
          "output_type": "stream",
          "text": [
            "0.9856988767469977 [[-0.3555258  -0.59912421 -0.0417521 ]  [[0.96372363 0.40054991 0.63289841] \n",
            "                    [-1.14962925 -0.46317644  1.15104022]]  [0.83280734 0.36982002 0.77044609]]\n"
          ],
          "name": "stdout"
        }
      ]
    },
    {
      "cell_type": "code",
      "metadata": {
        "colab": {
          "base_uri": "https://localhost:8080/"
        },
        "id": "Bhun3Z_3zAmq",
        "outputId": "a2288344-b82b-407e-b5ae-c3c9ad478264"
      },
      "source": [
        "import random\n",
        "random.seed(10)\n",
        "np.random.seed(10)\n",
        "nr = np.random.uniform(0, 1)\n",
        "nr2 = np.random.uniform(0, 1)\n",
        "rr = random.uniform(0, 1)\n",
        "rr2 = random.uniform(0, 1)\n",
        "pretty_print(rr, nr, rr2, nr2)\n",
        "\n",
        "random.seed(10)\n",
        "np.random.seed(10)\n",
        "rr = random.uniform(0, 1)\n",
        "nr = np.random.uniform(0, 1)\n",
        "rr2 = random.uniform(0, 1)\n",
        "nr2 = np.random.uniform(0, 1)\n",
        "pretty_print(rr, nr, rr2, nr2)"
      ],
      "execution_count": 35,
      "outputs": [
        {
          "output_type": "stream",
          "text": [
            "0.5714025946899135 0.771320643266746 0.4288890546751146 0.0207519493594015\n",
            "0.5714025946899135 0.771320643266746 0.4288890546751146 0.0207519493594015\n"
          ],
          "name": "stdout"
        }
      ]
    },
    {
      "cell_type": "code",
      "metadata": {
        "colab": {
          "base_uri": "https://localhost:8080/",
          "height": 302
        },
        "id": "hZPKZSUgzQOp",
        "outputId": "8cac2d64-1a02-41b5-a3f3-51796a3a2c64"
      },
      "source": [
        "import matplotlib\n",
        "matplotlib.rcParams[\"axes.grid\"] = True\n",
        "from matplotlib import pyplot as plt\n",
        "\n",
        "x = np.linspace(0, 10, 11)\n",
        "dots = np.random.randn(11)\n",
        "plt.plot(x, dots)"
      ],
      "execution_count": 36,
      "outputs": [
        {
          "output_type": "execute_result",
          "data": {
            "text/plain": [
              "[<matplotlib.lines.Line2D at 0x7f67efc36f28>]"
            ]
          },
          "metadata": {
            "tags": []
          },
          "execution_count": 36
        },
        {
          "output_type": "display_data",
          "data": {
            "image/png": "[encoded data removed]",
            "text/plain": [
              "<Figure size 432x288 with 1 Axes>"
            ]
          },
          "metadata": {
            "tags": [],
            "needs_background": "light"
          }
        }
      ]
    },
    {
      "cell_type": "code",
      "metadata": {
        "colab": {
          "base_uri": "https://localhost:8080/",
          "height": 302
        },
        "id": "Xocr7sE1zit8",
        "outputId": "8630b450-7be5-4917-86ba-a6806542e1b2"
      },
      "source": [
        "import matplotlib\n",
        "matplotlib.rcParams[\"axes.grid\"] = False\n",
        "\n",
        "plt.plot(x, dots)"
      ],
      "execution_count": 37,
      "outputs": [
        {
          "output_type": "execute_result",
          "data": {
            "text/plain": [
              "[<matplotlib.lines.Line2D at 0x7f67efb9b8d0>]"
            ]
          },
          "metadata": {
            "tags": []
          },
          "execution_count": 37
        },
        {
          "output_type": "display_data",
          "data": {
            "image/png": "[encoded data removed]",
            "text/plain": [
              "<Figure size 432x288 with 1 Axes>"
            ]
          },
          "metadata": {
            "tags": [],
            "needs_background": "light"
          }
        }
      ]
    },
    {
      "cell_type": "code",
      "metadata": {
        "colab": {
          "base_uri": "https://localhost:8080/",
          "height": 302
        },
        "id": "pU-4WZvPzszR",
        "outputId": "d2e0160e-f34c-4f91-c8f1-155d58400a78"
      },
      "source": [
        "plt.scatter(x, dots)"
      ],
      "execution_count": 38,
      "outputs": [
        {
          "output_type": "execute_result",
          "data": {
            "text/plain": [
              "<matplotlib.collections.PathCollection at 0x7f67ef6e7c88>"
            ]
          },
          "metadata": {
            "tags": []
          },
          "execution_count": 38
        },
        {
          "output_type": "display_data",
          "data": {
            "image/png": "[encoded data removed]",
            "text/plain": [
              "<Figure size 432x288 with 1 Axes>"
            ]
          },
          "metadata": {
            "tags": [],
            "needs_background": "light"
          }
        }
      ]
    },
    {
      "cell_type": "code",
      "metadata": {
        "colab": {
          "base_uri": "https://localhost:8080/",
          "height": 168
        },
        "id": "PwYeyCplzuvs",
        "outputId": "25fb38f7-af1d-4e1e-fba2-12d9f3a7035f"
      },
      "source": [
        "plt.imshow(np.arange(0, 120).reshape(6, 20), 'hot');"
      ],
      "execution_count": 39,
      "outputs": [
        {
          "output_type": "display_data",
          "data": {
            "image/png": "[encoded data removed]",
            "text/plain": [
              "<Figure size 432x288 with 1 Axes>"
            ]
          },
          "metadata": {
            "tags": [],
            "needs_background": "light"
          }
        }
      ]
    },
    {
      "cell_type": "markdown",
      "metadata": {
        "id": "-9zOcoYNz4ZS"
      },
      "source": [
        "# Strings and dicts"
      ]
    },
    {
      "cell_type": "code",
      "metadata": {
        "colab": {
          "base_uri": "https://localhost:8080/"
        },
        "id": "qNiQsufWzzVQ",
        "outputId": "99048f39-ac70-4a22-f1e7-a2e662c135a7"
      },
      "source": [
        "a = \"totaly random words\"\n",
        "pretty_print(set(a))"
      ],
      "execution_count": 40,
      "outputs": [
        {
          "output_type": "stream",
          "text": [
            "{'n', 'o', 'm', 'w', ' ', 't', 'y', 'l', 'a', 'r', 's', 'd'}\n"
          ],
          "name": "stdout"
        }
      ]
    },
    {
      "cell_type": "code",
      "metadata": {
        "colab": {
          "base_uri": "https://localhost:8080/"
        },
        "id": "NrQk9JGB0A9I",
        "outputId": "43dd313f-e4c7-4bb1-ac6b-b4bc531fce5b"
      },
      "source": [
        "from collections import Counter\n",
        "Counter(a).most_common()"
      ],
      "execution_count": 41,
      "outputs": [
        {
          "output_type": "execute_result",
          "data": {
            "text/plain": [
              "[('o', 3),\n",
              " ('t', 2),\n",
              " ('a', 2),\n",
              " (' ', 2),\n",
              " ('r', 2),\n",
              " ('d', 2),\n",
              " ('l', 1),\n",
              " ('y', 1),\n",
              " ('n', 1),\n",
              " ('m', 1),\n",
              " ('w', 1),\n",
              " ('s', 1)]"
            ]
          },
          "metadata": {
            "tags": []
          },
          "execution_count": 41
        }
      ]
    },
    {
      "cell_type": "code",
      "metadata": {
        "colab": {
          "base_uri": "https://localhost:8080/"
        },
        "id": "rfIWzud00G4S",
        "outputId": "8e0d8040-7979-4892-94af-65c3ca965505"
      },
      "source": [
        "cntr = {}\n",
        "for c in a.lower():\n",
        "    if c == \" \": \n",
        "        continue\n",
        "    cntr[c] = cntr.get(c, 0) + 1\n",
        "\n",
        "sorted(cntr.items(), key=lambda x: x[1], reverse=True)"
      ],
      "execution_count": 42,
      "outputs": [
        {
          "output_type": "execute_result",
          "data": {
            "text/plain": [
              "[('o', 3),\n",
              " ('t', 2),\n",
              " ('a', 2),\n",
              " ('r', 2),\n",
              " ('d', 2),\n",
              " ('l', 1),\n",
              " ('y', 1),\n",
              " ('n', 1),\n",
              " ('m', 1),\n",
              " ('w', 1),\n",
              " ('s', 1)]"
            ]
          },
          "metadata": {
            "tags": []
          },
          "execution_count": 42
        }
      ]
    },
    {
      "cell_type": "code",
      "metadata": {
        "id": "75N0Xc9Q0Rc_"
      },
      "source": [
        ""
      ],
      "execution_count": 42,
      "outputs": []
    }
  ]
}