{
 "cells": [
  {
   "cell_type": "code",
   "execution_count": 1,
   "metadata": {
    "collapsed": true
   },
   "outputs": [],
   "source": [
    "import os\n",
    "from pathlib import Path\n",
    "\n",
    "import pandas as pd\n",
    "import numpy as np\n",
    "from sklearn.ensemble import RandomForestRegressor\n",
    "from sklearn.metrics import r2_score, make_scorer\n",
    "from sklearn.model_selection import KFold, cross_val_score\n",
    "from tqdm.notebook import tqdm"
   ]
  },
  {
   "cell_type": "code",
   "execution_count": 2,
   "outputs": [],
   "source": [
    "data_path = Path(os.getcwd()).parent/\"data\"\n",
    "\n",
    "df = pd.read_csv(data_path/\"abalone.csv\")"
   ],
   "metadata": {
    "collapsed": false,
    "pycharm": {
     "name": "#%%\n"
    }
   }
  },
  {
   "cell_type": "code",
   "execution_count": 3,
   "outputs": [],
   "source": [
    "def save_ans(*ans, delimiter=\" \"):\n",
    "    with open(data_path.parent/\"res.txt\", \"w\") as f:\n",
    "        f.write(delimiter.join(map(str, ans)))"
   ],
   "metadata": {
    "collapsed": false,
    "pycharm": {
     "name": "#%%\n"
    }
   }
  },
  {
   "cell_type": "code",
   "execution_count": 4,
   "outputs": [
    {
     "data": {
      "text/plain": "  Sex  Length  Diameter  Height  WholeWeight  ShuckedWeight  VisceraWeight  \\\n0   M   0.455     0.365   0.095       0.5140         0.2245         0.1010   \n1   M   0.350     0.265   0.090       0.2255         0.0995         0.0485   \n2   F   0.530     0.420   0.135       0.6770         0.2565         0.1415   \n3   M   0.440     0.365   0.125       0.5160         0.2155         0.1140   \n4   I   0.330     0.255   0.080       0.2050         0.0895         0.0395   \n\n   ShellWeight  Rings  \n0        0.150     15  \n1        0.070      7  \n2        0.210      9  \n3        0.155     10  \n4        0.055      7  ",
      "text/html": "<div>\n<style scoped>\n    .dataframe tbody tr th:only-of-type {\n        vertical-align: middle;\n    }\n\n    .dataframe tbody tr th {\n        vertical-align: top;\n    }\n\n    .dataframe thead th {\n        text-align: right;\n    }\n</style>\n<table border=\"1\" class=\"dataframe\">\n  <thead>\n    <tr style=\"text-align: right;\">\n      <th></th>\n      <th>Sex</th>\n      <th>Length</th>\n      <th>Diameter</th>\n      <th>Height</th>\n      <th>WholeWeight</th>\n      <th>ShuckedWeight</th>\n      <th>VisceraWeight</th>\n      <th>ShellWeight</th>\n      <th>Rings</th>\n    </tr>\n  </thead>\n  <tbody>\n    <tr>\n      <th>0</th>\n      <td>M</td>\n      <td>0.455</td>\n      <td>0.365</td>\n      <td>0.095</td>\n      <td>0.5140</td>\n      <td>0.2245</td>\n      <td>0.1010</td>\n      <td>0.150</td>\n      <td>15</td>\n    </tr>\n    <tr>\n      <th>1</th>\n      <td>M</td>\n      <td>0.350</td>\n      <td>0.265</td>\n      <td>0.090</td>\n      <td>0.2255</td>\n      <td>0.0995</td>\n      <td>0.0485</td>\n      <td>0.070</td>\n      <td>7</td>\n    </tr>\n    <tr>\n      <th>2</th>\n      <td>F</td>\n      <td>0.530</td>\n      <td>0.420</td>\n      <td>0.135</td>\n      <td>0.6770</td>\n      <td>0.2565</td>\n      <td>0.1415</td>\n      <td>0.210</td>\n      <td>9</td>\n    </tr>\n    <tr>\n      <th>3</th>\n      <td>M</td>\n      <td>0.440</td>\n      <td>0.365</td>\n      <td>0.125</td>\n      <td>0.5160</td>\n      <td>0.2155</td>\n      <td>0.1140</td>\n      <td>0.155</td>\n      <td>10</td>\n    </tr>\n    <tr>\n      <th>4</th>\n      <td>I</td>\n      <td>0.330</td>\n      <td>0.255</td>\n      <td>0.080</td>\n      <td>0.2050</td>\n      <td>0.0895</td>\n      <td>0.0395</td>\n      <td>0.055</td>\n      <td>7</td>\n    </tr>\n  </tbody>\n</table>\n</div>"
     },
     "execution_count": 4,
     "metadata": {},
     "output_type": "execute_result"
    }
   ],
   "source": [
    "df.head()"
   ],
   "metadata": {
    "collapsed": false,
    "pycharm": {
     "name": "#%%\n"
    }
   }
  },
  {
   "cell_type": "code",
   "execution_count": 5,
   "outputs": [],
   "source": [
    "df[\"Sex\"] = df[\"Sex\"].map({\"M\": 1, \"I\": 0, \"F\": -1})"
   ],
   "metadata": {
    "collapsed": false,
    "pycharm": {
     "name": "#%%\n"
    }
   }
  },
  {
   "cell_type": "code",
   "execution_count": 6,
   "outputs": [],
   "source": [
    "X = df.iloc[:, :-1]\n",
    "y = df[\"Rings\"]"
   ],
   "metadata": {
    "collapsed": false,
    "pycharm": {
     "name": "#%%\n"
    }
   }
  },
  {
   "cell_type": "code",
   "execution_count": 7,
   "outputs": [
    {
     "data": {
      "text/plain": "HBox(children=(HTML(value=''), FloatProgress(value=0.0, max=50.0), HTML(value='')))",
      "application/vnd.jupyter.widget-view+json": {
       "version_major": 2,
       "version_minor": 0,
       "model_id": "618778a276ff40dea6f4e279a242b8b3"
      }
     },
     "metadata": {},
     "output_type": "display_data"
    },
    {
     "name": "stdout",
     "output_type": "stream",
     "text": [
      "\n"
     ]
    }
   ],
   "source": [
    "res = {}\n",
    "cv = KFold(random_state=1, shuffle=True)\n",
    "for n_e in tqdm(range(1, 51)):\n",
    "    clf = RandomForestRegressor(n_estimators=n_e, random_state=1)\n",
    "    res[n_e] = cross_val_score(clf, X, y, scoring=make_scorer(r2_score), cv=cv)\n"
   ],
   "metadata": {
    "collapsed": false,
    "pycharm": {
     "name": "#%%\n"
    }
   }
  },
  {
   "cell_type": "code",
   "execution_count": 8,
   "outputs": [],
   "source": [
    "res = {i: np.mean(v) for i, v in res.items()}"
   ],
   "metadata": {
    "collapsed": false,
    "pycharm": {
     "name": "#%%\n"
    }
   }
  },
  {
   "cell_type": "code",
   "execution_count": 9,
   "outputs": [
    {
     "data": {
      "text/plain": "[(50, 0.5309509147417047),\n (49, 0.530813058616495),\n (33, 0.5301073722643779),\n (48, 0.5300509396315634),\n (42, 0.5300433306143383),\n (34, 0.5299613734264366),\n (43, 0.5299135764090978),\n (36, 0.529910050667947),\n (35, 0.5298209779129148),\n (41, 0.5298087685207094),\n (44, 0.5296814957917958),\n (39, 0.529515898349607),\n (38, 0.5294715388671245),\n (40, 0.5294703580378128),\n (37, 0.5294320415136227),\n (47, 0.5291786571646144),\n (46, 0.5290083070325597),\n (32, 0.5289244806388986),\n (45, 0.528908112349864),\n (31, 0.5276420438225101),\n (30, 0.5270858715838138),\n (29, 0.5265556293057552),\n (28, 0.5256557724971402),\n (27, 0.5246393588459404),\n (26, 0.5243076139284634),\n (25, 0.5232486470488318),\n (24, 0.5231059969795335),\n (23, 0.521742855685855),\n (22, 0.5208044230080824),\n (21, 0.520529096463528),\n (19, 0.5198293095329432),\n (20, 0.51948435033775),\n (18, 0.5172203573170132),\n (17, 0.5148917747729636),\n (16, 0.5114105314179662),\n (15, 0.5091809969556578),\n (14, 0.5073168234618861),\n (13, 0.5030578549564464),\n (12, 0.49902817866563326),\n (10, 0.4954085552428177),\n (11, 0.4944111155773555),\n (9, 0.4894370162945041),\n (8, 0.4829348394224631),\n (7, 0.4766658451893487),\n (6, 0.47139595825898917),\n (5, 0.46503241426823594),\n (4, 0.4447745857536912),\n (3, 0.406433829066129),\n (2, 0.3413000096365689),\n (1, 0.10967482068860261)]"
     },
     "execution_count": 9,
     "metadata": {},
     "output_type": "execute_result"
    }
   ],
   "source": [
    "sorted(res.items(), key=lambda i: -i[1])"
   ],
   "metadata": {
    "collapsed": false,
    "pycharm": {
     "name": "#%%\n"
    }
   }
  },
  {
   "cell_type": "code",
   "execution_count": 10,
   "outputs": [],
   "source": [
    "save_ans(22)"
   ],
   "metadata": {
    "collapsed": false,
    "pycharm": {
     "name": "#%%\n"
    }
   }
  },
  {
   "cell_type": "code",
   "execution_count": 10,
   "outputs": [],
   "source": [],
   "metadata": {
    "collapsed": false,
    "pycharm": {
     "name": "#%%\n"
    }
   }
  }
 ],
 "metadata": {
  "kernelspec": {
   "display_name": "Python 3",
   "language": "python",
   "name": "python3"
  },
  "language_info": {
   "codemirror_mode": {
    "name": "ipython",
    "version": 2
   },
   "file_extension": ".py",
   "mimetype": "text/x-python",
   "name": "python",
   "nbconvert_exporter": "python",
   "pygments_lexer": "ipython2",
   "version": "2.7.6"
  }
 },
 "nbformat": 4,
 "nbformat_minor": 0
}