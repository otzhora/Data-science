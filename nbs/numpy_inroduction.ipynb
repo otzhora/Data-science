{
  "nbformat": 4,
  "nbformat_minor": 0,
  "metadata": {
    "colab": {
      "name": "numpy introduction.ipynb",
      "provenance": [],
      "collapsed_sections": [
        "gjBWvpdbsL4n",
        "2KT5KmMLturC",
        "nrg0uHYGukgU",
        "ZV9dVE6kvBuv",
        "jrG8HDLGv2MW",
        "EY1JWSWCwD92",
        "BuQgYtIxwkN2",
        "73HwC-FQySFo",
        "XGysqSyi7T6e",
        "Gd9Bo4Y58Agk",
        "c4PAJWPU9Qli",
        "xwsxSUhe-Y4E"
      ]
    },
    "kernelspec": {
      "name": "python3",
      "display_name": "Python 3"
    }
  },
  "cells": [
    {
      "cell_type": "code",
      "metadata": {
        "id": "7BWP1p2wnPFK",
        "outputId": "be807bd7-3718-419f-f486-af66cb3ee204",
        "colab": {
          "base_uri": "https://localhost:8080/",
          "height": 35
        }
      },
      "source": [
        "import numpy as np\n",
        "np.__version__"
      ],
      "execution_count": 1,
      "outputs": [
        {
          "output_type": "execute_result",
          "data": {
            "application/vnd.google.colaboratory.intrinsic+json": {
              "type": "string"
            },
            "text/plain": [
              "'1.18.5'"
            ]
          },
          "metadata": {
            "tags": []
          },
          "execution_count": 1
        }
      ]
    },
    {
      "cell_type": "markdown",
      "metadata": {
        "id": "fCyLIiwupEc7"
      },
      "source": [
        "# Array creation"
      ]
    },
    {
      "cell_type": "code",
      "metadata": {
        "id": "Lzas99JjnWnV",
        "outputId": "db422cbc-8c54-4b4a-cdc7-a74de4300919",
        "colab": {
          "base_uri": "https://localhost:8080/"
        }
      },
      "source": [
        "np.array([1, 4, 2, 5, 3])"
      ],
      "execution_count": 2,
      "outputs": [
        {
          "output_type": "execute_result",
          "data": {
            "text/plain": [
              "array([1, 4, 2, 5, 3])"
            ]
          },
          "metadata": {
            "tags": []
          },
          "execution_count": 2
        }
      ]
    },
    {
      "cell_type": "code",
      "metadata": {
        "id": "HH3rh_t-pKyn",
        "outputId": "451ccd5e-ab7f-43c1-e7c5-d93b9f91d7f3",
        "colab": {
          "base_uri": "https://localhost:8080/"
        }
      },
      "source": [
        "np.array([3.14, 2, 3, 4])"
      ],
      "execution_count": 3,
      "outputs": [
        {
          "output_type": "execute_result",
          "data": {
            "text/plain": [
              "array([3.14, 2.  , 3.  , 4.  ])"
            ]
          },
          "metadata": {
            "tags": []
          },
          "execution_count": 3
        }
      ]
    },
    {
      "cell_type": "code",
      "metadata": {
        "id": "nPet7N_GpTQM",
        "outputId": "aa31102a-0192-4a4f-bf2a-af00888d26c3",
        "colab": {
          "base_uri": "https://localhost:8080/"
        }
      },
      "source": [
        "np.array([3.14, 2, 3, 4], dtype=np.float32)"
      ],
      "execution_count": 4,
      "outputs": [
        {
          "output_type": "execute_result",
          "data": {
            "text/plain": [
              "array([3.14, 2.  , 3.  , 4.  ], dtype=float32)"
            ]
          },
          "metadata": {
            "tags": []
          },
          "execution_count": 4
        }
      ]
    },
    {
      "cell_type": "code",
      "metadata": {
        "id": "HUNsOND-pd0j",
        "outputId": "0c1cdfd5-da7a-4992-ce21-c8058066aefc",
        "colab": {
          "base_uri": "https://localhost:8080/"
        }
      },
      "source": [
        "np.array([range(i, i + 3) for i in [2, 4, 6]])"
      ],
      "execution_count": 5,
      "outputs": [
        {
          "output_type": "execute_result",
          "data": {
            "text/plain": [
              "array([[2, 3, 4],\n",
              "       [4, 5, 6],\n",
              "       [6, 7, 8]])"
            ]
          },
          "metadata": {
            "tags": []
          },
          "execution_count": 5
        }
      ]
    },
    {
      "cell_type": "code",
      "metadata": {
        "id": "QEE0nlKgpsRv",
        "outputId": "e0d8df35-cc68-48df-ce58-2d1ed5a67333",
        "colab": {
          "base_uri": "https://localhost:8080/"
        }
      },
      "source": [
        "np.zeros(10, dtype=np.int)"
      ],
      "execution_count": 6,
      "outputs": [
        {
          "output_type": "execute_result",
          "data": {
            "text/plain": [
              "array([0, 0, 0, 0, 0, 0, 0, 0, 0, 0])"
            ]
          },
          "metadata": {
            "tags": []
          },
          "execution_count": 6
        }
      ]
    },
    {
      "cell_type": "code",
      "metadata": {
        "id": "xQIR2KT6pz0b",
        "outputId": "f46e8bad-b58a-4d9b-ab61-042af0bed7da",
        "colab": {
          "base_uri": "https://localhost:8080/"
        }
      },
      "source": [
        "np.ones((3, 5), dtype=np.float)"
      ],
      "execution_count": 7,
      "outputs": [
        {
          "output_type": "execute_result",
          "data": {
            "text/plain": [
              "array([[1., 1., 1., 1., 1.],\n",
              "       [1., 1., 1., 1., 1.],\n",
              "       [1., 1., 1., 1., 1.]])"
            ]
          },
          "metadata": {
            "tags": []
          },
          "execution_count": 7
        }
      ]
    },
    {
      "cell_type": "code",
      "metadata": {
        "id": "WpLvIzFFp3i0",
        "outputId": "9825156b-46ae-4747-df36-d53c9c757806",
        "colab": {
          "base_uri": "https://localhost:8080/"
        }
      },
      "source": [
        "np.full((3, 5), 3.14)"
      ],
      "execution_count": 8,
      "outputs": [
        {
          "output_type": "execute_result",
          "data": {
            "text/plain": [
              "array([[3.14, 3.14, 3.14, 3.14, 3.14],\n",
              "       [3.14, 3.14, 3.14, 3.14, 3.14],\n",
              "       [3.14, 3.14, 3.14, 3.14, 3.14]])"
            ]
          },
          "metadata": {
            "tags": []
          },
          "execution_count": 8
        }
      ]
    },
    {
      "cell_type": "code",
      "metadata": {
        "id": "AAY6DYNyqBUm",
        "outputId": "24f8f51d-0cdf-4f0a-cec9-9063344b46e5",
        "colab": {
          "base_uri": "https://localhost:8080/"
        }
      },
      "source": [
        "np.arange(0, 20, 2)"
      ],
      "execution_count": 9,
      "outputs": [
        {
          "output_type": "execute_result",
          "data": {
            "text/plain": [
              "array([ 0,  2,  4,  6,  8, 10, 12, 14, 16, 18])"
            ]
          },
          "metadata": {
            "tags": []
          },
          "execution_count": 9
        }
      ]
    },
    {
      "cell_type": "code",
      "metadata": {
        "id": "Ic3Oq_K1qHqu",
        "outputId": "e031ef5e-8da0-4351-8d64-f92369957464",
        "colab": {
          "base_uri": "https://localhost:8080/"
        }
      },
      "source": [
        "np.linspace(0, 1, 5)"
      ],
      "execution_count": 10,
      "outputs": [
        {
          "output_type": "execute_result",
          "data": {
            "text/plain": [
              "array([0.  , 0.25, 0.5 , 0.75, 1.  ])"
            ]
          },
          "metadata": {
            "tags": []
          },
          "execution_count": 10
        }
      ]
    },
    {
      "cell_type": "code",
      "metadata": {
        "id": "4NSaIKeJqMZG",
        "outputId": "aba5d754-e204-419d-ddca-08e5a4b6ae27",
        "colab": {
          "base_uri": "https://localhost:8080/"
        }
      },
      "source": [
        "np.random.random((3, 3))"
      ],
      "execution_count": 11,
      "outputs": [
        {
          "output_type": "execute_result",
          "data": {
            "text/plain": [
              "array([[0.10654637, 0.8380205 , 0.79110853],\n",
              "       [0.99511348, 0.51495398, 0.9801406 ],\n",
              "       [0.53429347, 0.22981916, 0.17028766]])"
            ]
          },
          "metadata": {
            "tags": []
          },
          "execution_count": 11
        }
      ]
    },
    {
      "cell_type": "code",
      "metadata": {
        "id": "n-Ch-CUBqRQc",
        "outputId": "234b0cf5-b174-4c97-e4b0-abcb0946bc1d",
        "colab": {
          "base_uri": "https://localhost:8080/"
        }
      },
      "source": [
        "np.random.normal(0, 1, (3, 3))"
      ],
      "execution_count": 12,
      "outputs": [
        {
          "output_type": "execute_result",
          "data": {
            "text/plain": [
              "array([[ 1.30323454,  0.77808831, -0.391327  ],\n",
              "       [-0.90359735,  1.01413012, -0.4482508 ],\n",
              "       [-0.39605603,  2.31205028, -0.94390426]])"
            ]
          },
          "metadata": {
            "tags": []
          },
          "execution_count": 12
        }
      ]
    },
    {
      "cell_type": "code",
      "metadata": {
        "id": "J301ybPTqVXd",
        "outputId": "3dc423ae-0876-417c-a55e-10996adb2c86",
        "colab": {
          "base_uri": "https://localhost:8080/"
        }
      },
      "source": [
        "np.random.randint(0, 10, (3, 3))"
      ],
      "execution_count": 13,
      "outputs": [
        {
          "output_type": "execute_result",
          "data": {
            "text/plain": [
              "array([[7, 0, 0],\n",
              "       [4, 8, 6],\n",
              "       [8, 3, 8]])"
            ]
          },
          "metadata": {
            "tags": []
          },
          "execution_count": 13
        }
      ]
    },
    {
      "cell_type": "code",
      "metadata": {
        "id": "vpcNz1SOqeZJ",
        "outputId": "e4d76dda-8881-408a-a713-aec9f2cf179d",
        "colab": {
          "base_uri": "https://localhost:8080/"
        }
      },
      "source": [
        "np.eye(2)"
      ],
      "execution_count": 14,
      "outputs": [
        {
          "output_type": "execute_result",
          "data": {
            "text/plain": [
              "array([[1., 0.],\n",
              "       [0., 1.]])"
            ]
          },
          "metadata": {
            "tags": []
          },
          "execution_count": 14
        }
      ]
    },
    {
      "cell_type": "code",
      "metadata": {
        "id": "s6XdhEraqhMv",
        "outputId": "49a614e3-9d11-42ad-ffe6-001892df79d6",
        "colab": {
          "base_uri": "https://localhost:8080/"
        }
      },
      "source": [
        "np.empty(3)"
      ],
      "execution_count": 15,
      "outputs": [
        {
          "output_type": "execute_result",
          "data": {
            "text/plain": [
              "array([0.75, 0.75, 0.  ])"
            ]
          },
          "metadata": {
            "tags": []
          },
          "execution_count": 15
        }
      ]
    },
    {
      "cell_type": "markdown",
      "metadata": {
        "id": "gjBWvpdbsL4n"
      },
      "source": [
        "# Intro to arrays"
      ]
    },
    {
      "cell_type": "code",
      "metadata": {
        "id": "LCwCBWTTqkbm"
      },
      "source": [
        "np.random.seed(0)\n",
        "\n",
        "x1 = np.random.randint(10, size=6)\n",
        "x2 = np.random.randint(10, size=(3, 4))\n",
        "x3 = np.random.randint(10, size=(3, 4, 5))"
      ],
      "execution_count": 16,
      "outputs": []
    },
    {
      "cell_type": "code",
      "metadata": {
        "id": "teAIGO0rsyw_",
        "outputId": "988f929c-3981-4ef3-bc0c-d3120b79ba61",
        "colab": {
          "base_uri": "https://localhost:8080/"
        }
      },
      "source": [
        "print(f\"x3 ndim: {x3.ndim}\")\n",
        "print(f\"x3 shape: {x3.shape}\")\n",
        "print(f\"x3 size: {x3.size}\")"
      ],
      "execution_count": 17,
      "outputs": [
        {
          "output_type": "stream",
          "text": [
            "x3 ndim: 3\n",
            "x3 shape: (3, 4, 5)\n",
            "x3 size: 60\n"
          ],
          "name": "stdout"
        }
      ]
    },
    {
      "cell_type": "code",
      "metadata": {
        "id": "4lBQ7sVjs9Sk",
        "outputId": "1c00eb26-075c-43ac-eae1-74536cba5f7d",
        "colab": {
          "base_uri": "https://localhost:8080/"
        }
      },
      "source": [
        "print(f\"dtype: {x3.dtype}\")"
      ],
      "execution_count": 18,
      "outputs": [
        {
          "output_type": "stream",
          "text": [
            "dtype: int64\n"
          ],
          "name": "stdout"
        }
      ]
    },
    {
      "cell_type": "code",
      "metadata": {
        "id": "Ta5uCmUitHVS",
        "outputId": "d183e425-ecc0-4a93-f21a-b6a43c0dd950",
        "colab": {
          "base_uri": "https://localhost:8080/"
        }
      },
      "source": [
        "print(f\"itemsize: {x3.itemsize} bytes\")\n",
        "print(f\"nbytes: {x3.nbytes} bytes\")"
      ],
      "execution_count": 19,
      "outputs": [
        {
          "output_type": "stream",
          "text": [
            "itemsize: 8 bytes\n",
            "nbytes: 480 bytes\n"
          ],
          "name": "stdout"
        }
      ]
    },
    {
      "cell_type": "markdown",
      "metadata": {
        "id": "2KT5KmMLturC"
      },
      "source": [
        "# Indexing arrays"
      ]
    },
    {
      "cell_type": "code",
      "metadata": {
        "id": "mdipMoWntr6J",
        "outputId": "cc3d6e96-448d-4615-9118-4a354aa1ac23",
        "colab": {
          "base_uri": "https://localhost:8080/"
        }
      },
      "source": [
        "x1"
      ],
      "execution_count": 20,
      "outputs": [
        {
          "output_type": "execute_result",
          "data": {
            "text/plain": [
              "array([5, 0, 3, 3, 7, 9])"
            ]
          },
          "metadata": {
            "tags": []
          },
          "execution_count": 20
        }
      ]
    },
    {
      "cell_type": "code",
      "metadata": {
        "id": "YnXemEWkt1YI",
        "outputId": "9ede3bc1-f9bb-4bb1-8127-42cd7973a348",
        "colab": {
          "base_uri": "https://localhost:8080/"
        }
      },
      "source": [
        "x1[0]"
      ],
      "execution_count": 21,
      "outputs": [
        {
          "output_type": "execute_result",
          "data": {
            "text/plain": [
              "5"
            ]
          },
          "metadata": {
            "tags": []
          },
          "execution_count": 21
        }
      ]
    },
    {
      "cell_type": "code",
      "metadata": {
        "id": "oFTLuyXGt2KS",
        "outputId": "5867ec4f-683e-4437-9080-68e3977cdcbe",
        "colab": {
          "base_uri": "https://localhost:8080/"
        }
      },
      "source": [
        "x1[4]"
      ],
      "execution_count": 22,
      "outputs": [
        {
          "output_type": "execute_result",
          "data": {
            "text/plain": [
              "7"
            ]
          },
          "metadata": {
            "tags": []
          },
          "execution_count": 22
        }
      ]
    },
    {
      "cell_type": "code",
      "metadata": {
        "id": "8y54-RkRt3bD",
        "outputId": "d77d0bff-f478-4047-ac1b-4b53e55d71ba",
        "colab": {
          "base_uri": "https://localhost:8080/"
        }
      },
      "source": [
        "x1[-1]"
      ],
      "execution_count": 23,
      "outputs": [
        {
          "output_type": "execute_result",
          "data": {
            "text/plain": [
              "9"
            ]
          },
          "metadata": {
            "tags": []
          },
          "execution_count": 23
        }
      ]
    },
    {
      "cell_type": "code",
      "metadata": {
        "id": "53Zg-uwlt5np",
        "outputId": "432b8fa8-7b19-4eb4-813c-dda49c733ea5",
        "colab": {
          "base_uri": "https://localhost:8080/"
        }
      },
      "source": [
        "x2"
      ],
      "execution_count": 24,
      "outputs": [
        {
          "output_type": "execute_result",
          "data": {
            "text/plain": [
              "array([[3, 5, 2, 4],\n",
              "       [7, 6, 8, 8],\n",
              "       [1, 6, 7, 7]])"
            ]
          },
          "metadata": {
            "tags": []
          },
          "execution_count": 24
        }
      ]
    },
    {
      "cell_type": "code",
      "metadata": {
        "id": "d4ftXrMnt7cD",
        "outputId": "94861f17-18c8-4e56-d0be-94d2a49a2ec7",
        "colab": {
          "base_uri": "https://localhost:8080/"
        }
      },
      "source": [
        "x2[0, 0]"
      ],
      "execution_count": 25,
      "outputs": [
        {
          "output_type": "execute_result",
          "data": {
            "text/plain": [
              "3"
            ]
          },
          "metadata": {
            "tags": []
          },
          "execution_count": 25
        }
      ]
    },
    {
      "cell_type": "code",
      "metadata": {
        "id": "jXgHcDgJt8iA",
        "outputId": "d2d2b071-5887-4f1d-cf81-06ad0587487b",
        "colab": {
          "base_uri": "https://localhost:8080/"
        }
      },
      "source": [
        "x2[2, 0]"
      ],
      "execution_count": 26,
      "outputs": [
        {
          "output_type": "execute_result",
          "data": {
            "text/plain": [
              "1"
            ]
          },
          "metadata": {
            "tags": []
          },
          "execution_count": 26
        }
      ]
    },
    {
      "cell_type": "code",
      "metadata": {
        "id": "BTHYzntNt-bA",
        "outputId": "9b2a2c4b-f49c-4a9b-fbe2-a5b46c6e0377",
        "colab": {
          "base_uri": "https://localhost:8080/"
        }
      },
      "source": [
        "x2[2, -1]"
      ],
      "execution_count": 27,
      "outputs": [
        {
          "output_type": "execute_result",
          "data": {
            "text/plain": [
              "7"
            ]
          },
          "metadata": {
            "tags": []
          },
          "execution_count": 27
        }
      ]
    },
    {
      "cell_type": "code",
      "metadata": {
        "id": "TFU_Q500uAIg",
        "outputId": "dbe02526-d2ba-4f43-c0ff-25b125548e06",
        "colab": {
          "base_uri": "https://localhost:8080/"
        }
      },
      "source": [
        "x2[0, 0] = 12\n",
        "x2"
      ],
      "execution_count": 28,
      "outputs": [
        {
          "output_type": "execute_result",
          "data": {
            "text/plain": [
              "array([[12,  5,  2,  4],\n",
              "       [ 7,  6,  8,  8],\n",
              "       [ 1,  6,  7,  7]])"
            ]
          },
          "metadata": {
            "tags": []
          },
          "execution_count": 28
        }
      ]
    },
    {
      "cell_type": "code",
      "metadata": {
        "id": "itd94ZhJuJNa"
      },
      "source": [
        "# One dimensional array"
      ],
      "execution_count": 29,
      "outputs": []
    },
    {
      "cell_type": "code",
      "metadata": {
        "id": "4OCYEBIHuEix",
        "outputId": "a6240267-8c02-4fa2-9a92-eaa4c248ffc2",
        "colab": {
          "base_uri": "https://localhost:8080/"
        }
      },
      "source": [
        "x = np.arange(10)\n",
        "x"
      ],
      "execution_count": 30,
      "outputs": [
        {
          "output_type": "execute_result",
          "data": {
            "text/plain": [
              "array([0, 1, 2, 3, 4, 5, 6, 7, 8, 9])"
            ]
          },
          "metadata": {
            "tags": []
          },
          "execution_count": 30
        }
      ]
    },
    {
      "cell_type": "code",
      "metadata": {
        "id": "eKOowwhVuQfX",
        "outputId": "f8f73852-ff2f-470f-d2ac-8292028506ca",
        "colab": {
          "base_uri": "https://localhost:8080/"
        }
      },
      "source": [
        "x[:5]"
      ],
      "execution_count": 31,
      "outputs": [
        {
          "output_type": "execute_result",
          "data": {
            "text/plain": [
              "array([0, 1, 2, 3, 4])"
            ]
          },
          "metadata": {
            "tags": []
          },
          "execution_count": 31
        }
      ]
    },
    {
      "cell_type": "code",
      "metadata": {
        "id": "g0du96WLuTCD",
        "outputId": "17901560-e176-44bb-a042-c32b122f2041",
        "colab": {
          "base_uri": "https://localhost:8080/"
        }
      },
      "source": [
        "x[5:]"
      ],
      "execution_count": 32,
      "outputs": [
        {
          "output_type": "execute_result",
          "data": {
            "text/plain": [
              "array([5, 6, 7, 8, 9])"
            ]
          },
          "metadata": {
            "tags": []
          },
          "execution_count": 32
        }
      ]
    },
    {
      "cell_type": "code",
      "metadata": {
        "id": "k0CA_nkpuUmk",
        "outputId": "3ebbe16a-75fd-4246-d877-90a741a54b61",
        "colab": {
          "base_uri": "https://localhost:8080/"
        }
      },
      "source": [
        "x[4:7]"
      ],
      "execution_count": 33,
      "outputs": [
        {
          "output_type": "execute_result",
          "data": {
            "text/plain": [
              "array([4, 5, 6])"
            ]
          },
          "metadata": {
            "tags": []
          },
          "execution_count": 33
        }
      ]
    },
    {
      "cell_type": "code",
      "metadata": {
        "id": "bplb9ayFuWcS",
        "outputId": "df1f1cdd-17ca-4e86-ce54-91dccb52b60a",
        "colab": {
          "base_uri": "https://localhost:8080/"
        }
      },
      "source": [
        "x[::2]"
      ],
      "execution_count": 34,
      "outputs": [
        {
          "output_type": "execute_result",
          "data": {
            "text/plain": [
              "array([0, 2, 4, 6, 8])"
            ]
          },
          "metadata": {
            "tags": []
          },
          "execution_count": 34
        }
      ]
    },
    {
      "cell_type": "code",
      "metadata": {
        "id": "Pc0MecIZubAz",
        "outputId": "d533e128-4b50-42c4-aec9-cf030533cd56",
        "colab": {
          "base_uri": "https://localhost:8080/"
        }
      },
      "source": [
        "x[1::2]"
      ],
      "execution_count": 35,
      "outputs": [
        {
          "output_type": "execute_result",
          "data": {
            "text/plain": [
              "array([1, 3, 5, 7, 9])"
            ]
          },
          "metadata": {
            "tags": []
          },
          "execution_count": 35
        }
      ]
    },
    {
      "cell_type": "code",
      "metadata": {
        "id": "G7dgHkuvucBn",
        "outputId": "ebb2c7e2-1390-4945-ec3e-58b18d1e8aef",
        "colab": {
          "base_uri": "https://localhost:8080/"
        }
      },
      "source": [
        "x[::-1]"
      ],
      "execution_count": 36,
      "outputs": [
        {
          "output_type": "execute_result",
          "data": {
            "text/plain": [
              "array([9, 8, 7, 6, 5, 4, 3, 2, 1, 0])"
            ]
          },
          "metadata": {
            "tags": []
          },
          "execution_count": 36
        }
      ]
    },
    {
      "cell_type": "code",
      "metadata": {
        "id": "PCGzXFM4ugDs",
        "outputId": "8eeaae77-3cd3-47a0-9f7d-7d1fa21f3aeb",
        "colab": {
          "base_uri": "https://localhost:8080/"
        }
      },
      "source": [
        "x[5::-1]"
      ],
      "execution_count": 37,
      "outputs": [
        {
          "output_type": "execute_result",
          "data": {
            "text/plain": [
              "array([5, 4, 3, 2, 1, 0])"
            ]
          },
          "metadata": {
            "tags": []
          },
          "execution_count": 37
        }
      ]
    },
    {
      "cell_type": "markdown",
      "metadata": {
        "id": "nrg0uHYGukgU"
      },
      "source": [
        "# High dimensional subarrays"
      ]
    },
    {
      "cell_type": "code",
      "metadata": {
        "id": "_kVBPmzPuhiV",
        "outputId": "04bb0f7d-bc9e-4206-fc8a-85785c46a33d",
        "colab": {
          "base_uri": "https://localhost:8080/"
        }
      },
      "source": [
        "x2"
      ],
      "execution_count": 38,
      "outputs": [
        {
          "output_type": "execute_result",
          "data": {
            "text/plain": [
              "array([[12,  5,  2,  4],\n",
              "       [ 7,  6,  8,  8],\n",
              "       [ 1,  6,  7,  7]])"
            ]
          },
          "metadata": {
            "tags": []
          },
          "execution_count": 38
        }
      ]
    },
    {
      "cell_type": "code",
      "metadata": {
        "id": "CiMeHySWunwL",
        "outputId": "e87784d7-1d56-4d74-9e3b-e178c9435a90",
        "colab": {
          "base_uri": "https://localhost:8080/"
        }
      },
      "source": [
        "x2[:2, :3]"
      ],
      "execution_count": 39,
      "outputs": [
        {
          "output_type": "execute_result",
          "data": {
            "text/plain": [
              "array([[12,  5,  2],\n",
              "       [ 7,  6,  8]])"
            ]
          },
          "metadata": {
            "tags": []
          },
          "execution_count": 39
        }
      ]
    },
    {
      "cell_type": "code",
      "metadata": {
        "id": "ZOr7Sz6ZupYA",
        "outputId": "01adf249-98a2-492d-b5ff-d52a19fa54fb",
        "colab": {
          "base_uri": "https://localhost:8080/"
        }
      },
      "source": [
        "x2[:3, ::2]"
      ],
      "execution_count": 40,
      "outputs": [
        {
          "output_type": "execute_result",
          "data": {
            "text/plain": [
              "array([[12,  2],\n",
              "       [ 7,  8],\n",
              "       [ 1,  7]])"
            ]
          },
          "metadata": {
            "tags": []
          },
          "execution_count": 40
        }
      ]
    },
    {
      "cell_type": "code",
      "metadata": {
        "id": "vrkWJjTYus39",
        "outputId": "62b814d8-b127-4f88-b100-f4fd0c099fd1",
        "colab": {
          "base_uri": "https://localhost:8080/"
        }
      },
      "source": [
        "x2[::-1, ::-1]"
      ],
      "execution_count": 41,
      "outputs": [
        {
          "output_type": "execute_result",
          "data": {
            "text/plain": [
              "array([[ 7,  7,  6,  1],\n",
              "       [ 8,  8,  6,  7],\n",
              "       [ 4,  2,  5, 12]])"
            ]
          },
          "metadata": {
            "tags": []
          },
          "execution_count": 41
        }
      ]
    },
    {
      "cell_type": "code",
      "metadata": {
        "id": "AdZV8kbXuwWA",
        "outputId": "f98f152a-d483-426e-8947-422ef8d23868",
        "colab": {
          "base_uri": "https://localhost:8080/"
        }
      },
      "source": [
        "print(x2[:, 0])"
      ],
      "execution_count": 42,
      "outputs": [
        {
          "output_type": "stream",
          "text": [
            "[12  7  1]\n"
          ],
          "name": "stdout"
        }
      ]
    },
    {
      "cell_type": "code",
      "metadata": {
        "id": "5-cHahFNu1rr",
        "outputId": "8f88bbdf-61e5-4a3f-ce02-cf0fe83ad436",
        "colab": {
          "base_uri": "https://localhost:8080/"
        }
      },
      "source": [
        "print(x2[0, :])"
      ],
      "execution_count": 43,
      "outputs": [
        {
          "output_type": "stream",
          "text": [
            "[12  5  2  4]\n"
          ],
          "name": "stdout"
        }
      ]
    },
    {
      "cell_type": "code",
      "metadata": {
        "id": "ORB75ey_u4Zv",
        "outputId": "158f1a1a-0f69-4723-a70c-be02a3e64891",
        "colab": {
          "base_uri": "https://localhost:8080/"
        }
      },
      "source": [
        "print(x2)"
      ],
      "execution_count": 44,
      "outputs": [
        {
          "output_type": "stream",
          "text": [
            "[[12  5  2  4]\n",
            " [ 7  6  8  8]\n",
            " [ 1  6  7  7]]\n"
          ],
          "name": "stdout"
        }
      ]
    },
    {
      "cell_type": "markdown",
      "metadata": {
        "id": "ZV9dVE6kvBuv"
      },
      "source": [
        "# Views"
      ]
    },
    {
      "cell_type": "code",
      "metadata": {
        "id": "lIJ5tRWzu659",
        "outputId": "7f855082-33ea-45e6-872f-6fa89bceefd2",
        "colab": {
          "base_uri": "https://localhost:8080/"
        }
      },
      "source": [
        "x2"
      ],
      "execution_count": 45,
      "outputs": [
        {
          "output_type": "execute_result",
          "data": {
            "text/plain": [
              "array([[12,  5,  2,  4],\n",
              "       [ 7,  6,  8,  8],\n",
              "       [ 1,  6,  7,  7]])"
            ]
          },
          "metadata": {
            "tags": []
          },
          "execution_count": 45
        }
      ]
    },
    {
      "cell_type": "code",
      "metadata": {
        "id": "JE4OUZnvvnHo",
        "outputId": "e8bbcbd4-e58a-4bd6-f823-ba4513b3f57b",
        "colab": {
          "base_uri": "https://localhost:8080/"
        }
      },
      "source": [
        "x2_sub = x2[:2, :2]\n",
        "x2_sub"
      ],
      "execution_count": 46,
      "outputs": [
        {
          "output_type": "execute_result",
          "data": {
            "text/plain": [
              "array([[12,  5],\n",
              "       [ 7,  6]])"
            ]
          },
          "metadata": {
            "tags": []
          },
          "execution_count": 46
        }
      ]
    },
    {
      "cell_type": "code",
      "metadata": {
        "id": "m2ckSklyvqz7",
        "outputId": "c95351a0-4b60-4727-d396-5e338ebe795f",
        "colab": {
          "base_uri": "https://localhost:8080/"
        }
      },
      "source": [
        "x2_sub[0, 0] = 99\n",
        "x2_sub"
      ],
      "execution_count": 47,
      "outputs": [
        {
          "output_type": "execute_result",
          "data": {
            "text/plain": [
              "array([[99,  5],\n",
              "       [ 7,  6]])"
            ]
          },
          "metadata": {
            "tags": []
          },
          "execution_count": 47
        }
      ]
    },
    {
      "cell_type": "code",
      "metadata": {
        "id": "pnbLLNS1vunR",
        "outputId": "39a7eef1-ad1b-4466-9355-0e0c0a96b1cd",
        "colab": {
          "base_uri": "https://localhost:8080/"
        }
      },
      "source": [
        "x2"
      ],
      "execution_count": 48,
      "outputs": [
        {
          "output_type": "execute_result",
          "data": {
            "text/plain": [
              "array([[99,  5,  2,  4],\n",
              "       [ 7,  6,  8,  8],\n",
              "       [ 1,  6,  7,  7]])"
            ]
          },
          "metadata": {
            "tags": []
          },
          "execution_count": 48
        }
      ]
    },
    {
      "cell_type": "markdown",
      "metadata": {
        "id": "jrG8HDLGv2MW"
      },
      "source": [
        "# Copies "
      ]
    },
    {
      "cell_type": "code",
      "metadata": {
        "id": "paj7OIzmvvc0"
      },
      "source": [
        "x2_sub_copy = x2[:2, :2].copy()"
      ],
      "execution_count": 49,
      "outputs": []
    },
    {
      "cell_type": "code",
      "metadata": {
        "id": "YFhpczUCv80j",
        "outputId": "9c0a63b7-2787-4f00-e2f0-d1a10fa53cb0",
        "colab": {
          "base_uri": "https://localhost:8080/"
        }
      },
      "source": [
        "x2_sub_copy[0, 0] = 42\n",
        "x2_sub_copy"
      ],
      "execution_count": 50,
      "outputs": [
        {
          "output_type": "execute_result",
          "data": {
            "text/plain": [
              "array([[42,  5],\n",
              "       [ 7,  6]])"
            ]
          },
          "metadata": {
            "tags": []
          },
          "execution_count": 50
        }
      ]
    },
    {
      "cell_type": "code",
      "metadata": {
        "id": "8SL04mdcwBcD",
        "outputId": "269b0c15-c07e-4b8f-9acd-916d80ab98b6",
        "colab": {
          "base_uri": "https://localhost:8080/"
        }
      },
      "source": [
        "x2"
      ],
      "execution_count": 51,
      "outputs": [
        {
          "output_type": "execute_result",
          "data": {
            "text/plain": [
              "array([[99,  5,  2,  4],\n",
              "       [ 7,  6,  8,  8],\n",
              "       [ 1,  6,  7,  7]])"
            ]
          },
          "metadata": {
            "tags": []
          },
          "execution_count": 51
        }
      ]
    },
    {
      "cell_type": "markdown",
      "metadata": {
        "id": "EY1JWSWCwD92"
      },
      "source": [
        "# Reshaping"
      ]
    },
    {
      "cell_type": "code",
      "metadata": {
        "id": "AC1iMHszwCAd",
        "outputId": "55c62286-b4a5-4f25-8496-8dcd872fb36f",
        "colab": {
          "base_uri": "https://localhost:8080/"
        }
      },
      "source": [
        "grid = np.arange(1, 10).reshape((3, 3))\n",
        "grid"
      ],
      "execution_count": 52,
      "outputs": [
        {
          "output_type": "execute_result",
          "data": {
            "text/plain": [
              "array([[1, 2, 3],\n",
              "       [4, 5, 6],\n",
              "       [7, 8, 9]])"
            ]
          },
          "metadata": {
            "tags": []
          },
          "execution_count": 52
        }
      ]
    },
    {
      "cell_type": "code",
      "metadata": {
        "id": "_S79KAyTwL5I"
      },
      "source": [
        "x = np.array([1, 2, 3])"
      ],
      "execution_count": 53,
      "outputs": []
    },
    {
      "cell_type": "code",
      "metadata": {
        "id": "lXyRS_ldwVSL",
        "outputId": "485c1615-bb67-4420-88e5-84f36e5ae0e7",
        "colab": {
          "base_uri": "https://localhost:8080/"
        }
      },
      "source": [
        "x.reshape((1, 3))"
      ],
      "execution_count": 54,
      "outputs": [
        {
          "output_type": "execute_result",
          "data": {
            "text/plain": [
              "array([[1, 2, 3]])"
            ]
          },
          "metadata": {
            "tags": []
          },
          "execution_count": 54
        }
      ]
    },
    {
      "cell_type": "code",
      "metadata": {
        "id": "NuOqlNwFwYUd",
        "outputId": "33b01565-45dc-4ef0-c0b6-96303f18145e",
        "colab": {
          "base_uri": "https://localhost:8080/"
        }
      },
      "source": [
        "x[np.newaxis, :]"
      ],
      "execution_count": 55,
      "outputs": [
        {
          "output_type": "execute_result",
          "data": {
            "text/plain": [
              "array([[1, 2, 3]])"
            ]
          },
          "metadata": {
            "tags": []
          },
          "execution_count": 55
        }
      ]
    },
    {
      "cell_type": "code",
      "metadata": {
        "id": "E6ylbcr3wbVh",
        "outputId": "f90be097-21f0-47fd-e13c-5724a3cc5da8",
        "colab": {
          "base_uri": "https://localhost:8080/"
        }
      },
      "source": [
        "x.reshape((3, 1))"
      ],
      "execution_count": 56,
      "outputs": [
        {
          "output_type": "execute_result",
          "data": {
            "text/plain": [
              "array([[1],\n",
              "       [2],\n",
              "       [3]])"
            ]
          },
          "metadata": {
            "tags": []
          },
          "execution_count": 56
        }
      ]
    },
    {
      "cell_type": "code",
      "metadata": {
        "id": "tqSuJX8cwfdD",
        "outputId": "d20d6080-414e-476a-eb9c-8a7412effa77",
        "colab": {
          "base_uri": "https://localhost:8080/"
        }
      },
      "source": [
        "x[:, np.newaxis]"
      ],
      "execution_count": 57,
      "outputs": [
        {
          "output_type": "execute_result",
          "data": {
            "text/plain": [
              "array([[1],\n",
              "       [2],\n",
              "       [3]])"
            ]
          },
          "metadata": {
            "tags": []
          },
          "execution_count": 57
        }
      ]
    },
    {
      "cell_type": "markdown",
      "metadata": {
        "id": "BuQgYtIxwkN2"
      },
      "source": [
        "# Merging and concatenation"
      ]
    },
    {
      "cell_type": "code",
      "metadata": {
        "id": "kszCBkc_whRF",
        "outputId": "f2697853-35fc-4472-c370-846383e5b1c3",
        "colab": {
          "base_uri": "https://localhost:8080/"
        }
      },
      "source": [
        "x = np.array([1, 2, 3])\n",
        "y = np.array([3, 2, 1])\n",
        "np.concatenate([x, y])"
      ],
      "execution_count": 58,
      "outputs": [
        {
          "output_type": "execute_result",
          "data": {
            "text/plain": [
              "array([1, 2, 3, 3, 2, 1])"
            ]
          },
          "metadata": {
            "tags": []
          },
          "execution_count": 58
        }
      ]
    },
    {
      "cell_type": "code",
      "metadata": {
        "id": "_YenCKJmw1Vv",
        "outputId": "99235493-b3d0-452d-83cd-765cf67a0019",
        "colab": {
          "base_uri": "https://localhost:8080/"
        }
      },
      "source": [
        "z = [99, 99, 99]\n",
        "np.concatenate([x, y, z])"
      ],
      "execution_count": 59,
      "outputs": [
        {
          "output_type": "execute_result",
          "data": {
            "text/plain": [
              "array([ 1,  2,  3,  3,  2,  1, 99, 99, 99])"
            ]
          },
          "metadata": {
            "tags": []
          },
          "execution_count": 59
        }
      ]
    },
    {
      "cell_type": "code",
      "metadata": {
        "id": "g1a_JwWNw7Tj"
      },
      "source": [
        "grid = np.array([[1, 2, 3],\n",
        "                 [4, 5, 5]])"
      ],
      "execution_count": 60,
      "outputs": []
    },
    {
      "cell_type": "code",
      "metadata": {
        "id": "Fd8m8fjKxD85",
        "outputId": "36b3c75e-71f9-47e4-b4c8-3ad331d41e2c",
        "colab": {
          "base_uri": "https://localhost:8080/"
        }
      },
      "source": [
        "np.concatenate([grid, grid])"
      ],
      "execution_count": 61,
      "outputs": [
        {
          "output_type": "execute_result",
          "data": {
            "text/plain": [
              "array([[1, 2, 3],\n",
              "       [4, 5, 5],\n",
              "       [1, 2, 3],\n",
              "       [4, 5, 5]])"
            ]
          },
          "metadata": {
            "tags": []
          },
          "execution_count": 61
        }
      ]
    },
    {
      "cell_type": "code",
      "metadata": {
        "id": "9WSz_9NQxGG6",
        "outputId": "8f22d123-25ff-491e-a400-9ca6b01178cd",
        "colab": {
          "base_uri": "https://localhost:8080/"
        }
      },
      "source": [
        "np.concatenate([grid, grid], axis=1)"
      ],
      "execution_count": 62,
      "outputs": [
        {
          "output_type": "execute_result",
          "data": {
            "text/plain": [
              "array([[1, 2, 3, 1, 2, 3],\n",
              "       [4, 5, 5, 4, 5, 5]])"
            ]
          },
          "metadata": {
            "tags": []
          },
          "execution_count": 62
        }
      ]
    },
    {
      "cell_type": "code",
      "metadata": {
        "id": "kaGqkKzRxM8V"
      },
      "source": [
        "x = np.array([1, 2, 3])\n",
        "grid = np.array([[9, 8, 7],\n",
        "                 [6, 5, 4]])"
      ],
      "execution_count": 63,
      "outputs": []
    },
    {
      "cell_type": "code",
      "metadata": {
        "id": "hoOBAegTxYdf",
        "outputId": "5ea7a1b8-234b-40d6-d1b8-f5c2e0e17092",
        "colab": {
          "base_uri": "https://localhost:8080/"
        }
      },
      "source": [
        "np.vstack([x, grid])"
      ],
      "execution_count": 64,
      "outputs": [
        {
          "output_type": "execute_result",
          "data": {
            "text/plain": [
              "array([[1, 2, 3],\n",
              "       [9, 8, 7],\n",
              "       [6, 5, 4]])"
            ]
          },
          "metadata": {
            "tags": []
          },
          "execution_count": 64
        }
      ]
    },
    {
      "cell_type": "code",
      "metadata": {
        "id": "GEcXL1vOxaqB",
        "outputId": "8e9cddfb-317a-4b9d-cb84-a0c56d69a53e",
        "colab": {
          "base_uri": "https://localhost:8080/"
        }
      },
      "source": [
        "np.vstack([grid, x])"
      ],
      "execution_count": 65,
      "outputs": [
        {
          "output_type": "execute_result",
          "data": {
            "text/plain": [
              "array([[9, 8, 7],\n",
              "       [6, 5, 4],\n",
              "       [1, 2, 3]])"
            ]
          },
          "metadata": {
            "tags": []
          },
          "execution_count": 65
        }
      ]
    },
    {
      "cell_type": "code",
      "metadata": {
        "id": "GXG88uUkxdDb",
        "outputId": "fc704f23-b91b-41a2-94c4-64a0f5e700ca",
        "colab": {
          "base_uri": "https://localhost:8080/"
        }
      },
      "source": [
        "y = np.array([[99], [99]])\n",
        "np.hstack([grid, y])"
      ],
      "execution_count": 66,
      "outputs": [
        {
          "output_type": "execute_result",
          "data": {
            "text/plain": [
              "array([[ 9,  8,  7, 99],\n",
              "       [ 6,  5,  4, 99]])"
            ]
          },
          "metadata": {
            "tags": []
          },
          "execution_count": 66
        }
      ]
    },
    {
      "cell_type": "code",
      "metadata": {
        "id": "xDzR0IVuxkxr",
        "outputId": "609ea887-6022-4f32-e804-82a6b7b57109",
        "colab": {
          "base_uri": "https://localhost:8080/"
        }
      },
      "source": [
        "x = [1, 2, 3, 99, 99, 3, 2, 1]\n",
        "x1, x2, x3 = np.split(x, [3, 5])\n",
        "x1, x2, x3"
      ],
      "execution_count": 67,
      "outputs": [
        {
          "output_type": "execute_result",
          "data": {
            "text/plain": [
              "(array([1, 2, 3]), array([99, 99]), array([3, 2, 1]))"
            ]
          },
          "metadata": {
            "tags": []
          },
          "execution_count": 67
        }
      ]
    },
    {
      "cell_type": "code",
      "metadata": {
        "id": "L-Rs990nx5Te",
        "outputId": "8c370b2f-e0c5-4770-82b3-ae5c223217b9",
        "colab": {
          "base_uri": "https://localhost:8080/"
        }
      },
      "source": [
        "grid = np.arange(16).reshape((4, 4))\n",
        "grid"
      ],
      "execution_count": 68,
      "outputs": [
        {
          "output_type": "execute_result",
          "data": {
            "text/plain": [
              "array([[ 0,  1,  2,  3],\n",
              "       [ 4,  5,  6,  7],\n",
              "       [ 8,  9, 10, 11],\n",
              "       [12, 13, 14, 15]])"
            ]
          },
          "metadata": {
            "tags": []
          },
          "execution_count": 68
        }
      ]
    },
    {
      "cell_type": "code",
      "metadata": {
        "id": "U0HKLu_VyBZ5",
        "outputId": "8e5e95cb-e0cc-4b36-a74e-d16294d5bea1",
        "colab": {
          "base_uri": "https://localhost:8080/"
        }
      },
      "source": [
        "upper, lower = np.vsplit(grid, [2])\n",
        "upper, lower"
      ],
      "execution_count": 69,
      "outputs": [
        {
          "output_type": "execute_result",
          "data": {
            "text/plain": [
              "(array([[0, 1, 2, 3],\n",
              "        [4, 5, 6, 7]]), array([[ 8,  9, 10, 11],\n",
              "        [12, 13, 14, 15]]))"
            ]
          },
          "metadata": {
            "tags": []
          },
          "execution_count": 69
        }
      ]
    },
    {
      "cell_type": "code",
      "metadata": {
        "id": "SpfZBi5TyGFt",
        "outputId": "a7fa3c0b-01b2-4c02-9a12-6897a7feb971",
        "colab": {
          "base_uri": "https://localhost:8080/"
        }
      },
      "source": [
        "left, right = np.hsplit(grid, [2])\n",
        "left, right"
      ],
      "execution_count": 70,
      "outputs": [
        {
          "output_type": "execute_result",
          "data": {
            "text/plain": [
              "(array([[ 0,  1],\n",
              "        [ 4,  5],\n",
              "        [ 8,  9],\n",
              "        [12, 13]]), array([[ 2,  3],\n",
              "        [ 6,  7],\n",
              "        [10, 11],\n",
              "        [14, 15]]))"
            ]
          },
          "metadata": {
            "tags": []
          },
          "execution_count": 70
        }
      ]
    },
    {
      "cell_type": "markdown",
      "metadata": {
        "id": "73HwC-FQySFo"
      },
      "source": [
        "# UFuncs"
      ]
    },
    {
      "cell_type": "code",
      "metadata": {
        "id": "lQQCm5cryOyd"
      },
      "source": [
        "def compute_reciprocals(values):\n",
        "    output = np.empty(len(values))\n",
        "    for i in range(len(values)):\n",
        "        output[i] = 1. / values[i]\n",
        "    return output"
      ],
      "execution_count": 71,
      "outputs": []
    },
    {
      "cell_type": "code",
      "metadata": {
        "id": "K_H7bCGyysGy",
        "outputId": "f1c4d45c-1f78-450d-bd9e-75d24f2f2983",
        "colab": {
          "base_uri": "https://localhost:8080/"
        }
      },
      "source": [
        "values = np.random.randint(1, 10, size=5)\n",
        "compute_reciprocals(values)"
      ],
      "execution_count": 72,
      "outputs": [
        {
          "output_type": "execute_result",
          "data": {
            "text/plain": [
              "array([0.2       , 0.25      , 0.2       , 0.2       , 0.11111111])"
            ]
          },
          "metadata": {
            "tags": []
          },
          "execution_count": 72
        }
      ]
    },
    {
      "cell_type": "code",
      "metadata": {
        "id": "-jfJrD5ayxrz",
        "outputId": "376f8375-b173-4ea9-955c-916aa140ac33",
        "colab": {
          "base_uri": "https://localhost:8080/"
        }
      },
      "source": [
        "big_array = np.random.randint(1, 100, size=1000000)\n",
        "%timeit compute_reciprocals(big_array)"
      ],
      "execution_count": 73,
      "outputs": [
        {
          "output_type": "stream",
          "text": [
            "1 loop, best of 3: 2.53 s per loop\n"
          ],
          "name": "stdout"
        }
      ]
    },
    {
      "cell_type": "code",
      "metadata": {
        "id": "McNx7R_2y8uf",
        "outputId": "18ac7ab3-5141-4de5-9e14-a3b10843e278",
        "colab": {
          "base_uri": "https://localhost:8080/"
        }
      },
      "source": [
        "print(compute_reciprocals(values))\n",
        "print(1. / values)"
      ],
      "execution_count": 74,
      "outputs": [
        {
          "output_type": "stream",
          "text": [
            "[0.2        0.25       0.2        0.2        0.11111111]\n",
            "[0.2        0.25       0.2        0.2        0.11111111]\n"
          ],
          "name": "stdout"
        }
      ]
    },
    {
      "cell_type": "code",
      "metadata": {
        "id": "hOQz2egpzNWi",
        "outputId": "bd54d6a8-8e61-4bc8-c20f-569241dc10a5",
        "colab": {
          "base_uri": "https://localhost:8080/"
        }
      },
      "source": [
        "%timeit 1. / big_array"
      ],
      "execution_count": 75,
      "outputs": [
        {
          "output_type": "stream",
          "text": [
            "100 loops, best of 3: 3.22 ms per loop\n"
          ],
          "name": "stdout"
        }
      ]
    },
    {
      "cell_type": "code",
      "metadata": {
        "id": "xCUG8b-EzSNm",
        "outputId": "ce703935-cf98-4673-a444-8bf9e2382d6d",
        "colab": {
          "base_uri": "https://localhost:8080/"
        }
      },
      "source": [
        "np.arange(5) / np.arange(1, 6)"
      ],
      "execution_count": 76,
      "outputs": [
        {
          "output_type": "execute_result",
          "data": {
            "text/plain": [
              "array([0.        , 0.5       , 0.66666667, 0.75      , 0.8       ])"
            ]
          },
          "metadata": {
            "tags": []
          },
          "execution_count": 76
        }
      ]
    },
    {
      "cell_type": "code",
      "metadata": {
        "id": "Nf1efRTYzZCC",
        "outputId": "a79c2bd4-f72c-4eb1-a5a7-f386170a955a",
        "colab": {
          "base_uri": "https://localhost:8080/"
        }
      },
      "source": [
        "x = np.arange(9).reshape((3, 3))\n",
        "2 ** x"
      ],
      "execution_count": 77,
      "outputs": [
        {
          "output_type": "execute_result",
          "data": {
            "text/plain": [
              "array([[  1,   2,   4],\n",
              "       [  8,  16,  32],\n",
              "       [ 64, 128, 256]])"
            ]
          },
          "metadata": {
            "tags": []
          },
          "execution_count": 77
        }
      ]
    },
    {
      "cell_type": "code",
      "metadata": {
        "id": "mqMSUAPwze23",
        "outputId": "bc30cd7a-4e90-4493-8575-7bf6ce75b7b4",
        "colab": {
          "base_uri": "https://localhost:8080/"
        }
      },
      "source": [
        "x = np.arange(4)\n",
        "print(f\"x     = {x}\")\n",
        "print(f\"x + 5 = {x + 5}\")\n",
        "print(f\"x - 5 = {x - 5}\")\n",
        "print(f\"x / 2 = {x / 2}\")\n",
        "print(f\"x // 2 = {x // 2}\")"
      ],
      "execution_count": 78,
      "outputs": [
        {
          "output_type": "stream",
          "text": [
            "x     = [0 1 2 3]\n",
            "x + 5 = [5 6 7 8]\n",
            "x - 5 = [-5 -4 -3 -2]\n",
            "x / 2 = [0.  0.5 1.  1.5]\n",
            "x // 2 = [0 0 1 1]\n"
          ],
          "name": "stdout"
        }
      ]
    },
    {
      "cell_type": "code",
      "metadata": {
        "id": "qbHWxQK8z2fv",
        "outputId": "e39c5ad9-8f53-4543-8ea8-da89e84fcd80",
        "colab": {
          "base_uri": "https://localhost:8080/"
        }
      },
      "source": [
        "print(f\"-x    = {-x}\")\n",
        "print(f\"x ** 2= {x ** 2}\")\n",
        "print(f\"x % 2 = {x % 2}\")"
      ],
      "execution_count": 79,
      "outputs": [
        {
          "output_type": "stream",
          "text": [
            "-x    = [ 0 -1 -2 -3]\n",
            "x ** 2= [0 1 4 9]\n",
            "x % 2 = [0 1 0 1]\n"
          ],
          "name": "stdout"
        }
      ]
    },
    {
      "cell_type": "code",
      "metadata": {
        "id": "uRmQpMcQ0GxY",
        "outputId": "46af9296-ab04-4c45-d929-b824879d7b37",
        "colab": {
          "base_uri": "https://localhost:8080/"
        }
      },
      "source": [
        "-(0.5 * x + 1) ** 2"
      ],
      "execution_count": 80,
      "outputs": [
        {
          "output_type": "execute_result",
          "data": {
            "text/plain": [
              "array([-1.  , -2.25, -4.  , -6.25])"
            ]
          },
          "metadata": {
            "tags": []
          },
          "execution_count": 80
        }
      ]
    },
    {
      "cell_type": "code",
      "metadata": {
        "id": "FSAI-dmr0MLu",
        "outputId": "e80c8121-71aa-4415-e765-c1b6e7afb79d",
        "colab": {
          "base_uri": "https://localhost:8080/"
        }
      },
      "source": [
        "x = np.array([-2, -1, 0, 1, 2])\n",
        "abs(x)"
      ],
      "execution_count": 81,
      "outputs": [
        {
          "output_type": "execute_result",
          "data": {
            "text/plain": [
              "array([2, 1, 0, 1, 2])"
            ]
          },
          "metadata": {
            "tags": []
          },
          "execution_count": 81
        }
      ]
    },
    {
      "cell_type": "code",
      "metadata": {
        "id": "n-rjTS-B0YSl",
        "outputId": "3632bcd2-f619-425c-a5d2-8a48f7c04477",
        "colab": {
          "base_uri": "https://localhost:8080/"
        }
      },
      "source": [
        "np.absolute(x)"
      ],
      "execution_count": 82,
      "outputs": [
        {
          "output_type": "execute_result",
          "data": {
            "text/plain": [
              "array([2, 1, 0, 1, 2])"
            ]
          },
          "metadata": {
            "tags": []
          },
          "execution_count": 82
        }
      ]
    },
    {
      "cell_type": "code",
      "metadata": {
        "id": "lckt6zWO0Z_l",
        "outputId": "ad7957a3-9316-4836-e6d1-7faf8293b13d",
        "colab": {
          "base_uri": "https://localhost:8080/"
        }
      },
      "source": [
        "np.abs(x)"
      ],
      "execution_count": 83,
      "outputs": [
        {
          "output_type": "execute_result",
          "data": {
            "text/plain": [
              "array([2, 1, 0, 1, 2])"
            ]
          },
          "metadata": {
            "tags": []
          },
          "execution_count": 83
        }
      ]
    },
    {
      "cell_type": "code",
      "metadata": {
        "id": "vcLs3d6z0bfJ",
        "outputId": "ed1c5b4f-75eb-43e0-82b7-a5aeb0494379",
        "colab": {
          "base_uri": "https://localhost:8080/"
        }
      },
      "source": [
        "x = np.array([3 - 4j, 4 - 3j, 2 + 0j, 0 + 1j])\n",
        "np.abs(x)"
      ],
      "execution_count": 84,
      "outputs": [
        {
          "output_type": "execute_result",
          "data": {
            "text/plain": [
              "array([5., 5., 2., 1.])"
            ]
          },
          "metadata": {
            "tags": []
          },
          "execution_count": 84
        }
      ]
    },
    {
      "cell_type": "code",
      "metadata": {
        "id": "Bl2hfrRi0kKX",
        "outputId": "f18e41e1-d2f1-4c3d-8567-08c8b62aa09f",
        "colab": {
          "base_uri": "https://localhost:8080/"
        }
      },
      "source": [
        "theta = np.linspace(0, np.pi, 3)\n",
        "theta"
      ],
      "execution_count": 85,
      "outputs": [
        {
          "output_type": "execute_result",
          "data": {
            "text/plain": [
              "array([0.        , 1.57079633, 3.14159265])"
            ]
          },
          "metadata": {
            "tags": []
          },
          "execution_count": 85
        }
      ]
    },
    {
      "cell_type": "code",
      "metadata": {
        "id": "AEWDgWGi0q3q",
        "outputId": "33a527b4-b71f-469b-9f99-3609b8b3e27b",
        "colab": {
          "base_uri": "https://localhost:8080/"
        }
      },
      "source": [
        "print(f\"theta = {theta}\")\n",
        "print(f\"sin(theta) = {np.sin(theta)}\")\n",
        "print(f\"cos(theta) = {np.cos(theta)}\")\n",
        "print(f\"tan(theta) = {np.tan(theta)}\")"
      ],
      "execution_count": 86,
      "outputs": [
        {
          "output_type": "stream",
          "text": [
            "theta = [0.         1.57079633 3.14159265]\n",
            "sin(theta) = [0.0000000e+00 1.0000000e+00 1.2246468e-16]\n",
            "cos(theta) = [ 1.000000e+00  6.123234e-17 -1.000000e+00]\n",
            "tan(theta) = [ 0.00000000e+00  1.63312394e+16 -1.22464680e-16]\n"
          ],
          "name": "stdout"
        }
      ]
    },
    {
      "cell_type": "code",
      "metadata": {
        "id": "DamQyY-M07iU",
        "outputId": "86a29aad-15a0-4a6f-95eb-1f3fc6f0d5c8",
        "colab": {
          "base_uri": "https://localhost:8080/"
        }
      },
      "source": [
        "x = [-1, 0, 1]\n",
        "print(f\"x = {x}\")\n",
        "print(f\"arcsin(x) = {np.arcsin(x)}\")\n",
        "print(f\"arccos(x) = {np.arccos(x)}\")\n",
        "print(f\"arctan(x) = {np.arctan(x)}\")"
      ],
      "execution_count": 87,
      "outputs": [
        {
          "output_type": "stream",
          "text": [
            "x = [-1, 0, 1]\n",
            "arcsin(x) = [-1.57079633  0.          1.57079633]\n",
            "arccos(x) = [3.14159265 1.57079633 0.        ]\n",
            "arctan(x) = [-0.78539816  0.          0.78539816]\n"
          ],
          "name": "stdout"
        }
      ]
    },
    {
      "cell_type": "code",
      "metadata": {
        "id": "ssplpAwH1Vd4",
        "outputId": "bcedef24-3aa0-4dc3-95ea-fba650e79d03",
        "colab": {
          "base_uri": "https://localhost:8080/"
        }
      },
      "source": [
        "x = [1, 2, 3]\n",
        "print(f\"x = {x}\")\n",
        "print(f\"e ^ x = {np.exp(x)}\")\n",
        "print(f\"2 ^ x = {np.exp2(x)}\")\n",
        "print(f\"3 ^ x = {np.power(3, x)}\")"
      ],
      "execution_count": 88,
      "outputs": [
        {
          "output_type": "stream",
          "text": [
            "x = [1, 2, 3]\n",
            "e ^ x = [ 2.71828183  7.3890561  20.08553692]\n",
            "2 ^ x = [2. 4. 8.]\n",
            "3 ^ x = [ 3  9 27]\n"
          ],
          "name": "stdout"
        }
      ]
    },
    {
      "cell_type": "code",
      "metadata": {
        "id": "nPv903Ww1rHe",
        "outputId": "35598975-e369-419c-eec3-bbf889bd4c1f",
        "colab": {
          "base_uri": "https://localhost:8080/"
        }
      },
      "source": [
        "x = [1, 2, 4, 10]\n",
        "print(f\"x = {x}\")\n",
        "print(f\"ln(x) = {np.log(x)}\")\n",
        "print(f\"log2(x) = {np.log2(x)}\")\n",
        "print(f\"log10(x) = {np.log10(x)}\")"
      ],
      "execution_count": 89,
      "outputs": [
        {
          "output_type": "stream",
          "text": [
            "x = [1, 2, 4, 10]\n",
            "ln(x) = [0.         0.69314718 1.38629436 2.30258509]\n",
            "log2(x) = [0.         1.         2.         3.32192809]\n",
            "log10(x) = [0.         0.30103    0.60205999 1.        ]\n"
          ],
          "name": "stdout"
        }
      ]
    },
    {
      "cell_type": "code",
      "metadata": {
        "id": "PvRh9AA-2Gb0",
        "outputId": "00f1102f-87a0-4a09-a915-9240365bee8e",
        "colab": {
          "base_uri": "https://localhost:8080/"
        }
      },
      "source": [
        "x = [0, 0.001, 0.01, 0.1]\n",
        "print(f\"exp(x) - 1 {np.expm1(x)}\")\n",
        "print(f\"log(1 + x) - 1 {np.log1p(x)}\")"
      ],
      "execution_count": 90,
      "outputs": [
        {
          "output_type": "stream",
          "text": [
            "exp(x) - 1 [0.         0.0010005  0.01005017 0.10517092]\n",
            "log(1 + x) - 1 [0.         0.0009995  0.00995033 0.09531018]\n"
          ],
          "name": "stdout"
        }
      ]
    },
    {
      "cell_type": "markdown",
      "metadata": {
        "id": "XGysqSyi7T6e"
      },
      "source": [
        "# SciPy special functions"
      ]
    },
    {
      "cell_type": "code",
      "metadata": {
        "id": "4xvCds6p5oI6"
      },
      "source": [
        "from scipy import special"
      ],
      "execution_count": 91,
      "outputs": []
    },
    {
      "cell_type": "code",
      "metadata": {
        "id": "miNbmb8D7c3D",
        "outputId": "bb8515b0-830e-4cc8-b011-5005101edb2d",
        "colab": {
          "base_uri": "https://localhost:8080/"
        }
      },
      "source": [
        "x = [1, 5, 10]\n",
        "print(f\"gamma(x) = {special.gamma(x)}\")\n",
        "print(f\"ln|gamma(x)| = {special.gammaln(x)}\")\n",
        "print(f\"beta(x) = {special.beta(x, 2)}\")"
      ],
      "execution_count": 92,
      "outputs": [
        {
          "output_type": "stream",
          "text": [
            "gamma(x) = [1.0000e+00 2.4000e+01 3.6288e+05]\n",
            "ln|gamma(x)| = [ 0.          3.17805383 12.80182748]\n",
            "beta(x) = [0.5        0.03333333 0.00909091]\n"
          ],
          "name": "stdout"
        }
      ]
    },
    {
      "cell_type": "code",
      "metadata": {
        "id": "bu08_-qz7mGN",
        "outputId": "0a7ddd37-1c6d-4ea4-8547-1edf84548331",
        "colab": {
          "base_uri": "https://localhost:8080/"
        }
      },
      "source": [
        "x = np.array([0, 0.3, 0.7, 1.])\n",
        "print(f\"erf(x) = {special.erf(x)}\")\n",
        "print(f\"erfc(x) = {special.erfc(x)}\")\n",
        "print(f\"erfinv(x) = {special.erfinv(x)}\")"
      ],
      "execution_count": 93,
      "outputs": [
        {
          "output_type": "stream",
          "text": [
            "erf(x) = [0.         0.32862676 0.67780119 0.84270079]\n",
            "erfc(x) = [1.         0.67137324 0.32219881 0.15729921]\n",
            "erfinv(x) = [0.         0.27246271 0.73286908        inf]\n"
          ],
          "name": "stdout"
        }
      ]
    },
    {
      "cell_type": "markdown",
      "metadata": {
        "id": "Gd9Bo4Y58Agk"
      },
      "source": [
        "# UFuncs advanced capabilities"
      ]
    },
    {
      "cell_type": "code",
      "metadata": {
        "id": "dpO2esWT79-O",
        "outputId": "86403c33-6535-43f7-b2de-23d9ae3dfb9c",
        "colab": {
          "base_uri": "https://localhost:8080/"
        }
      },
      "source": [
        "x = np.arange(5)\n",
        "y = np.empty(5)\n",
        "np.multiply(x, 10, out=y)\n",
        "print(y)"
      ],
      "execution_count": 94,
      "outputs": [
        {
          "output_type": "stream",
          "text": [
            "[ 0. 10. 20. 30. 40.]\n"
          ],
          "name": "stdout"
        }
      ]
    },
    {
      "cell_type": "code",
      "metadata": {
        "id": "PlRU1c8p8OAy",
        "outputId": "c9bc19fe-1a96-4fb7-eb5b-bd2ecb98f637",
        "colab": {
          "base_uri": "https://localhost:8080/"
        }
      },
      "source": [
        "y = np.zeros(10)\n",
        "np.power(2, x, out=y[::2])\n",
        "y"
      ],
      "execution_count": 95,
      "outputs": [
        {
          "output_type": "execute_result",
          "data": {
            "text/plain": [
              "array([ 1.,  0.,  2.,  0.,  4.,  0.,  8.,  0., 16.,  0.])"
            ]
          },
          "metadata": {
            "tags": []
          },
          "execution_count": 95
        }
      ]
    },
    {
      "cell_type": "code",
      "metadata": {
        "id": "GeQzAIYF8aez",
        "outputId": "1edc6f9f-80a5-435a-ed7c-c44a263b848f",
        "colab": {
          "base_uri": "https://localhost:8080/"
        }
      },
      "source": [
        "x = np.arange(1, 6)\n",
        "np.add.reduce(x)"
      ],
      "execution_count": 96,
      "outputs": [
        {
          "output_type": "execute_result",
          "data": {
            "text/plain": [
              "15"
            ]
          },
          "metadata": {
            "tags": []
          },
          "execution_count": 96
        }
      ]
    },
    {
      "cell_type": "code",
      "metadata": {
        "id": "M5pA6Zat8k_9",
        "outputId": "6dbbc645-6a6e-4f1f-d9b7-8fabbbad7e62",
        "colab": {
          "base_uri": "https://localhost:8080/"
        }
      },
      "source": [
        "np.multiply.reduce(x)"
      ],
      "execution_count": 97,
      "outputs": [
        {
          "output_type": "execute_result",
          "data": {
            "text/plain": [
              "120"
            ]
          },
          "metadata": {
            "tags": []
          },
          "execution_count": 97
        }
      ]
    },
    {
      "cell_type": "code",
      "metadata": {
        "id": "-uloXGOt8n6B",
        "outputId": "34bbe80a-1b78-4da3-835e-907a88181e99",
        "colab": {
          "base_uri": "https://localhost:8080/"
        }
      },
      "source": [
        "np.add.accumulate(x)"
      ],
      "execution_count": 98,
      "outputs": [
        {
          "output_type": "execute_result",
          "data": {
            "text/plain": [
              "array([ 1,  3,  6, 10, 15])"
            ]
          },
          "metadata": {
            "tags": []
          },
          "execution_count": 98
        }
      ]
    },
    {
      "cell_type": "code",
      "metadata": {
        "id": "9Nv2cqiZ85XP",
        "outputId": "cac20ca0-e46c-4d45-8354-e63e2a1e7a3b",
        "colab": {
          "base_uri": "https://localhost:8080/"
        }
      },
      "source": [
        "np.multiply.accumulate(x)"
      ],
      "execution_count": 99,
      "outputs": [
        {
          "output_type": "execute_result",
          "data": {
            "text/plain": [
              "array([  1,   2,   6,  24, 120])"
            ]
          },
          "metadata": {
            "tags": []
          },
          "execution_count": 99
        }
      ]
    },
    {
      "cell_type": "markdown",
      "metadata": {
        "id": "c4PAJWPU9Qli"
      },
      "source": [
        "# Outer multiplications"
      ]
    },
    {
      "cell_type": "code",
      "metadata": {
        "id": "_Ruv6fDH87Rr",
        "outputId": "de2a895f-feaf-43c8-a953-b75b43ee3b7a",
        "colab": {
          "base_uri": "https://localhost:8080/"
        }
      },
      "source": [
        "x = np.arange(1, 6)\n",
        "np.multiply.outer(x, x)"
      ],
      "execution_count": 100,
      "outputs": [
        {
          "output_type": "execute_result",
          "data": {
            "text/plain": [
              "array([[ 1,  2,  3,  4,  5],\n",
              "       [ 2,  4,  6,  8, 10],\n",
              "       [ 3,  6,  9, 12, 15],\n",
              "       [ 4,  8, 12, 16, 20],\n",
              "       [ 5, 10, 15, 20, 25]])"
            ]
          },
          "metadata": {
            "tags": []
          },
          "execution_count": 100
        }
      ]
    },
    {
      "cell_type": "markdown",
      "metadata": {
        "id": "xwsxSUhe-Y4E"
      },
      "source": [
        "# Aggregation"
      ]
    },
    {
      "cell_type": "code",
      "metadata": {
        "id": "0T6b-qkW93-9",
        "outputId": "064b7003-7a9a-4383-f59e-109ce9851a84",
        "colab": {
          "base_uri": "https://localhost:8080/"
        }
      },
      "source": [
        "L = np.random.random(100)\n",
        "sum(L)"
      ],
      "execution_count": 101,
      "outputs": [
        {
          "output_type": "execute_result",
          "data": {
            "text/plain": [
              "50.73500601909061"
            ]
          },
          "metadata": {
            "tags": []
          },
          "execution_count": 101
        }
      ]
    },
    {
      "cell_type": "code",
      "metadata": {
        "id": "SqPtxauw-0R6",
        "outputId": "3d6db986-b825-47e2-c70a-eb87fec7ca6e",
        "colab": {
          "base_uri": "https://localhost:8080/"
        }
      },
      "source": [
        "np.sum(L)"
      ],
      "execution_count": 102,
      "outputs": [
        {
          "output_type": "execute_result",
          "data": {
            "text/plain": [
              "50.73500601909062"
            ]
          },
          "metadata": {
            "tags": []
          },
          "execution_count": 102
        }
      ]
    },
    {
      "cell_type": "code",
      "metadata": {
        "id": "KNgUeYSt-2W2",
        "outputId": "6aaafddd-9092-494b-859c-08de14dae5ad",
        "colab": {
          "base_uri": "https://localhost:8080/"
        }
      },
      "source": [
        "big_array = np.random.randn(10_000_000)\n",
        "%timeit sum(big_array)\n",
        "%timeit np.sum(big_array)"
      ],
      "execution_count": 103,
      "outputs": [
        {
          "output_type": "stream",
          "text": [
            "1 loop, best of 3: 1.65 s per loop\n",
            "100 loops, best of 3: 7.96 ms per loop\n"
          ],
          "name": "stdout"
        }
      ]
    },
    {
      "cell_type": "code",
      "metadata": {
        "id": "p-JKTLq9_CA7",
        "outputId": "0f8dc001-947e-4773-faf0-97b3b8a749e9",
        "colab": {
          "base_uri": "https://localhost:8080/"
        }
      },
      "source": [
        "np.min(big_array), np.max(big_array)"
      ],
      "execution_count": 104,
      "outputs": [
        {
          "output_type": "execute_result",
          "data": {
            "text/plain": [
              "(-5.519058742661344, 5.0905546431168025)"
            ]
          },
          "metadata": {
            "tags": []
          },
          "execution_count": 104
        }
      ]
    },
    {
      "cell_type": "code",
      "metadata": {
        "id": "eA30uW7Y_eVm",
        "outputId": "c96d8be5-c09b-4b9d-87f5-f0d23fa2aae6",
        "colab": {
          "base_uri": "https://localhost:8080/"
        }
      },
      "source": [
        "big_array.mean(), big_array.std()"
      ],
      "execution_count": 105,
      "outputs": [
        {
          "output_type": "execute_result",
          "data": {
            "text/plain": [
              "(0.00012640956399940703, 0.9997170248320874)"
            ]
          },
          "metadata": {
            "tags": []
          },
          "execution_count": 105
        }
      ]
    },
    {
      "cell_type": "code",
      "metadata": {
        "id": "i4xVxrkW_poS",
        "outputId": "f8bf5a9f-faed-43b7-d195-d94a588b4dd5",
        "colab": {
          "base_uri": "https://localhost:8080/"
        }
      },
      "source": [
        "M = np.random.random((3, 4))\n",
        "M"
      ],
      "execution_count": 106,
      "outputs": [
        {
          "output_type": "execute_result",
          "data": {
            "text/plain": [
              "array([[0.44486765, 0.33398761, 0.21245956, 0.42350643],\n",
              "       [0.03775435, 0.56337557, 0.31109223, 0.1878107 ],\n",
              "       [0.73993205, 0.39714098, 0.72909336, 0.56618958]])"
            ]
          },
          "metadata": {
            "tags": []
          },
          "execution_count": 106
        }
      ]
    },
    {
      "cell_type": "code",
      "metadata": {
        "id": "1nNwBDQoACn0",
        "outputId": "7fb2b0b9-5511-4ae1-9fcf-d6fb9cefd531",
        "colab": {
          "base_uri": "https://localhost:8080/"
        }
      },
      "source": [
        "M.sum()"
      ],
      "execution_count": 107,
      "outputs": [
        {
          "output_type": "execute_result",
          "data": {
            "text/plain": [
              "4.947210049273457"
            ]
          },
          "metadata": {
            "tags": []
          },
          "execution_count": 107
        }
      ]
    },
    {
      "cell_type": "code",
      "metadata": {
        "id": "rVs1j7ADALCp",
        "outputId": "5f872ba3-c20a-41b3-ba21-8cd60aa14eee",
        "colab": {
          "base_uri": "https://localhost:8080/"
        }
      },
      "source": [
        "M.min(axis=1)"
      ],
      "execution_count": 108,
      "outputs": [
        {
          "output_type": "execute_result",
          "data": {
            "text/plain": [
              "array([0.21245956, 0.03775435, 0.39714098])"
            ]
          },
          "metadata": {
            "tags": []
          },
          "execution_count": 108
        }
      ]
    },
    {
      "cell_type": "code",
      "metadata": {
        "id": "3MVkw2D7ANkV",
        "outputId": "94676fd0-1ff5-46b7-9f0e-1ad43fbc8b12",
        "colab": {
          "base_uri": "https://localhost:8080/"
        }
      },
      "source": [
        "M.min(axis=0)"
      ],
      "execution_count": 109,
      "outputs": [
        {
          "output_type": "execute_result",
          "data": {
            "text/plain": [
              "array([0.03775435, 0.33398761, 0.21245956, 0.1878107 ])"
            ]
          },
          "metadata": {
            "tags": []
          },
          "execution_count": 109
        }
      ]
    },
    {
      "cell_type": "markdown",
      "metadata": {
        "id": "jU2K1pvSAltc"
      },
      "source": [
        "# Example average height of USA presidents"
      ]
    },
    {
      "cell_type": "code",
      "metadata": {
        "id": "78aV1rFuARE_",
        "outputId": "0c445814-2107-4f86-c6cc-d3ea87fd7630",
        "colab": {
          "base_uri": "https://localhost:8080/"
        }
      },
      "source": [
        "!wget https://raw.githubusercontent.com/jakevdp/PythonDataScienceHandbook/master/notebooks/data/president_heights.csv"
      ],
      "execution_count": 110,
      "outputs": [
        {
          "output_type": "stream",
          "text": [
            "--2020-11-16 21:32:33--  https://raw.githubusercontent.com/jakevdp/PythonDataScienceHandbook/master/notebooks/data/president_heights.csv\n",
            "Resolving raw.githubusercontent.com (raw.githubusercontent.com)... 151.101.0.133, 151.101.64.133, 151.101.128.133, ...\n",
            "Connecting to raw.githubusercontent.com (raw.githubusercontent.com)|151.101.0.133|:443... connected.\n",
            "HTTP request sent, awaiting response... 200 OK\n",
            "Length: 988 [text/plain]\n",
            "Saving to: ‘president_heights.csv.3’\n",
            "\n",
            "\rpresident_heights.c   0%[                    ]       0  --.-KB/s               \rpresident_heights.c 100%[===================>]     988  --.-KB/s    in 0s      \n",
            "\n",
            "2020-11-16 21:32:33 (44.9 MB/s) - ‘president_heights.csv.3’ saved [988/988]\n",
            "\n"
          ],
          "name": "stdout"
        }
      ]
    },
    {
      "cell_type": "code",
      "metadata": {
        "id": "2Mp-xkEiA0-O",
        "outputId": "e70fb7d1-8164-4b4f-a230-130eddf09397",
        "colab": {
          "base_uri": "https://localhost:8080/",
          "height": 204
        }
      },
      "source": [
        "import pandas as pd\n",
        "\n",
        "data = pd.read_csv(\"president_heights.csv\")\n",
        "data.head()"
      ],
      "execution_count": 111,
      "outputs": [
        {
          "output_type": "execute_result",
          "data": {
            "text/html": [
              "<div>\n",
              "<style scoped>\n",
              "    .dataframe tbody tr th:only-of-type {\n",
              "        vertical-align: middle;\n",
              "    }\n",
              "\n",
              "    .dataframe tbody tr th {\n",
              "        vertical-align: top;\n",
              "    }\n",
              "\n",
              "    .dataframe thead th {\n",
              "        text-align: right;\n",
              "    }\n",
              "</style>\n",
              "<table border=\"1\" class=\"dataframe\">\n",
              "  <thead>\n",
              "    <tr style=\"text-align: right;\">\n",
              "      <th></th>\n",
              "      <th>order</th>\n",
              "      <th>name</th>\n",
              "      <th>height(cm)</th>\n",
              "    </tr>\n",
              "  </thead>\n",
              "  <tbody>\n",
              "    <tr>\n",
              "      <th>0</th>\n",
              "      <td>1</td>\n",
              "      <td>George Washington</td>\n",
              "      <td>189</td>\n",
              "    </tr>\n",
              "    <tr>\n",
              "      <th>1</th>\n",
              "      <td>2</td>\n",
              "      <td>John Adams</td>\n",
              "      <td>170</td>\n",
              "    </tr>\n",
              "    <tr>\n",
              "      <th>2</th>\n",
              "      <td>3</td>\n",
              "      <td>Thomas Jefferson</td>\n",
              "      <td>189</td>\n",
              "    </tr>\n",
              "    <tr>\n",
              "      <th>3</th>\n",
              "      <td>4</td>\n",
              "      <td>James Madison</td>\n",
              "      <td>163</td>\n",
              "    </tr>\n",
              "    <tr>\n",
              "      <th>4</th>\n",
              "      <td>5</td>\n",
              "      <td>James Monroe</td>\n",
              "      <td>183</td>\n",
              "    </tr>\n",
              "  </tbody>\n",
              "</table>\n",
              "</div>"
            ],
            "text/plain": [
              "   order               name  height(cm)\n",
              "0      1  George Washington         189\n",
              "1      2         John Adams         170\n",
              "2      3   Thomas Jefferson         189\n",
              "3      4      James Madison         163\n",
              "4      5       James Monroe         183"
            ]
          },
          "metadata": {
            "tags": []
          },
          "execution_count": 111
        }
      ]
    },
    {
      "cell_type": "code",
      "metadata": {
        "id": "CMJsdH01BRDT",
        "outputId": "7732dc34-b16f-425a-8616-7a2a8dbcf8c4",
        "colab": {
          "base_uri": "https://localhost:8080/"
        }
      },
      "source": [
        "heights = np.array(data[\"height(cm)\"])\n",
        "print(heights)"
      ],
      "execution_count": 112,
      "outputs": [
        {
          "output_type": "stream",
          "text": [
            "[189 170 189 163 183 171 185 168 173 183 173 173 175 178 183 193 178 173\n",
            " 174 183 183 168 170 178 182 180 183 178 182 188 175 179 183 193 182 183\n",
            " 177 185 188 188 182 185]\n"
          ],
          "name": "stdout"
        }
      ]
    },
    {
      "cell_type": "code",
      "metadata": {
        "id": "W-04zGuPB0WX",
        "outputId": "a027d10a-d20a-431c-bd87-8135543f047c",
        "colab": {
          "base_uri": "https://localhost:8080/"
        }
      },
      "source": [
        "print(f\"Mean = {heights.mean()}\")\n",
        "print(f\"std = {heights.std()}\")\n",
        "print(f\"min = {heights.min()}\")\n",
        "print(f\"max = {heights.max()}\")"
      ],
      "execution_count": 113,
      "outputs": [
        {
          "output_type": "stream",
          "text": [
            "Mean = 179.73809523809524\n",
            "std = 6.931843442745892\n",
            "min = 163\n",
            "max = 193\n"
          ],
          "name": "stdout"
        }
      ]
    },
    {
      "cell_type": "code",
      "metadata": {
        "id": "r88xGX5YCB-2",
        "outputId": "58468228-7ddb-4c01-9604-95fd00785991",
        "colab": {
          "base_uri": "https://localhost:8080/"
        }
      },
      "source": [
        "print(f\"25th percentile: {np.percentile(heights, 25)}\")\n",
        "print(f\"Median: {np.median(heights)}\")\n",
        "print(f\"75th percentile: {np.percentile(heights, 75)}\")"
      ],
      "execution_count": 114,
      "outputs": [
        {
          "output_type": "stream",
          "text": [
            "25th percentile: 174.25\n",
            "Median: 182.0\n",
            "75th percentile: 183.0\n"
          ],
          "name": "stdout"
        }
      ]
    },
    {
      "cell_type": "code",
      "metadata": {
        "id": "cltUQb2nDI6d"
      },
      "source": [
        "%matplotlib inline\n",
        "import matplotlib.pyplot as plt\n",
        "import seaborn; seaborn.set()"
      ],
      "execution_count": 115,
      "outputs": []
    },
    {
      "cell_type": "code",
      "metadata": {
        "id": "FHGHN2D7DmEZ",
        "outputId": "bfd9f1fb-81d7-4342-d03a-25cb80619193",
        "colab": {
          "base_uri": "https://localhost:8080/",
          "height": 301
        }
      },
      "source": [
        "plt.hist(heights)\n",
        "plt.title(\"Heights Distribution of US presidents\")\n",
        "plt.xlabel(\"hegight (cm)\")\n",
        "plt.ylabel(\"number\")\n",
        "plt.show()"
      ],
      "execution_count": 116,
      "outputs": [
        {
          "output_type": "display_data",
          "data": {
            "image/png": "[encoded data removed]",
            "text/plain": [
              "<Figure size 432x288 with 1 Axes>"
            ]
          },
          "metadata": {
            "tags": []
          }
        }
      ]
    },
    {
      "cell_type": "markdown",
      "metadata": {
        "id": "Vh5D2OawFHgd"
      },
      "source": [
        "# Broadcasting"
      ]
    },
    {
      "cell_type": "code",
      "metadata": {
        "id": "SlvsKN8WDnlN",
        "outputId": "19794553-f751-4c4f-a4cc-4a9c254a075c",
        "colab": {
          "base_uri": "https://localhost:8080/"
        }
      },
      "source": [
        "a = np.array([0, 1, 2])\n",
        "b = np.array([5, 5, 5])\n",
        "a + b"
      ],
      "execution_count": 117,
      "outputs": [
        {
          "output_type": "execute_result",
          "data": {
            "text/plain": [
              "array([5, 6, 7])"
            ]
          },
          "metadata": {
            "tags": []
          },
          "execution_count": 117
        }
      ]
    },
    {
      "cell_type": "code",
      "metadata": {
        "id": "g1Zff3YmFc8Z",
        "outputId": "07c4a31d-3973-42f5-af27-639c96be4bf4",
        "colab": {
          "base_uri": "https://localhost:8080/"
        }
      },
      "source": [
        "a + 5"
      ],
      "execution_count": 118,
      "outputs": [
        {
          "output_type": "execute_result",
          "data": {
            "text/plain": [
              "array([5, 6, 7])"
            ]
          },
          "metadata": {
            "tags": []
          },
          "execution_count": 118
        }
      ]
    },
    {
      "cell_type": "code",
      "metadata": {
        "id": "AtQjbM17FhLr",
        "outputId": "506b2b04-2c98-49a0-a65c-7eed41184582",
        "colab": {
          "base_uri": "https://localhost:8080/"
        }
      },
      "source": [
        "M = np.ones((3, 3))\n",
        "M"
      ],
      "execution_count": 119,
      "outputs": [
        {
          "output_type": "execute_result",
          "data": {
            "text/plain": [
              "array([[1., 1., 1.],\n",
              "       [1., 1., 1.],\n",
              "       [1., 1., 1.]])"
            ]
          },
          "metadata": {
            "tags": []
          },
          "execution_count": 119
        }
      ]
    },
    {
      "cell_type": "code",
      "metadata": {
        "id": "PFErPwUlFwgN",
        "outputId": "668fd248-9a38-4de0-9bac-5a8dab76f52d",
        "colab": {
          "base_uri": "https://localhost:8080/"
        }
      },
      "source": [
        "M + a"
      ],
      "execution_count": 120,
      "outputs": [
        {
          "output_type": "execute_result",
          "data": {
            "text/plain": [
              "array([[1., 2., 3.],\n",
              "       [1., 2., 3.],\n",
              "       [1., 2., 3.]])"
            ]
          },
          "metadata": {
            "tags": []
          },
          "execution_count": 120
        }
      ]
    },
    {
      "cell_type": "code",
      "metadata": {
        "id": "gYJqeSgpFxdz",
        "outputId": "33c748a6-eac7-46b0-b926-84f220ffccee",
        "colab": {
          "base_uri": "https://localhost:8080/"
        }
      },
      "source": [
        "a = np.arange(3)\n",
        "b = np.arange(3)[:, np.newaxis]\n",
        "\n",
        "a, b"
      ],
      "execution_count": 121,
      "outputs": [
        {
          "output_type": "execute_result",
          "data": {
            "text/plain": [
              "(array([0, 1, 2]), array([[0],\n",
              "        [1],\n",
              "        [2]]))"
            ]
          },
          "metadata": {
            "tags": []
          },
          "execution_count": 121
        }
      ]
    },
    {
      "cell_type": "code",
      "metadata": {
        "id": "vQgJBrYrF5Jn",
        "outputId": "118d3fd8-cbd5-4aa9-e9b6-f8318e1dc47b",
        "colab": {
          "base_uri": "https://localhost:8080/"
        }
      },
      "source": [
        "a + b"
      ],
      "execution_count": 122,
      "outputs": [
        {
          "output_type": "execute_result",
          "data": {
            "text/plain": [
              "array([[0, 1, 2],\n",
              "       [1, 2, 3],\n",
              "       [2, 3, 4]])"
            ]
          },
          "metadata": {
            "tags": []
          },
          "execution_count": 122
        }
      ]
    },
    {
      "cell_type": "code",
      "metadata": {
        "id": "yrm0pBL7F9c_",
        "outputId": "86bcbd31-800d-4b3b-d003-89e7e190c200",
        "colab": {
          "base_uri": "https://localhost:8080/"
        }
      },
      "source": [
        "# Example 1\n",
        "\n",
        "M = np.ones((2, 3))\n",
        "a = np.arange(3)\n",
        "\n",
        "# M.shape == (2, 3)\n",
        "# a.shape == (3, )\n",
        "\n",
        "# M.shape -> (2, 3)\n",
        "# a.shape -> (1, 3) -> (2, 3)\n",
        "\n",
        "M + a"
      ],
      "execution_count": 123,
      "outputs": [
        {
          "output_type": "execute_result",
          "data": {
            "text/plain": [
              "array([[1., 2., 3.],\n",
              "       [1., 2., 3.]])"
            ]
          },
          "metadata": {
            "tags": []
          },
          "execution_count": 123
        }
      ]
    },
    {
      "cell_type": "code",
      "metadata": {
        "id": "aOCcfoN6G4ct",
        "outputId": "182d5e2c-9017-4043-b295-ccd7656a9614",
        "colab": {
          "base_uri": "https://localhost:8080/"
        }
      },
      "source": [
        "# Example 2\n",
        "\n",
        "a = np.arange(3).reshape((3, 1))\n",
        "b = np.arange(3)\n",
        "\n",
        "# a.shape == (3, 1) -> (3, 1) -> (3, 3)\n",
        "# b.shape == (3,) -> (1, 3) -> (3, 3)\n",
        "\n",
        "a + b"
      ],
      "execution_count": 124,
      "outputs": [
        {
          "output_type": "execute_result",
          "data": {
            "text/plain": [
              "array([[0, 1, 2],\n",
              "       [1, 2, 3],\n",
              "       [2, 3, 4]])"
            ]
          },
          "metadata": {
            "tags": []
          },
          "execution_count": 124
        }
      ]
    },
    {
      "cell_type": "code",
      "metadata": {
        "id": "oUFsXRj5HgkA"
      },
      "source": [
        "# Example 3\n",
        "\n",
        "M = np.ones((3, 2))\n",
        "a = np.arange(3)\n",
        "\n",
        "# M.shape == (3, 2) -> (3, 2) -> (3, 2)\n",
        "# a.shape == (3,) -> (1, 3) -> (3, 3)\n",
        "\n",
        "# M + a -> ValueError: operands could not be broadcast together with shapes (3,2) (3,) "
      ],
      "execution_count": 125,
      "outputs": []
    },
    {
      "cell_type": "code",
      "metadata": {
        "id": "P02sPf1VIkw3",
        "outputId": "2ad31894-e3bb-4823-d382-e19d117299d3",
        "colab": {
          "base_uri": "https://localhost:8080/"
        }
      },
      "source": [
        "a[:, np.newaxis].shape"
      ],
      "execution_count": 126,
      "outputs": [
        {
          "output_type": "execute_result",
          "data": {
            "text/plain": [
              "(3, 1)"
            ]
          },
          "metadata": {
            "tags": []
          },
          "execution_count": 126
        }
      ]
    },
    {
      "cell_type": "code",
      "metadata": {
        "id": "KAaeiscII1uw",
        "outputId": "329c35fe-edc4-4217-bf6b-2dcc0c02dba1",
        "colab": {
          "base_uri": "https://localhost:8080/"
        }
      },
      "source": [
        "M + a[:, np.newaxis]"
      ],
      "execution_count": 127,
      "outputs": [
        {
          "output_type": "execute_result",
          "data": {
            "text/plain": [
              "array([[1., 1.],\n",
              "       [2., 2.],\n",
              "       [3., 3.]])"
            ]
          },
          "metadata": {
            "tags": []
          },
          "execution_count": 127
        }
      ]
    },
    {
      "cell_type": "code",
      "metadata": {
        "id": "0jbyLwA8I4sW",
        "outputId": "6fc3fd51-2872-42a4-b6e9-7c4e2e6a2e30",
        "colab": {
          "base_uri": "https://localhost:8080/"
        }
      },
      "source": [
        "np.logaddexp(M, a[:, np.newaxis])"
      ],
      "execution_count": 128,
      "outputs": [
        {
          "output_type": "execute_result",
          "data": {
            "text/plain": [
              "array([[1.31326169, 1.31326169],\n",
              "       [1.69314718, 1.69314718],\n",
              "       [2.31326169, 2.31326169]])"
            ]
          },
          "metadata": {
            "tags": []
          },
          "execution_count": 128
        }
      ]
    },
    {
      "cell_type": "markdown",
      "metadata": {
        "id": "2YAur9UKJEWv"
      },
      "source": [
        "# Broadcasting on practice"
      ]
    },
    {
      "cell_type": "code",
      "metadata": {
        "id": "pHBaWya-JBXD",
        "outputId": "7e2e0dca-d56c-4568-a984-c3008290d72f",
        "colab": {
          "base_uri": "https://localhost:8080/"
        }
      },
      "source": [
        "# Normalization\n",
        "X = np.random.random((10, 3))\n",
        "X_mean = X.mean(0)\n",
        "X_mean"
      ],
      "execution_count": 129,
      "outputs": [
        {
          "output_type": "execute_result",
          "data": {
            "text/plain": [
              "array([0.46121433, 0.50179364, 0.53859167])"
            ]
          },
          "metadata": {
            "tags": []
          },
          "execution_count": 129
        }
      ]
    },
    {
      "cell_type": "code",
      "metadata": {
        "id": "ELmL-3WSJco3"
      },
      "source": [
        "X_centered = X - X_mean"
      ],
      "execution_count": 130,
      "outputs": []
    },
    {
      "cell_type": "code",
      "metadata": {
        "id": "MxEw5MGcJisa",
        "outputId": "6492e31c-a7b3-4304-c95b-8582a5d02c17",
        "colab": {
          "base_uri": "https://localhost:8080/"
        }
      },
      "source": [
        "X_centered.mean(0)"
      ],
      "execution_count": 131,
      "outputs": [
        {
          "output_type": "execute_result",
          "data": {
            "text/plain": [
              "array([4.44089210e-17, 2.22044605e-17, 7.77156117e-17])"
            ]
          },
          "metadata": {
            "tags": []
          },
          "execution_count": 131
        }
      ]
    },
    {
      "cell_type": "markdown",
      "metadata": {
        "id": "Afvkch6IJmxl"
      },
      "source": [
        "# Plotting two dimensional function"
      ]
    },
    {
      "cell_type": "code",
      "metadata": {
        "id": "-SK8jYWbJkY2"
      },
      "source": [
        "x = np.linspace(0, 5, 50)\n",
        "y = np.linspace(0, 5, 50)[:, np.newaxis]\n",
        "\n",
        "z = np.sin(x) ** 10 + np.cos(10 + y * x) * np.cos(x)"
      ],
      "execution_count": 132,
      "outputs": []
    },
    {
      "cell_type": "code",
      "metadata": {
        "id": "SrURYjf_J6oG",
        "outputId": "2f6ab1c4-ea63-438d-a596-79ca05c7a9d2",
        "colab": {
          "base_uri": "https://localhost:8080/",
          "height": 272
        }
      },
      "source": [
        "plt.imshow(z, origin=\"lower\", extent=[0, 5, 0, 5], cmap=\"viridis\")\n",
        "plt.colorbar()\n",
        "plt.show()"
      ],
      "execution_count": 133,
      "outputs": [
        {
          "output_type": "display_data",
          "data": {
            "image/png": "[encoded data removed]",
            "text/plain": [
              "<Figure size 432x288 with 2 Axes>"
            ]
          },
          "metadata": {
            "tags": []
          }
        }
      ]
    },
    {
      "cell_type": "markdown",
      "metadata": {
        "id": "DZMa3f1ZOaTk"
      },
      "source": [
        "# Comaparisons, masks, boolean logic "
      ]
    },
    {
      "cell_type": "code",
      "metadata": {
        "id": "m4sIz54lN0z1",
        "outputId": "4f195bb0-9725-4c26-ff7b-148bb16cd5e3",
        "colab": {
          "base_uri": "https://localhost:8080/"
        }
      },
      "source": [
        "!wget https://raw.githubusercontent.com/jakevdp/PythonDataScienceHandbook/master/notebooks/data/Seattle2014.csv"
      ],
      "execution_count": 134,
      "outputs": [
        {
          "output_type": "stream",
          "text": [
            "--2020-11-16 21:32:34--  https://raw.githubusercontent.com/jakevdp/PythonDataScienceHandbook/master/notebooks/data/Seattle2014.csv\n",
            "Resolving raw.githubusercontent.com (raw.githubusercontent.com)... 151.101.0.133, 151.101.64.133, 151.101.128.133, ...\n",
            "Connecting to raw.githubusercontent.com (raw.githubusercontent.com)|151.101.0.133|:443... connected.\n",
            "HTTP request sent, awaiting response... 200 OK\n",
            "Length: 45122 (44K) [text/plain]\n",
            "Saving to: ‘Seattle2014.csv.1’\n",
            "\n",
            "\rSeattle2014.csv.1     0%[                    ]       0  --.-KB/s               \rSeattle2014.csv.1   100%[===================>]  44.06K  --.-KB/s    in 0.01s   \n",
            "\n",
            "2020-11-16 21:32:34 (3.54 MB/s) - ‘Seattle2014.csv.1’ saved [45122/45122]\n",
            "\n"
          ],
          "name": "stdout"
        }
      ]
    },
    {
      "cell_type": "code",
      "metadata": {
        "id": "GdmR8bsePE87",
        "outputId": "f9ffc8fa-ae11-4204-e487-17572adc3a9f",
        "colab": {
          "base_uri": "https://localhost:8080/"
        }
      },
      "source": [
        "rainfall = pd.read_csv(\"Seattle2014.csv\")[\"PRCP\"].values\n",
        "inches = rainfall / 254 # 1/10mm -> inches\n",
        "inches.shape"
      ],
      "execution_count": 135,
      "outputs": [
        {
          "output_type": "execute_result",
          "data": {
            "text/plain": [
              "(365,)"
            ]
          },
          "metadata": {
            "tags": []
          },
          "execution_count": 135
        }
      ]
    },
    {
      "cell_type": "code",
      "metadata": {
        "id": "f4_wkfWEPWg2",
        "outputId": "a8a4c1a1-5ec6-4c05-dcf4-9597a903fba5",
        "colab": {
          "base_uri": "https://localhost:8080/",
          "height": 268
        }
      },
      "source": [
        "plt.hist(inches, 40)\n",
        "plt.show()"
      ],
      "execution_count": 136,
      "outputs": [
        {
          "output_type": "display_data",
          "data": {
            "image/png": "[encoded data removed]",
            "text/plain": [
              "<Figure size 432x288 with 1 Axes>"
            ]
          },
          "metadata": {
            "tags": []
          }
        }
      ]
    },
    {
      "cell_type": "markdown",
      "metadata": {
        "id": "q-AP0QH_QYx_"
      },
      "source": [
        "# masks"
      ]
    },
    {
      "cell_type": "code",
      "metadata": {
        "id": "ZXZHiBv9PpyK",
        "outputId": "13885c27-68e8-4259-f88e-7ec71b9ae5cd",
        "colab": {
          "base_uri": "https://localhost:8080/"
        }
      },
      "source": [
        "x = np.array([1, 2, 3, 4, 5])\n",
        "x < 3"
      ],
      "execution_count": 137,
      "outputs": [
        {
          "output_type": "execute_result",
          "data": {
            "text/plain": [
              "array([ True,  True, False, False, False])"
            ]
          },
          "metadata": {
            "tags": []
          },
          "execution_count": 137
        }
      ]
    },
    {
      "cell_type": "code",
      "metadata": {
        "id": "bI4I-AURQgI5",
        "outputId": "e1eec003-55f5-4513-c496-eaffe4af1865",
        "colab": {
          "base_uri": "https://localhost:8080/"
        }
      },
      "source": [
        "x > 3"
      ],
      "execution_count": 138,
      "outputs": [
        {
          "output_type": "execute_result",
          "data": {
            "text/plain": [
              "array([False, False, False,  True,  True])"
            ]
          },
          "metadata": {
            "tags": []
          },
          "execution_count": 138
        }
      ]
    },
    {
      "cell_type": "code",
      "metadata": {
        "id": "1nXy_10jQhpP",
        "outputId": "52ac7276-38f2-493e-a657-ed2498ef9df8",
        "colab": {
          "base_uri": "https://localhost:8080/"
        }
      },
      "source": [
        "(2 * x) == (x ** 2)"
      ],
      "execution_count": 139,
      "outputs": [
        {
          "output_type": "execute_result",
          "data": {
            "text/plain": [
              "array([False,  True, False, False, False])"
            ]
          },
          "metadata": {
            "tags": []
          },
          "execution_count": 139
        }
      ]
    },
    {
      "cell_type": "code",
      "metadata": {
        "id": "425b91JtQk6Z",
        "outputId": "4c01abf0-4b40-47d7-de9a-fb05bd9258d8",
        "colab": {
          "base_uri": "https://localhost:8080/"
        }
      },
      "source": [
        "x = np.random.randint(10, size=(3, 4))\n",
        "x"
      ],
      "execution_count": 140,
      "outputs": [
        {
          "output_type": "execute_result",
          "data": {
            "text/plain": [
              "array([[5, 7, 4, 6],\n",
              "       [3, 0, 7, 4],\n",
              "       [0, 0, 7, 3]])"
            ]
          },
          "metadata": {
            "tags": []
          },
          "execution_count": 140
        }
      ]
    },
    {
      "cell_type": "code",
      "metadata": {
        "id": "l1XAgW-TRgSb",
        "outputId": "aeef4446-6b7e-4dfe-e135-fb54a717c53d",
        "colab": {
          "base_uri": "https://localhost:8080/"
        }
      },
      "source": [
        "x < 6"
      ],
      "execution_count": 141,
      "outputs": [
        {
          "output_type": "execute_result",
          "data": {
            "text/plain": [
              "array([[ True, False,  True, False],\n",
              "       [ True,  True, False,  True],\n",
              "       [ True,  True, False,  True]])"
            ]
          },
          "metadata": {
            "tags": []
          },
          "execution_count": 141
        }
      ]
    },
    {
      "cell_type": "code",
      "metadata": {
        "id": "_ZxxXARKRhOA",
        "outputId": "b193164b-f8d6-48bf-c499-fa7050c9fed8",
        "colab": {
          "base_uri": "https://localhost:8080/"
        }
      },
      "source": [
        "np.count_nonzero(x < 6)"
      ],
      "execution_count": 142,
      "outputs": [
        {
          "output_type": "execute_result",
          "data": {
            "text/plain": [
              "8"
            ]
          },
          "metadata": {
            "tags": []
          },
          "execution_count": 142
        }
      ]
    },
    {
      "cell_type": "code",
      "metadata": {
        "id": "vDNGYoi8S-4M",
        "outputId": "a659889a-ce24-463e-9b0b-eebc31c09eb1",
        "colab": {
          "base_uri": "https://localhost:8080/"
        }
      },
      "source": [
        "np.sum(x < 6)"
      ],
      "execution_count": 143,
      "outputs": [
        {
          "output_type": "execute_result",
          "data": {
            "text/plain": [
              "8"
            ]
          },
          "metadata": {
            "tags": []
          },
          "execution_count": 143
        }
      ]
    },
    {
      "cell_type": "code",
      "metadata": {
        "id": "vGSc5kg0T6Em",
        "outputId": "829acd8b-4889-484e-9a7d-ace2a20d5569",
        "colab": {
          "base_uri": "https://localhost:8080/"
        }
      },
      "source": [
        "np.sum(x < 6, axis=0)"
      ],
      "execution_count": 144,
      "outputs": [
        {
          "output_type": "execute_result",
          "data": {
            "text/plain": [
              "array([3, 2, 1, 2])"
            ]
          },
          "metadata": {
            "tags": []
          },
          "execution_count": 144
        }
      ]
    },
    {
      "cell_type": "code",
      "metadata": {
        "id": "Eb4tFyq8UPtk",
        "outputId": "46083c51-2a25-4de6-8f07-277b53033e19",
        "colab": {
          "base_uri": "https://localhost:8080/"
        }
      },
      "source": [
        "np.any(x < 6)"
      ],
      "execution_count": 145,
      "outputs": [
        {
          "output_type": "execute_result",
          "data": {
            "text/plain": [
              "True"
            ]
          },
          "metadata": {
            "tags": []
          },
          "execution_count": 145
        }
      ]
    },
    {
      "cell_type": "code",
      "metadata": {
        "id": "Gt-_w2MjU6ca",
        "outputId": "34952073-33d3-410b-a679-ce816c4da348",
        "colab": {
          "base_uri": "https://localhost:8080/"
        }
      },
      "source": [
        "np.any(x < 0)"
      ],
      "execution_count": 146,
      "outputs": [
        {
          "output_type": "execute_result",
          "data": {
            "text/plain": [
              "False"
            ]
          },
          "metadata": {
            "tags": []
          },
          "execution_count": 146
        }
      ]
    },
    {
      "cell_type": "code",
      "metadata": {
        "id": "kOiz0lkjU9vP",
        "outputId": "6844dfc9-4a8a-40f0-ee4e-be58b05a2c86",
        "colab": {
          "base_uri": "https://localhost:8080/"
        }
      },
      "source": [
        "np.all(x < 10)"
      ],
      "execution_count": 147,
      "outputs": [
        {
          "output_type": "execute_result",
          "data": {
            "text/plain": [
              "True"
            ]
          },
          "metadata": {
            "tags": []
          },
          "execution_count": 147
        }
      ]
    },
    {
      "cell_type": "code",
      "metadata": {
        "id": "6g2YG1BsVKTv",
        "outputId": "1fed8323-e6c0-420b-fe86-ddc27e2aca4e",
        "colab": {
          "base_uri": "https://localhost:8080/"
        }
      },
      "source": [
        "np.all(x == 6)"
      ],
      "execution_count": 148,
      "outputs": [
        {
          "output_type": "execute_result",
          "data": {
            "text/plain": [
              "False"
            ]
          },
          "metadata": {
            "tags": []
          },
          "execution_count": 148
        }
      ]
    },
    {
      "cell_type": "code",
      "metadata": {
        "id": "QQLpauoNVMDv",
        "outputId": "0cc7b78e-96ab-41b6-e14f-b01f4d0b91b0",
        "colab": {
          "base_uri": "https://localhost:8080/"
        }
      },
      "source": [
        "np.all(x < 8, axis=1)"
      ],
      "execution_count": 149,
      "outputs": [
        {
          "output_type": "execute_result",
          "data": {
            "text/plain": [
              "array([ True,  True,  True])"
            ]
          },
          "metadata": {
            "tags": []
          },
          "execution_count": 149
        }
      ]
    },
    {
      "cell_type": "code",
      "metadata": {
        "id": "u_vexxgkVYUo",
        "outputId": "8fbe5963-0c9a-4b5c-e921-a4c936099a74",
        "colab": {
          "base_uri": "https://localhost:8080/"
        }
      },
      "source": [
        "np.sum((inches > 0.5) & (inches < 1))"
      ],
      "execution_count": 150,
      "outputs": [
        {
          "output_type": "execute_result",
          "data": {
            "text/plain": [
              "29"
            ]
          },
          "metadata": {
            "tags": []
          },
          "execution_count": 150
        }
      ]
    },
    {
      "cell_type": "code",
      "metadata": {
        "id": "n2q5PWhuWLyz",
        "outputId": "b4c18a09-d96a-4d73-c03b-c2eead804df6",
        "colab": {
          "base_uri": "https://localhost:8080/"
        }
      },
      "source": [
        "np.sum(~( (inches <= 0.5) | (inches >= 1)))"
      ],
      "execution_count": 151,
      "outputs": [
        {
          "output_type": "execute_result",
          "data": {
            "text/plain": [
              "29"
            ]
          },
          "metadata": {
            "tags": []
          },
          "execution_count": 151
        }
      ]
    },
    {
      "cell_type": "code",
      "metadata": {
        "id": "NP6E8MflW7YD",
        "outputId": "45082985-6b89-4f21-9fcb-a7cf79745e5f",
        "colab": {
          "base_uri": "https://localhost:8080/"
        }
      },
      "source": [
        "print(f\"Number days without rain: {np.sum(inches == 0)}\")\n",
        "print(f\"Number days with rain: {np.sum(inches != 0)}\")\n",
        "print(f\"Days with more than 0.5 inches: {np.sum(inches > 0.5)}\")\n",
        "print(f\"Rainy days with < 0.1 inches: {np.sum((inches > 0.) & (inches < 0.2))}\")"
      ],
      "execution_count": 152,
      "outputs": [
        {
          "output_type": "stream",
          "text": [
            "Number days without rain: 215\n",
            "Number days with rain: 150\n",
            "Days with more than 0.5 inches: 37\n",
            "Rainy days with < 0.1 inches: 75\n"
          ],
          "name": "stdout"
        }
      ]
    },
    {
      "cell_type": "markdown",
      "metadata": {
        "id": "Ni1xsuF_YqQo"
      },
      "source": [
        "# Boolean arrays as masks"
      ]
    },
    {
      "cell_type": "code",
      "metadata": {
        "id": "Lt-tVABsYnoJ",
        "outputId": "a783b6e8-cf15-4c4a-df86-0b2bec218acb",
        "colab": {
          "base_uri": "https://localhost:8080/"
        }
      },
      "source": [
        "x"
      ],
      "execution_count": 153,
      "outputs": [
        {
          "output_type": "execute_result",
          "data": {
            "text/plain": [
              "array([[5, 7, 4, 6],\n",
              "       [3, 0, 7, 4],\n",
              "       [0, 0, 7, 3]])"
            ]
          },
          "metadata": {
            "tags": []
          },
          "execution_count": 153
        }
      ]
    },
    {
      "cell_type": "code",
      "metadata": {
        "id": "9EjcphOnZ2KZ",
        "outputId": "98578ba9-391e-4b6c-8fb8-dd6545c993c5",
        "colab": {
          "base_uri": "https://localhost:8080/"
        }
      },
      "source": [
        "x < 5"
      ],
      "execution_count": 154,
      "outputs": [
        {
          "output_type": "execute_result",
          "data": {
            "text/plain": [
              "array([[False, False,  True, False],\n",
              "       [ True,  True, False,  True],\n",
              "       [ True,  True, False,  True]])"
            ]
          },
          "metadata": {
            "tags": []
          },
          "execution_count": 154
        }
      ]
    },
    {
      "cell_type": "code",
      "metadata": {
        "id": "5-rrI8BBZ6aI",
        "outputId": "fb179c8b-6aff-4474-f868-74367c869791",
        "colab": {
          "base_uri": "https://localhost:8080/"
        }
      },
      "source": [
        "x[x < 5]"
      ],
      "execution_count": 155,
      "outputs": [
        {
          "output_type": "execute_result",
          "data": {
            "text/plain": [
              "array([4, 3, 0, 4, 0, 0, 3])"
            ]
          },
          "metadata": {
            "tags": []
          },
          "execution_count": 155
        }
      ]
    },
    {
      "cell_type": "code",
      "metadata": {
        "id": "9kQdzk8WZ8Yu",
        "outputId": "8b65ad71-b2cb-48d3-8883-22cdb6bb57ed",
        "colab": {
          "base_uri": "https://localhost:8080/"
        }
      },
      "source": [
        "rainy = (inches > 0)\n",
        "# mask for summer days \n",
        "summer = (np.arange(365) - 172 < 90) & (np.arange(365) - 172 > 0)\n",
        "\n",
        "print(f\"Median precip on rainy days in 2014: {np.median(inches[rainy])}\")\n",
        "print(f\"Median precip on summer days in 2014: {np.median(inches[summer])}\")\n",
        "print(f\"Maximum precip on summer days in 2014: {np.max(inches[summer])}\")\n",
        "print(f\"Median precip on non-summer days in 2014: {np.median(inches[rainy & ~summer])}\")"
      ],
      "execution_count": 156,
      "outputs": [
        {
          "output_type": "stream",
          "text": [
            "Median precip on rainy days in 2014: 0.19488188976377951\n",
            "Median precip on summer days in 2014: 0.0\n",
            "Maximum precip on summer days in 2014: 0.8503937007874016\n",
            "Median precip on non-summer days in 2014: 0.20078740157480315\n"
          ],
          "name": "stdout"
        }
      ]
    },
    {
      "cell_type": "markdown",
      "metadata": {
        "id": "4cYioNkkgqHI"
      },
      "source": [
        "# fancy indexing"
      ]
    },
    {
      "cell_type": "code",
      "metadata": {
        "id": "SdQbesVQby72",
        "outputId": "9af2d68d-a828-4323-9842-f47dc64c41f5",
        "colab": {
          "base_uri": "https://localhost:8080/"
        }
      },
      "source": [
        "x = np.random.randint(100, size=10)\n",
        "x"
      ],
      "execution_count": 157,
      "outputs": [
        {
          "output_type": "execute_result",
          "data": {
            "text/plain": [
              "array([78, 96, 19, 30, 79, 78, 43, 73, 18, 15])"
            ]
          },
          "metadata": {
            "tags": []
          },
          "execution_count": 157
        }
      ]
    },
    {
      "cell_type": "code",
      "metadata": {
        "id": "yRZGQ37Qh-Yi",
        "outputId": "f556c633-f9ca-490c-e531-9ed89971fc28",
        "colab": {
          "base_uri": "https://localhost:8080/"
        }
      },
      "source": [
        "[x[3], x[7], x[2]]"
      ],
      "execution_count": 158,
      "outputs": [
        {
          "output_type": "execute_result",
          "data": {
            "text/plain": [
              "[30, 73, 19]"
            ]
          },
          "metadata": {
            "tags": []
          },
          "execution_count": 158
        }
      ]
    },
    {
      "cell_type": "code",
      "metadata": {
        "id": "SFVDR3vqiFyZ",
        "outputId": "fe935ce0-d4d8-49ac-d1b5-2a8f0c537d59",
        "colab": {
          "base_uri": "https://localhost:8080/"
        }
      },
      "source": [
        "ind = [3, 7, 4]\n",
        "x[ind]"
      ],
      "execution_count": 159,
      "outputs": [
        {
          "output_type": "execute_result",
          "data": {
            "text/plain": [
              "array([30, 73, 79])"
            ]
          },
          "metadata": {
            "tags": []
          },
          "execution_count": 159
        }
      ]
    },
    {
      "cell_type": "code",
      "metadata": {
        "id": "aKDll5ouigRr",
        "outputId": "1f39aada-f767-4fd3-c1e6-242a05815736",
        "colab": {
          "base_uri": "https://localhost:8080/"
        }
      },
      "source": [
        "ind = np.array([[3, 7], \n",
        "                [4, 5]])\n",
        "x[ind]"
      ],
      "execution_count": 160,
      "outputs": [
        {
          "output_type": "execute_result",
          "data": {
            "text/plain": [
              "array([[30, 73],\n",
              "       [79, 78]])"
            ]
          },
          "metadata": {
            "tags": []
          },
          "execution_count": 160
        }
      ]
    },
    {
      "cell_type": "code",
      "metadata": {
        "id": "RjnMcXW8i_Mq",
        "outputId": "6354c83b-f8b3-4cb3-abc4-259650362491",
        "colab": {
          "base_uri": "https://localhost:8080/"
        }
      },
      "source": [
        "x = np.arange(12).reshape((3, 4))\n",
        "x"
      ],
      "execution_count": 161,
      "outputs": [
        {
          "output_type": "execute_result",
          "data": {
            "text/plain": [
              "array([[ 0,  1,  2,  3],\n",
              "       [ 4,  5,  6,  7],\n",
              "       [ 8,  9, 10, 11]])"
            ]
          },
          "metadata": {
            "tags": []
          },
          "execution_count": 161
        }
      ]
    },
    {
      "cell_type": "code",
      "metadata": {
        "id": "JmLNue78jKFv",
        "outputId": "a19ee3dc-6a69-408c-cac6-1063d366d4f2",
        "colab": {
          "base_uri": "https://localhost:8080/"
        }
      },
      "source": [
        "row = np.array([0, 1, 2])\n",
        "col = np.array([2, 1, 3])\n",
        "x[row, col]"
      ],
      "execution_count": 162,
      "outputs": [
        {
          "output_type": "execute_result",
          "data": {
            "text/plain": [
              "array([ 2,  5, 11])"
            ]
          },
          "metadata": {
            "tags": []
          },
          "execution_count": 162
        }
      ]
    },
    {
      "cell_type": "code",
      "metadata": {
        "id": "phiTw1sdjTty",
        "outputId": "f1afdfb0-60dd-496e-9453-7d2fdaf77f41",
        "colab": {
          "base_uri": "https://localhost:8080/"
        }
      },
      "source": [
        "x[row[:, np.newaxis], col]"
      ],
      "execution_count": 163,
      "outputs": [
        {
          "output_type": "execute_result",
          "data": {
            "text/plain": [
              "array([[ 2,  1,  3],\n",
              "       [ 6,  5,  7],\n",
              "       [10,  9, 11]])"
            ]
          },
          "metadata": {
            "tags": []
          },
          "execution_count": 163
        }
      ]
    },
    {
      "cell_type": "code",
      "metadata": {
        "id": "bwAVCs7QjyV1",
        "outputId": "8ce57fb9-a933-491f-9909-d6ab92403395",
        "colab": {
          "base_uri": "https://localhost:8080/"
        }
      },
      "source": [
        "row[:, np.newaxis] * col"
      ],
      "execution_count": 164,
      "outputs": [
        {
          "output_type": "execute_result",
          "data": {
            "text/plain": [
              "array([[0, 0, 0],\n",
              "       [2, 1, 3],\n",
              "       [4, 2, 6]])"
            ]
          },
          "metadata": {
            "tags": []
          },
          "execution_count": 164
        }
      ]
    },
    {
      "cell_type": "code",
      "metadata": {
        "id": "0oCgL0B_j4ou",
        "outputId": "ad03c4ae-9835-4b12-b881-f64c5d1e2464",
        "colab": {
          "base_uri": "https://localhost:8080/"
        }
      },
      "source": [
        "x[2, [2, 0, 1]]"
      ],
      "execution_count": 165,
      "outputs": [
        {
          "output_type": "execute_result",
          "data": {
            "text/plain": [
              "array([10,  8,  9])"
            ]
          },
          "metadata": {
            "tags": []
          },
          "execution_count": 165
        }
      ]
    },
    {
      "cell_type": "code",
      "metadata": {
        "id": "A-AAElm-kKcj",
        "outputId": "1b6e099a-53da-47dc-f46d-5846694e55e5",
        "colab": {
          "base_uri": "https://localhost:8080/"
        }
      },
      "source": [
        "x[1:, [2, 0, 1]]"
      ],
      "execution_count": 166,
      "outputs": [
        {
          "output_type": "execute_result",
          "data": {
            "text/plain": [
              "array([[ 6,  4,  5],\n",
              "       [10,  8,  9]])"
            ]
          },
          "metadata": {
            "tags": []
          },
          "execution_count": 166
        }
      ]
    },
    {
      "cell_type": "code",
      "metadata": {
        "id": "94Jxo9cgkTEZ",
        "outputId": "73896c78-b0c6-43ad-f857-eebd6e3fd14c",
        "colab": {
          "base_uri": "https://localhost:8080/"
        }
      },
      "source": [
        "mask = np.array([1, 0, 1, 0], dtype=bool)\n",
        "x[row[:, np.newaxis], mask]"
      ],
      "execution_count": 167,
      "outputs": [
        {
          "output_type": "execute_result",
          "data": {
            "text/plain": [
              "array([[ 0,  2],\n",
              "       [ 4,  6],\n",
              "       [ 8, 10]])"
            ]
          },
          "metadata": {
            "tags": []
          },
          "execution_count": 167
        }
      ]
    },
    {
      "cell_type": "markdown",
      "metadata": {
        "id": "2eJIUIuckkyJ"
      },
      "source": [
        "# Example "
      ]
    },
    {
      "cell_type": "code",
      "metadata": {
        "id": "mZvqweSnkg_N",
        "outputId": "2b7ad1c6-e727-481b-dc45-90d4528941dc",
        "colab": {
          "base_uri": "https://localhost:8080/"
        }
      },
      "source": [
        "mean = [0, 0]\n",
        "cov = [[1, 2],\n",
        "       [2, 5]]\n",
        "x = np.random.multivariate_normal(mean, cov, 100)\n",
        "x.shape"
      ],
      "execution_count": 168,
      "outputs": [
        {
          "output_type": "execute_result",
          "data": {
            "text/plain": [
              "(100, 2)"
            ]
          },
          "metadata": {
            "tags": []
          },
          "execution_count": 168
        }
      ]
    },
    {
      "cell_type": "code",
      "metadata": {
        "id": "_iLAxrqilTsX",
        "outputId": "625f1c47-73bd-4024-a562-177cb50ba3df",
        "colab": {
          "base_uri": "https://localhost:8080/",
          "height": 268
        }
      },
      "source": [
        "plt.scatter(x[:, 0], x[:, 1])\n",
        "plt.show()"
      ],
      "execution_count": 169,
      "outputs": [
        {
          "output_type": "display_data",
          "data": {
            "image/png": "[encoded data removed]",
            "text/plain": [
              "<Figure size 432x288 with 1 Axes>"
            ]
          },
          "metadata": {
            "tags": []
          }
        }
      ]
    },
    {
      "cell_type": "code",
      "metadata": {
        "id": "lrP4TYLElzKg",
        "outputId": "16111968-8e63-4593-c585-f97d3e15e4f9",
        "colab": {
          "base_uri": "https://localhost:8080/"
        }
      },
      "source": [
        "indicies = np.random.choice(x.shape[0], 20, replace=False)\n",
        "indicies"
      ],
      "execution_count": 171,
      "outputs": [
        {
          "output_type": "execute_result",
          "data": {
            "text/plain": [
              "array([80, 87,  7, 62, 91, 52, 44, 51, 47, 78, 24,  9,  6,  1, 33,  3,  0,\n",
              "       48, 43, 40])"
            ]
          },
          "metadata": {
            "tags": []
          },
          "execution_count": 171
        }
      ]
    },
    {
      "cell_type": "code",
      "metadata": {
        "id": "9NvvfhsHoePp",
        "outputId": "c5cbb259-94f4-4962-bf48-423a59320f2f",
        "colab": {
          "base_uri": "https://localhost:8080/"
        }
      },
      "source": [
        "selection = x[indicies]\n",
        "selection.shape"
      ],
      "execution_count": 172,
      "outputs": [
        {
          "output_type": "execute_result",
          "data": {
            "text/plain": [
              "(20, 2)"
            ]
          },
          "metadata": {
            "tags": []
          },
          "execution_count": 172
        }
      ]
    },
    {
      "cell_type": "code",
      "metadata": {
        "id": "qPkfqBqFohLO",
        "outputId": "35d616fb-3365-415f-b835-11e7973d52d4",
        "colab": {
          "base_uri": "https://localhost:8080/",
          "height": 285
        }
      },
      "source": [
        "plt.scatter(x[:, 0], x[:, 1], alpha=0.3)\n",
        "plt.scatter(selection[:, 0], selection[:, 1], s=200)"
      ],
      "execution_count": 173,
      "outputs": [
        {
          "output_type": "execute_result",
          "data": {
            "text/plain": [
              "<matplotlib.collections.PathCollection at 0x7f6b8bfc8908>"
            ]
          },
          "metadata": {
            "tags": []
          },
          "execution_count": 173
        },
        {
          "output_type": "display_data",
          "data": {
            "image/png": "[encoded data removed]",
            "text/plain": [
              "<Figure size 432x288 with 1 Axes>"
            ]
          },
          "metadata": {
            "tags": []
          }
        }
      ]
    },
    {
      "cell_type": "code",
      "metadata": {
        "id": "rH5R3s2Epluu",
        "outputId": "6b554a22-7247-4ccb-9e1c-14083cdbf09b",
        "colab": {
          "base_uri": "https://localhost:8080/"
        }
      },
      "source": [
        "x = np.arange(10)\n",
        "i = np.array([2, 1, 8, 4])\n",
        "\n",
        "x[i] = 99\n",
        "x"
      ],
      "execution_count": 174,
      "outputs": [
        {
          "output_type": "execute_result",
          "data": {
            "text/plain": [
              "array([ 0, 99, 99,  3, 99,  5,  6,  7, 99,  9])"
            ]
          },
          "metadata": {
            "tags": []
          },
          "execution_count": 174
        }
      ]
    },
    {
      "cell_type": "code",
      "metadata": {
        "id": "XGv58-KxqavZ",
        "outputId": "074e281d-018d-406d-f0ff-de7418466214",
        "colab": {
          "base_uri": "https://localhost:8080/"
        }
      },
      "source": [
        "x[i] -= 10\n",
        "x"
      ],
      "execution_count": 175,
      "outputs": [
        {
          "output_type": "execute_result",
          "data": {
            "text/plain": [
              "array([ 0, 89, 89,  3, 89,  5,  6,  7, 89,  9])"
            ]
          },
          "metadata": {
            "tags": []
          },
          "execution_count": 175
        }
      ]
    },
    {
      "cell_type": "code",
      "metadata": {
        "id": "_xglpZOUqgIr",
        "outputId": "8647cdcb-ca85-49d1-b0ce-3c77296071f0",
        "colab": {
          "base_uri": "https://localhost:8080/"
        }
      },
      "source": [
        "x = np.zeros(10)\n",
        "x[[0, 0]] = [4, 6]\n",
        "print(x)"
      ],
      "execution_count": 176,
      "outputs": [
        {
          "output_type": "stream",
          "text": [
            "[6. 0. 0. 0. 0. 0. 0. 0. 0. 0.]\n"
          ],
          "name": "stdout"
        }
      ]
    },
    {
      "cell_type": "code",
      "metadata": {
        "id": "uWkounwcqz4E",
        "outputId": "24bf8116-4639-434c-9d36-c15af5c638d4",
        "colab": {
          "base_uri": "https://localhost:8080/"
        }
      },
      "source": [
        "i = [2, 3, 3, 4, 4, 4]\n",
        "x[i] += 1\n",
        "x"
      ],
      "execution_count": 177,
      "outputs": [
        {
          "output_type": "execute_result",
          "data": {
            "text/plain": [
              "array([6., 0., 1., 1., 1., 0., 0., 0., 0., 0.])"
            ]
          },
          "metadata": {
            "tags": []
          },
          "execution_count": 177
        }
      ]
    },
    {
      "cell_type": "code",
      "metadata": {
        "id": "plJvQDezq7XY",
        "outputId": "93c138d8-e38a-4078-b8db-2bba914c32ec",
        "colab": {
          "base_uri": "https://localhost:8080/"
        }
      },
      "source": [
        "x = np.zeros(10)\n",
        "np.add.at(x, i, 1)\n",
        "x"
      ],
      "execution_count": 178,
      "outputs": [
        {
          "output_type": "execute_result",
          "data": {
            "text/plain": [
              "array([0., 0., 1., 2., 3., 0., 0., 0., 0., 0.])"
            ]
          },
          "metadata": {
            "tags": []
          },
          "execution_count": 178
        }
      ]
    },
    {
      "cell_type": "code",
      "metadata": {
        "id": "coIEVzkb0zBF",
        "outputId": "7316f4f4-9d4e-4bc5-ab7f-21695c5e12bd",
        "colab": {
          "base_uri": "https://localhost:8080/",
          "height": 322
        }
      },
      "source": [
        "# splitting data to intervals \n",
        "\n",
        "x = np.random.randn(100)\n",
        "\n",
        "bins = np.linspace(-5, 5, 20)\n",
        "counts = np.zeros_like(bins)\n",
        "\n",
        "i = np.searchsorted(bins, x)\n",
        "\n",
        "np.add.at(counts, i, 1)\n",
        "\n",
        "\n",
        "plt.plot(bins, counts, linestyle=\"steps\")\n",
        "plt.show()"
      ],
      "execution_count": 179,
      "outputs": [
        {
          "output_type": "stream",
          "text": [
            "/usr/local/lib/python3.6/dist-packages/ipykernel_launcher.py:13: MatplotlibDeprecationWarning: Passing the drawstyle with the linestyle as a single string is deprecated since Matplotlib 3.1 and support will be removed in 3.3; please pass the drawstyle separately using the drawstyle keyword argument to Line2D or set_drawstyle() method (or ds/set_ds()).\n",
            "  del sys.path[0]\n"
          ],
          "name": "stderr"
        },
        {
          "output_type": "display_data",
          "data": {
            "image/png": "[encoded data removed]",
            "text/plain": [
              "<Figure size 432x288 with 1 Axes>"
            ]
          },
          "metadata": {
            "tags": []
          }
        }
      ]
    },
    {
      "cell_type": "code",
      "metadata": {
        "id": "AgunTdnY1MnV",
        "outputId": "f07a04f6-3ad8-4bb9-8e48-8cccdd34b256",
        "colab": {
          "base_uri": "https://localhost:8080/",
          "height": 268
        }
      },
      "source": [
        "plt.hist(x, bins, histtype=\"step\")\n",
        "plt.show()"
      ],
      "execution_count": 180,
      "outputs": [
        {
          "output_type": "display_data",
          "data": {
            "image/png": "[encoded data removed]",
            "text/plain": [
              "<Figure size 432x288 with 1 Axes>"
            ]
          },
          "metadata": {
            "tags": []
          }
        }
      ]
    },
    {
      "cell_type": "code",
      "metadata": {
        "id": "IsidYFEP1fZu"
      },
      "source": [
        "counts, bins = np.histogram(x, bins)"
      ],
      "execution_count": 181,
      "outputs": []
    },
    {
      "cell_type": "markdown",
      "metadata": {
        "id": "qbJLtmor18nS"
      },
      "source": [
        "# Sorting"
      ]
    },
    {
      "cell_type": "code",
      "metadata": {
        "id": "M7w8Hsvq1wii",
        "outputId": "872141e9-6ef7-4dcc-ce87-28c037cafde8",
        "colab": {
          "base_uri": "https://localhost:8080/"
        }
      },
      "source": [
        "def selection_sort(x):\n",
        "    for i in range(len(x)):\n",
        "        swap = i + np.argmin(x[i:])\n",
        "        x[i], x[swap] = x[swap], x[i]\n",
        "    return x\n",
        "\n",
        "x = np.array([2, 1, 4, 5, 3])\n",
        "selection_sort(x)"
      ],
      "execution_count": 182,
      "outputs": [
        {
          "output_type": "execute_result",
          "data": {
            "text/plain": [
              "array([1, 2, 3, 4, 5])"
            ]
          },
          "metadata": {
            "tags": []
          },
          "execution_count": 182
        }
      ]
    },
    {
      "cell_type": "code",
      "metadata": {
        "id": "QVYNI3Be2cET",
        "outputId": "b114374d-a901-4598-d8a8-c22e38056ae4",
        "colab": {
          "base_uri": "https://localhost:8080/"
        }
      },
      "source": [
        "def bogosort(x):\n",
        "    while np.any(x[:-1] > x[1:]):\n",
        "        np.random.shuffle(x)\n",
        "    return x\n",
        "\n",
        "x = np.array([2, 1, 4, 5, 3])\n",
        "bogosort(x)"
      ],
      "execution_count": 183,
      "outputs": [
        {
          "output_type": "execute_result",
          "data": {
            "text/plain": [
              "array([1, 2, 3, 4, 5])"
            ]
          },
          "metadata": {
            "tags": []
          },
          "execution_count": 183
        }
      ]
    },
    {
      "cell_type": "code",
      "metadata": {
        "id": "GlameBXz2zF3",
        "outputId": "1676023e-bc29-4aba-835b-ba41b5b73fdb",
        "colab": {
          "base_uri": "https://localhost:8080/"
        }
      },
      "source": [
        "x = np.array([2, 1, 4, 5, 3])\n",
        "np.sort(x)"
      ],
      "execution_count": 184,
      "outputs": [
        {
          "output_type": "execute_result",
          "data": {
            "text/plain": [
              "array([1, 2, 3, 4, 5])"
            ]
          },
          "metadata": {
            "tags": []
          },
          "execution_count": 184
        }
      ]
    },
    {
      "cell_type": "code",
      "metadata": {
        "id": "mD9-Mlv63LMc",
        "outputId": "9b6db2b5-920a-4144-e965-6a4008e25a88",
        "colab": {
          "base_uri": "https://localhost:8080/"
        }
      },
      "source": [
        "x.sort()\n",
        "x"
      ],
      "execution_count": 185,
      "outputs": [
        {
          "output_type": "execute_result",
          "data": {
            "text/plain": [
              "array([1, 2, 3, 4, 5])"
            ]
          },
          "metadata": {
            "tags": []
          },
          "execution_count": 185
        }
      ]
    },
    {
      "cell_type": "code",
      "metadata": {
        "id": "bn-rvKPP3N4O",
        "outputId": "9f0d71c8-acbd-4533-c619-a990da1cf4f8",
        "colab": {
          "base_uri": "https://localhost:8080/"
        }
      },
      "source": [
        "x = np.array([2, 1, 4, 5, 3])\n",
        "i = np.argsort(x)\n",
        "print(i)"
      ],
      "execution_count": 186,
      "outputs": [
        {
          "output_type": "stream",
          "text": [
            "[1 0 4 2 3]\n"
          ],
          "name": "stdout"
        }
      ]
    },
    {
      "cell_type": "code",
      "metadata": {
        "id": "ZCjSWWAK3XNO",
        "outputId": "f5afd865-7c8e-4f81-a65c-893e328c2475",
        "colab": {
          "base_uri": "https://localhost:8080/"
        }
      },
      "source": [
        "x = np.random.randint(0, 10, (4, 6))\n",
        "x"
      ],
      "execution_count": 187,
      "outputs": [
        {
          "output_type": "execute_result",
          "data": {
            "text/plain": [
              "array([[5, 7, 1, 8, 4, 3],\n",
              "       [3, 4, 0, 5, 4, 7],\n",
              "       [1, 1, 3, 0, 1, 4],\n",
              "       [6, 9, 0, 0, 7, 8]])"
            ]
          },
          "metadata": {
            "tags": []
          },
          "execution_count": 187
        }
      ]
    },
    {
      "cell_type": "code",
      "metadata": {
        "id": "AHEG9lNz3iL_",
        "outputId": "ae91631b-dcd7-4f9e-9fb6-ec9d9d6c2c0f",
        "colab": {
          "base_uri": "https://localhost:8080/"
        }
      },
      "source": [
        "np.sort(x, axis=0)"
      ],
      "execution_count": 188,
      "outputs": [
        {
          "output_type": "execute_result",
          "data": {
            "text/plain": [
              "array([[1, 1, 0, 0, 1, 3],\n",
              "       [3, 4, 0, 0, 4, 4],\n",
              "       [5, 7, 1, 5, 4, 7],\n",
              "       [6, 9, 3, 8, 7, 8]])"
            ]
          },
          "metadata": {
            "tags": []
          },
          "execution_count": 188
        }
      ]
    },
    {
      "cell_type": "code",
      "metadata": {
        "id": "vCK-oL0S3lRP",
        "outputId": "e868cbef-befa-4e59-fd50-ff503f2297ba",
        "colab": {
          "base_uri": "https://localhost:8080/"
        }
      },
      "source": [
        "np.sort(x, axis=1)"
      ],
      "execution_count": 189,
      "outputs": [
        {
          "output_type": "execute_result",
          "data": {
            "text/plain": [
              "array([[1, 3, 4, 5, 7, 8],\n",
              "       [0, 3, 4, 4, 5, 7],\n",
              "       [0, 1, 1, 1, 3, 4],\n",
              "       [0, 0, 6, 7, 8, 9]])"
            ]
          },
          "metadata": {
            "tags": []
          },
          "execution_count": 189
        }
      ]
    },
    {
      "cell_type": "markdown",
      "metadata": {
        "id": "P-WvkBb_3y_2"
      },
      "source": [
        "# Partial sorts"
      ]
    },
    {
      "cell_type": "code",
      "metadata": {
        "id": "fOWj0rid3szH",
        "outputId": "812ccdff-893d-47d7-e22a-c3869a8ce672",
        "colab": {
          "base_uri": "https://localhost:8080/"
        }
      },
      "source": [
        "x = np.array([7, 2, 3, 1, 6, 5, 4])\n",
        "np.partition(x, 3)"
      ],
      "execution_count": 190,
      "outputs": [
        {
          "output_type": "execute_result",
          "data": {
            "text/plain": [
              "array([2, 1, 3, 4, 6, 5, 7])"
            ]
          },
          "metadata": {
            "tags": []
          },
          "execution_count": 190
        }
      ]
    },
    {
      "cell_type": "code",
      "metadata": {
        "id": "nu2Pgtv636wj",
        "outputId": "e0ba24e6-9a5b-472f-a1a9-429187c17baf",
        "colab": {
          "base_uri": "https://localhost:8080/"
        }
      },
      "source": [
        "x = np.random.randint(0, 10, (4, 6))\n",
        "np.partition(x, 2, axis=1)"
      ],
      "execution_count": 191,
      "outputs": [
        {
          "output_type": "execute_result",
          "data": {
            "text/plain": [
              "array([[0, 3, 5, 9, 8, 5],\n",
              "       [2, 2, 3, 7, 4, 4],\n",
              "       [0, 3, 4, 8, 6, 6],\n",
              "       [1, 1, 8, 9, 9, 9]])"
            ]
          },
          "metadata": {
            "tags": []
          },
          "execution_count": 191
        }
      ]
    },
    {
      "cell_type": "markdown",
      "metadata": {
        "id": "4hlfJeWo4f_6"
      },
      "source": [
        "# KNN"
      ]
    },
    {
      "cell_type": "code",
      "metadata": {
        "id": "etiyksu84SZv",
        "outputId": "34db50d4-243a-46a5-938d-68a1fdceaeca",
        "colab": {
          "base_uri": "https://localhost:8080/",
          "height": 268
        }
      },
      "source": [
        "x = np.random.rand(10, 2)\n",
        "plt.scatter(x[:, 0], x[:, 1], s=100)\n",
        "plt.show()"
      ],
      "execution_count": 192,
      "outputs": [
        {
          "output_type": "display_data",
          "data": {
            "image/png": "[encoded data removed]",
            "text/plain": [
              "<Figure size 432x288 with 1 Axes>"
            ]
          },
          "metadata": {
            "tags": []
          }
        }
      ]
    },
    {
      "cell_type": "code",
      "metadata": {
        "id": "OUKkCYA24qD0",
        "outputId": "871f061f-9749-40e4-ae3b-d4c41f06de8c",
        "colab": {
          "base_uri": "https://localhost:8080/"
        }
      },
      "source": [
        "dist_sq = np.sum((x[:, np.newaxis, :] - x[np.newaxis, :, :]) ** 2, axis=-1)\n",
        "dist_sq"
      ],
      "execution_count": 193,
      "outputs": [
        {
          "output_type": "execute_result",
          "data": {
            "text/plain": [
              "array([[0.        , 0.19978941, 0.42871569, 0.11155888, 0.1786994 ,\n",
              "        0.10431217, 0.02484459, 0.43549589, 0.28563451, 0.03703719],\n",
              "       [0.19978941, 0.        , 0.04332653, 0.26479665, 0.10710815,\n",
              "        0.01653624, 0.1264199 , 0.05137485, 0.3034348 , 0.06914876],\n",
              "       [0.42871569, 0.04332653, 0.        , 0.48193297, 0.20121363,\n",
              "        0.11103005, 0.31309537, 0.00627655, 0.4331017 , 0.21890689],\n",
              "       [0.11155888, 0.26479665, 0.48193297, 0.        , 0.45275499,\n",
              "        0.20144681, 0.05038376, 0.54112814, 0.70205567, 0.15748292],\n",
              "       [0.1786994 , 0.10710815, 0.20121363, 0.45275499, 0.        ,\n",
              "        0.07069566, 0.20333934, 0.16224961, 0.04998897, 0.07651249],\n",
              "       [0.10431217, 0.01653624, 0.11103005, 0.20144681, 0.07069566,\n",
              "        0.        , 0.06501051, 0.11414244, 0.23039974, 0.01818574],\n",
              "       [0.02484459, 0.1264199 , 0.31309537, 0.05038376, 0.20333934,\n",
              "        0.06501051, 0.        , 0.33809293, 0.37745014, 0.03040422],\n",
              "       [0.43549589, 0.05137485, 0.00627655, 0.54112814, 0.16224961,\n",
              "        0.11414244, 0.33809293, 0.        , 0.36217321, 0.21939537],\n",
              "       [0.28563451, 0.3034348 , 0.4331017 , 0.70205567, 0.04998897,\n",
              "        0.23039974, 0.37745014, 0.36217321, 0.        , 0.20373233],\n",
              "       [0.03703719, 0.06914876, 0.21890689, 0.15748292, 0.07651249,\n",
              "        0.01818574, 0.03040422, 0.21939537, 0.20373233, 0.        ]])"
            ]
          },
          "metadata": {
            "tags": []
          },
          "execution_count": 193
        }
      ]
    },
    {
      "cell_type": "code",
      "metadata": {
        "id": "OPRhuP5y5aDa",
        "outputId": "a055ded1-ac4c-4a0d-8ce0-47fce6ce27c8",
        "colab": {
          "base_uri": "https://localhost:8080/"
        }
      },
      "source": [
        "differences = x[:, np.newaxis, :] - x[np.newaxis, :, :]\n",
        "differences.shape"
      ],
      "execution_count": 194,
      "outputs": [
        {
          "output_type": "execute_result",
          "data": {
            "text/plain": [
              "(10, 10, 2)"
            ]
          },
          "metadata": {
            "tags": []
          },
          "execution_count": 194
        }
      ]
    },
    {
      "cell_type": "code",
      "metadata": {
        "id": "FBlONciz5oLg"
      },
      "source": [
        "sq_differences = differences ** 2"
      ],
      "execution_count": 195,
      "outputs": []
    },
    {
      "cell_type": "code",
      "metadata": {
        "id": "fB5uIyjP5udo",
        "outputId": "9476a7da-b4ff-4374-c7d8-552cb471063b",
        "colab": {
          "base_uri": "https://localhost:8080/"
        }
      },
      "source": [
        "dist_sq = sq_differences.sum(-1)\n",
        "dist_sq.shape"
      ],
      "execution_count": 196,
      "outputs": [
        {
          "output_type": "execute_result",
          "data": {
            "text/plain": [
              "(10, 10)"
            ]
          },
          "metadata": {
            "tags": []
          },
          "execution_count": 196
        }
      ]
    },
    {
      "cell_type": "code",
      "metadata": {
        "id": "TQNlH58-5zC3",
        "outputId": "ef375490-f598-4b08-efe9-8a0351933b76",
        "colab": {
          "base_uri": "https://localhost:8080/"
        }
      },
      "source": [
        "dist_sq.diagonal()"
      ],
      "execution_count": 197,
      "outputs": [
        {
          "output_type": "execute_result",
          "data": {
            "text/plain": [
              "array([0., 0., 0., 0., 0., 0., 0., 0., 0., 0.])"
            ]
          },
          "metadata": {
            "tags": []
          },
          "execution_count": 197
        }
      ]
    },
    {
      "cell_type": "code",
      "metadata": {
        "id": "jQJqRvZd53IP",
        "outputId": "a8b468be-6e53-4e75-ef1c-fcfbd35d92e4",
        "colab": {
          "base_uri": "https://localhost:8080/"
        }
      },
      "source": [
        "nearest = np.argsort(dist_sq, axis=1)\n",
        "nearest"
      ],
      "execution_count": 198,
      "outputs": [
        {
          "output_type": "execute_result",
          "data": {
            "text/plain": [
              "array([[0, 6, 9, 5, 3, 4, 1, 8, 2, 7],\n",
              "       [1, 5, 2, 7, 9, 4, 6, 0, 3, 8],\n",
              "       [2, 7, 1, 5, 4, 9, 6, 0, 8, 3],\n",
              "       [3, 6, 0, 9, 5, 1, 4, 2, 7, 8],\n",
              "       [4, 8, 5, 9, 1, 7, 0, 2, 6, 3],\n",
              "       [5, 1, 9, 6, 4, 0, 2, 7, 3, 8],\n",
              "       [6, 0, 9, 3, 5, 1, 4, 2, 7, 8],\n",
              "       [7, 2, 1, 5, 4, 9, 6, 8, 0, 3],\n",
              "       [8, 4, 9, 5, 0, 1, 7, 6, 2, 3],\n",
              "       [9, 5, 6, 0, 1, 4, 3, 8, 2, 7]])"
            ]
          },
          "metadata": {
            "tags": []
          },
          "execution_count": 198
        }
      ]
    },
    {
      "cell_type": "code",
      "metadata": {
        "id": "zc3eyoJk5-As"
      },
      "source": [
        "K = 2\n",
        "nearest_partition = np.argpartition(dist_sq, K + 1, axis = 1)"
      ],
      "execution_count": 199,
      "outputs": []
    },
    {
      "cell_type": "code",
      "metadata": {
        "id": "w9fvjx0O6MUg",
        "outputId": "c5cd435c-ddb3-49c2-ac6a-66d12f08200c",
        "colab": {
          "base_uri": "https://localhost:8080/",
          "height": 268
        }
      },
      "source": [
        "plt.scatter(x[:, 0], x[:, 1], s=100)\n",
        "\n",
        "K = 2\n",
        "for i in range(x.shape[0]):\n",
        "    for j in nearest_partition[i, :K+1]:\n",
        "        plt.plot(*zip(x[j], x[i]), color=\"black\")\n",
        "plt.show()"
      ],
      "execution_count": 200,
      "outputs": [
        {
          "output_type": "display_data",
          "data": {
            "image/png": "[encoded data removed]",
            "text/plain": [
              "<Figure size 432x288 with 1 Axes>"
            ]
          },
          "metadata": {
            "tags": []
          }
        }
      ]
    },
    {
      "cell_type": "markdown",
      "metadata": {
        "id": "TJqdoE4k7j9Q"
      },
      "source": [
        "# Structured data"
      ]
    },
    {
      "cell_type": "code",
      "metadata": {
        "id": "OzsAfn_I6fxt"
      },
      "source": [
        "name = [\"Alice\", \"Bob\", \"Cathy\", \"Dough\"]\n",
        "age = [25, 45, 37, 19]\n",
        "weight = [55., 85.5, 68., 61.5]"
      ],
      "execution_count": 201,
      "outputs": []
    },
    {
      "cell_type": "code",
      "metadata": {
        "id": "A73eUdVP8Aej",
        "outputId": "f791df7f-1875-4c1d-fc3f-4d4e577942d3",
        "colab": {
          "base_uri": "https://localhost:8080/"
        }
      },
      "source": [
        "data = np.zeros(4, dtype={\"names\": (\"name\", \"age\", \"weight\"),\n",
        "                          \"formats\": (\"U10\", \"i4\", \"f8\")})\n",
        "data.dtype"
      ],
      "execution_count": 202,
      "outputs": [
        {
          "output_type": "execute_result",
          "data": {
            "text/plain": [
              "dtype([('name', '<U10'), ('age', '<i4'), ('weight', '<f8')])"
            ]
          },
          "metadata": {
            "tags": []
          },
          "execution_count": 202
        }
      ]
    },
    {
      "cell_type": "code",
      "metadata": {
        "id": "tJrtHxmM8RGZ",
        "outputId": "47b9c266-aeb1-499f-8aae-e6fbb7ecea00",
        "colab": {
          "base_uri": "https://localhost:8080/"
        }
      },
      "source": [
        "data[\"name\"] = name\n",
        "data[\"age\"] = age\n",
        "data[\"weight\"] = weight\n",
        "data"
      ],
      "execution_count": 203,
      "outputs": [
        {
          "output_type": "execute_result",
          "data": {
            "text/plain": [
              "array([('Alice', 25, 55. ), ('Bob', 45, 85.5), ('Cathy', 37, 68. ),\n",
              "       ('Dough', 19, 61.5)],\n",
              "      dtype=[('name', '<U10'), ('age', '<i4'), ('weight', '<f8')])"
            ]
          },
          "metadata": {
            "tags": []
          },
          "execution_count": 203
        }
      ]
    },
    {
      "cell_type": "code",
      "metadata": {
        "id": "aDMEtp9T8eo-",
        "outputId": "4405b336-5d14-4c58-b4db-0628c47cd75e",
        "colab": {
          "base_uri": "https://localhost:8080/"
        }
      },
      "source": [
        "data[\"name\"]"
      ],
      "execution_count": 204,
      "outputs": [
        {
          "output_type": "execute_result",
          "data": {
            "text/plain": [
              "array(['Alice', 'Bob', 'Cathy', 'Dough'], dtype='<U10')"
            ]
          },
          "metadata": {
            "tags": []
          },
          "execution_count": 204
        }
      ]
    },
    {
      "cell_type": "code",
      "metadata": {
        "id": "4i33JwSD8jp2",
        "outputId": "b0fff92e-8129-4d53-8982-5d29f9f14541",
        "colab": {
          "base_uri": "https://localhost:8080/"
        }
      },
      "source": [
        "data[0]"
      ],
      "execution_count": 205,
      "outputs": [
        {
          "output_type": "execute_result",
          "data": {
            "text/plain": [
              "('Alice', 25, 55.)"
            ]
          },
          "metadata": {
            "tags": []
          },
          "execution_count": 205
        }
      ]
    },
    {
      "cell_type": "code",
      "metadata": {
        "id": "jmiig51O8npK",
        "outputId": "4a2e70af-5a1e-45c1-caa2-01181bb932be",
        "colab": {
          "base_uri": "https://localhost:8080/",
          "height": 35
        }
      },
      "source": [
        "data[-1][\"name\"]"
      ],
      "execution_count": 206,
      "outputs": [
        {
          "output_type": "execute_result",
          "data": {
            "application/vnd.google.colaboratory.intrinsic+json": {
              "type": "string"
            },
            "text/plain": [
              "'Dough'"
            ]
          },
          "metadata": {
            "tags": []
          },
          "execution_count": 206
        }
      ]
    },
    {
      "cell_type": "code",
      "metadata": {
        "id": "5LpMF1j_8pW-",
        "outputId": "ed725696-2eba-45ef-cb23-f725f170ffb3",
        "colab": {
          "base_uri": "https://localhost:8080/"
        }
      },
      "source": [
        "data[data[\"age\"] < 30][\"name\"]"
      ],
      "execution_count": 207,
      "outputs": [
        {
          "output_type": "execute_result",
          "data": {
            "text/plain": [
              "array(['Alice', 'Dough'], dtype='<U10')"
            ]
          },
          "metadata": {
            "tags": []
          },
          "execution_count": 207
        }
      ]
    },
    {
      "cell_type": "markdown",
      "metadata": {
        "id": "zeGaPLoo8wx3"
      },
      "source": [
        "# Creation of structured arrays"
      ]
    },
    {
      "cell_type": "code",
      "metadata": {
        "id": "igPHaT598uDR",
        "outputId": "f6817139-7106-4494-a068-6a91f28e166f",
        "colab": {
          "base_uri": "https://localhost:8080/"
        }
      },
      "source": [
        "np.dtype([(\"name\", \"S10\"), (\"age\", \"i4\"), (\"weight\", \"f8\")])"
      ],
      "execution_count": 208,
      "outputs": [
        {
          "output_type": "execute_result",
          "data": {
            "text/plain": [
              "dtype([('name', 'S10'), ('age', '<i4'), ('weight', '<f8')])"
            ]
          },
          "metadata": {
            "tags": []
          },
          "execution_count": 208
        }
      ]
    },
    {
      "cell_type": "code",
      "metadata": {
        "id": "iIwrBWGP9CbM",
        "outputId": "da7d5c17-7d4b-4d45-e986-88e23288d620",
        "colab": {
          "base_uri": "https://localhost:8080/"
        }
      },
      "source": [
        "np.dtype(\"S10,i4,f8\")"
      ],
      "execution_count": 209,
      "outputs": [
        {
          "output_type": "execute_result",
          "data": {
            "text/plain": [
              "dtype([('f0', 'S10'), ('f1', '<i4'), ('f2', '<f8')])"
            ]
          },
          "metadata": {
            "tags": []
          },
          "execution_count": 209
        }
      ]
    },
    {
      "cell_type": "code",
      "metadata": {
        "id": "Rrq7lq4U9JFQ",
        "outputId": "b4894095-8bef-4d3d-e02f-61f4da69e4cf",
        "colab": {
          "base_uri": "https://localhost:8080/"
        }
      },
      "source": [
        "tp = np.dtype([(\"id\", \"i8\"), (\"mat\", \"f8\", (3, 3))])\n",
        "x = np.zeros(1, dtype=tp)\n",
        "\n",
        "print(x[0])\n",
        "print(x[\"mat\"][0])"
      ],
      "execution_count": 210,
      "outputs": [
        {
          "output_type": "stream",
          "text": [
            "(0, [[0., 0., 0.], [0., 0., 0.], [0., 0., 0.]])\n",
            "[[0. 0. 0.]\n",
            " [0. 0. 0.]\n",
            " [0. 0. 0.]]\n"
          ],
          "name": "stdout"
        }
      ]
    },
    {
      "cell_type": "markdown",
      "metadata": {
        "id": "lKrSHyQQ9tyv"
      },
      "source": [
        "# Arrays of records"
      ]
    },
    {
      "cell_type": "code",
      "metadata": {
        "id": "Sqe-VpQH9cSr",
        "outputId": "4a0a8293-6caf-4332-dd37-c527bc1ba6c1",
        "colab": {
          "base_uri": "https://localhost:8080/"
        }
      },
      "source": [
        "data_rec = data.view(np.recarray)\n",
        "data_rec.age"
      ],
      "execution_count": 211,
      "outputs": [
        {
          "output_type": "execute_result",
          "data": {
            "text/plain": [
              "array([25, 45, 37, 19], dtype=int32)"
            ]
          },
          "metadata": {
            "tags": []
          },
          "execution_count": 211
        }
      ]
    },
    {
      "cell_type": "code",
      "metadata": {
        "id": "LNUw1XEZ95_n",
        "outputId": "e8cbfa3e-5f4e-4800-e89c-07ccfb07d134",
        "colab": {
          "base_uri": "https://localhost:8080/"
        }
      },
      "source": [
        "%timeit data[\"age\"]\n",
        "%timeit data_rec[\"age\"]\n",
        "%timeit data_rec.age"
      ],
      "execution_count": 212,
      "outputs": [
        {
          "output_type": "stream",
          "text": [
            "The slowest run took 69.81 times longer than the fastest. This could mean that an intermediate result is being cached.\n",
            "10000000 loops, best of 3: 158 ns per loop\n",
            "The slowest run took 9.34 times longer than the fastest. This could mean that an intermediate result is being cached.\n",
            "100000 loops, best of 3: 3 µs per loop\n",
            "The slowest run took 7.53 times longer than the fastest. This could mean that an intermediate result is being cached.\n",
            "100000 loops, best of 3: 3.82 µs per loop\n"
          ],
          "name": "stdout"
        }
      ]
    },
    {
      "cell_type": "code",
      "metadata": {
        "id": "ebfozcHn-BU0"
      },
      "source": [
        ""
      ],
      "execution_count": 212,
      "outputs": []
    }
  ]
}