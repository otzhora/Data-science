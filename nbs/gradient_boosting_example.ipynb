{
 "cells": [
  {
   "cell_type": "code",
   "execution_count": 1,
   "outputs": [],
   "source": [
    "%matplotlib inline"
   ],
   "metadata": {
    "collapsed": false,
    "pycharm": {
     "name": "#%%\n"
    }
   }
  },
  {
   "cell_type": "code",
   "execution_count": 2,
   "metadata": {
    "collapsed": true
   },
   "outputs": [],
   "source": [
    "import os\n",
    "from pathlib import Path\n",
    "\n",
    "import pandas as pd\n",
    "import numpy as np\n",
    "from matplotlib import pyplot as plt\n",
    "from sklearn.model_selection import train_test_split\n",
    "from sklearn.metrics import log_loss\n",
    "from sklearn.ensemble import GradientBoostingClassifier, RandomForestClassifier"
   ]
  },
  {
   "cell_type": "code",
   "execution_count": 3,
   "outputs": [],
   "source": [
    "data_path = Path(os.getcwd()).parent/\"data\"\n",
    "\n",
    "df = pd.read_csv(data_path/\"gbm-data.csv\")"
   ],
   "metadata": {
    "collapsed": false,
    "pycharm": {
     "name": "#%%\n"
    }
   }
  },
  {
   "cell_type": "code",
   "execution_count": 4,
   "outputs": [],
   "source": [
    "def save_ans(*ans, delimiter=\" \"):\n",
    "    with open(data_path.parent/\"res.txt\", \"w\") as f:\n",
    "        f.write(delimiter.join(map(str, ans)))"
   ],
   "metadata": {
    "collapsed": false,
    "pycharm": {
     "name": "#%%\n"
    }
   }
  },
  {
   "cell_type": "code",
   "execution_count": 5,
   "outputs": [
    {
     "data": {
      "text/plain": "   Activity        D1        D2    D3   D4        D5        D6        D7  \\\n0         1  0.000000  0.497009  0.10  0.0  0.132956  0.678031  0.273166   \n1         1  0.366667  0.606291  0.05  0.0  0.111209  0.803455  0.106105   \n2         1  0.033300  0.480124  0.00  0.0  0.209791  0.610350  0.356453   \n3         1  0.000000  0.538825  0.00  0.5  0.196344  0.724230  0.235606   \n4         0  0.100000  0.517794  0.00  0.0  0.494734  0.781422  0.154361   \n\n         D8        D9  ...  D1767  D1768  D1769  D1770  D1771  D1772  D1773  \\\n0  0.585445  0.743663  ...      0      0      0      0      0      0      0   \n1  0.411754  0.836582  ...      1      1      1      1      0      1      0   \n2  0.517720  0.679051  ...      0      0      0      0      0      0      0   \n3  0.288764  0.805110  ...      0      0      0      0      0      0      0   \n4  0.303809  0.812646  ...      0      0      0      0      0      0      0   \n\n   D1774  D1775  D1776  \n0      0      0      0  \n1      0      1      0  \n2      0      0      0  \n3      0      0      0  \n4      0      0      0  \n\n[5 rows x 1777 columns]",
      "text/html": "<div>\n<style scoped>\n    .dataframe tbody tr th:only-of-type {\n        vertical-align: middle;\n    }\n\n    .dataframe tbody tr th {\n        vertical-align: top;\n    }\n\n    .dataframe thead th {\n        text-align: right;\n    }\n</style>\n<table border=\"1\" class=\"dataframe\">\n  <thead>\n    <tr style=\"text-align: right;\">\n      <th></th>\n      <th>Activity</th>\n      <th>D1</th>\n      <th>D2</th>\n      <th>D3</th>\n      <th>D4</th>\n      <th>D5</th>\n      <th>D6</th>\n      <th>D7</th>\n      <th>D8</th>\n      <th>D9</th>\n      <th>...</th>\n      <th>D1767</th>\n      <th>D1768</th>\n      <th>D1769</th>\n      <th>D1770</th>\n      <th>D1771</th>\n      <th>D1772</th>\n      <th>D1773</th>\n      <th>D1774</th>\n      <th>D1775</th>\n      <th>D1776</th>\n    </tr>\n  </thead>\n  <tbody>\n    <tr>\n      <th>0</th>\n      <td>1</td>\n      <td>0.000000</td>\n      <td>0.497009</td>\n      <td>0.10</td>\n      <td>0.0</td>\n      <td>0.132956</td>\n      <td>0.678031</td>\n      <td>0.273166</td>\n      <td>0.585445</td>\n      <td>0.743663</td>\n      <td>...</td>\n      <td>0</td>\n      <td>0</td>\n      <td>0</td>\n      <td>0</td>\n      <td>0</td>\n      <td>0</td>\n      <td>0</td>\n      <td>0</td>\n      <td>0</td>\n      <td>0</td>\n    </tr>\n    <tr>\n      <th>1</th>\n      <td>1</td>\n      <td>0.366667</td>\n      <td>0.606291</td>\n      <td>0.05</td>\n      <td>0.0</td>\n      <td>0.111209</td>\n      <td>0.803455</td>\n      <td>0.106105</td>\n      <td>0.411754</td>\n      <td>0.836582</td>\n      <td>...</td>\n      <td>1</td>\n      <td>1</td>\n      <td>1</td>\n      <td>1</td>\n      <td>0</td>\n      <td>1</td>\n      <td>0</td>\n      <td>0</td>\n      <td>1</td>\n      <td>0</td>\n    </tr>\n    <tr>\n      <th>2</th>\n      <td>1</td>\n      <td>0.033300</td>\n      <td>0.480124</td>\n      <td>0.00</td>\n      <td>0.0</td>\n      <td>0.209791</td>\n      <td>0.610350</td>\n      <td>0.356453</td>\n      <td>0.517720</td>\n      <td>0.679051</td>\n      <td>...</td>\n      <td>0</td>\n      <td>0</td>\n      <td>0</td>\n      <td>0</td>\n      <td>0</td>\n      <td>0</td>\n      <td>0</td>\n      <td>0</td>\n      <td>0</td>\n      <td>0</td>\n    </tr>\n    <tr>\n      <th>3</th>\n      <td>1</td>\n      <td>0.000000</td>\n      <td>0.538825</td>\n      <td>0.00</td>\n      <td>0.5</td>\n      <td>0.196344</td>\n      <td>0.724230</td>\n      <td>0.235606</td>\n      <td>0.288764</td>\n      <td>0.805110</td>\n      <td>...</td>\n      <td>0</td>\n      <td>0</td>\n      <td>0</td>\n      <td>0</td>\n      <td>0</td>\n      <td>0</td>\n      <td>0</td>\n      <td>0</td>\n      <td>0</td>\n      <td>0</td>\n    </tr>\n    <tr>\n      <th>4</th>\n      <td>0</td>\n      <td>0.100000</td>\n      <td>0.517794</td>\n      <td>0.00</td>\n      <td>0.0</td>\n      <td>0.494734</td>\n      <td>0.781422</td>\n      <td>0.154361</td>\n      <td>0.303809</td>\n      <td>0.812646</td>\n      <td>...</td>\n      <td>0</td>\n      <td>0</td>\n      <td>0</td>\n      <td>0</td>\n      <td>0</td>\n      <td>0</td>\n      <td>0</td>\n      <td>0</td>\n      <td>0</td>\n      <td>0</td>\n    </tr>\n  </tbody>\n</table>\n<p>5 rows × 1777 columns</p>\n</div>"
     },
     "execution_count": 5,
     "metadata": {},
     "output_type": "execute_result"
    }
   ],
   "source": [
    "df.head()"
   ],
   "metadata": {
    "collapsed": false,
    "pycharm": {
     "name": "#%%\n"
    }
   }
  },
  {
   "cell_type": "code",
   "execution_count": 6,
   "outputs": [],
   "source": [
    "X = df.iloc[:, 1:].to_numpy()\n",
    "y = df[\"Activity\"]"
   ],
   "metadata": {
    "collapsed": false,
    "pycharm": {
     "name": "#%%\n"
    }
   }
  },
  {
   "cell_type": "code",
   "execution_count": 7,
   "outputs": [],
   "source": [
    "X_train, X_test, y_train, y_test = train_test_split(X, y,\n",
    "                                                    test_size=0.8,\n",
    "                                                    random_state=241)"
   ],
   "metadata": {
    "collapsed": false,
    "pycharm": {
     "name": "#%%\n"
    }
   }
  },
  {
   "cell_type": "code",
   "execution_count": 8,
   "outputs": [
    {
     "name": "stdout",
     "output_type": "stream",
     "text": [
      "Training with lr=1\n",
      "      Iter       Train Loss   Remaining Time \n",
      "         1           1.0190           19.27s\n",
      "         2           0.9192           15.69s\n",
      "         3           0.8272           14.62s\n",
      "         4           0.7834           14.27s\n",
      "         5           0.7109           13.72s\n",
      "         6           0.6368           13.20s\n",
      "         7           0.5797           12.70s\n",
      "         8           0.5610           12.37s\n",
      "         9           0.5185           12.84s\n",
      "        10           0.4984           12.86s\n",
      "        20           0.1999           10.81s\n",
      "        30           0.1313            9.90s\n",
      "        40           0.0790            9.17s\n",
      "        50           0.0511            8.67s\n",
      "        60           0.0352            8.08s\n",
      "        70           0.0245            7.54s\n",
      "        80           0.0162            7.04s\n",
      "        90           0.0114            6.58s\n",
      "       100           0.0077            6.14s\n",
      "       200           0.0002            1.98s\n",
      "\n",
      "Training with lr=0.5\n",
      "      Iter       Train Loss   Remaining Time \n",
      "         1           1.1255            8.96s\n",
      "         2           1.0035            8.93s\n",
      "         3           0.9386            9.54s\n",
      "         4           0.8844           10.33s\n",
      "         5           0.8381           11.84s\n",
      "         6           0.7995           11.55s\n",
      "         7           0.7559           11.16s\n",
      "         8           0.7205           10.85s\n",
      "         9           0.6958           10.61s\n",
      "        10           0.6725           10.39s\n",
      "        20           0.4672           10.79s\n",
      "        30           0.3179           10.92s\n",
      "        40           0.2274           10.12s\n",
      "        50           0.1774           10.55s\n",
      "        60           0.1394            9.82s\n",
      "        70           0.1050            9.12s\n",
      "        80           0.0805            8.70s\n",
      "        90           0.0650            8.04s\n",
      "       100           0.0511            9.42s\n",
      "       200           0.0058            4.06s\n",
      "\n",
      "Training with lr=0.3\n",
      "      Iter       Train Loss   Remaining Time \n",
      "         1           1.2095           24.42s\n",
      "         2           1.1006           20.60s\n",
      "         3           1.0240           26.79s\n",
      "         4           0.9729           24.46s\n",
      "         5           0.9387           23.04s\n",
      "         6           0.8948           22.29s\n",
      "         7           0.8621           26.28s\n",
      "         8           0.8360           30.19s\n",
      "         9           0.8171           30.48s\n",
      "        10           0.7883           31.40s\n",
      "        20           0.6029           25.44s\n",
      "        30           0.4760           22.29s\n",
      "        40           0.3879           19.74s\n",
      "        50           0.3325           17.05s\n",
      "        60           0.2759           14.98s\n",
      "        70           0.2304           13.31s\n",
      "        80           0.1969           11.97s\n",
      "        90           0.1718           10.90s\n",
      "       100           0.1404            9.89s\n",
      "       200           0.0358            2.61s\n",
      "\n",
      "Training with lr=0.2\n",
      "      Iter       Train Loss   Remaining Time \n",
      "         1           1.2613            9.24s\n",
      "         2           1.1715            8.97s\n",
      "         3           1.1009            9.35s\n",
      "         4           1.0529           10.07s\n",
      "         5           1.0130           10.77s\n",
      "         6           0.9740           11.36s\n",
      "         7           0.9475           11.60s\n",
      "         8           0.9197           12.29s\n",
      "         9           0.8979           13.87s\n",
      "        10           0.8730           14.90s\n",
      "        20           0.7207           13.27s\n",
      "        30           0.6055           20.88s\n",
      "        40           0.5244           18.26s\n",
      "        50           0.4501           15.89s\n",
      "        60           0.3908           16.62s\n",
      "        70           0.3372           15.58s\n",
      "        80           0.3009           15.17s\n",
      "        90           0.2603           14.18s\n",
      "       100           0.2327           13.69s\n",
      "       200           0.0835            4.31s\n",
      "\n",
      "Training with lr=0.1\n",
      "      Iter       Train Loss   Remaining Time \n",
      "         1           1.3199            9.92s\n",
      "         2           1.2645            9.56s\n",
      "         3           1.2170            9.40s\n",
      "         4           1.1775            9.31s\n",
      "         5           1.1404            9.68s\n",
      "         6           1.1106           12.50s\n",
      "         7           1.0844           12.08s\n",
      "         8           1.0617           11.75s\n",
      "         9           1.0411           11.66s\n",
      "        10           1.0223           12.05s\n",
      "        20           0.8864           11.44s\n",
      "        30           0.7844           11.40s\n",
      "        40           0.7176           10.30s\n",
      "        50           0.6590           10.18s\n",
      "        60           0.6120            9.59s\n",
      "        70           0.5599            8.85s\n",
      "        80           0.5242            8.17s\n",
      "        90           0.4829            7.50s\n",
      "       100           0.4473            6.88s\n",
      "       200           0.2379            2.38s\n",
      "\n"
     ]
    },
    {
     "data": {
      "text/plain": "<Figure size 432x288 with 1 Axes>",
      "image/png": "[encoded data removed]"
     },
     "metadata": {
      "needs_background": "light"
     },
     "output_type": "display_data"
    }
   ],
   "source": [
    "losses = []\n",
    "lrs = [1, 0.5, 0.3, 0.2, 0.1]\n",
    "colors = [\"orange\", \"turquoise\", \"blue\", \"gray\", \"magenta\"]\n",
    "\n",
    "plt.figure()\n",
    "\n",
    "for e, lr in enumerate(lrs):\n",
    "    print(f\"Training with lr={lr}\")\n",
    "    clf = GradientBoostingClassifier(n_estimators=250,\n",
    "                                     verbose=True,\n",
    "                                     random_state=241,\n",
    "                                     learning_rate=lr)\n",
    "    clf.fit(X_train, y_train)\n",
    "    res = np.zeros((clf.n_estimators_, ), dtype=np.float64)\n",
    "\n",
    "    for i, y_pred in enumerate(clf.staged_predict_proba(X_test)):\n",
    "        res[i] = log_loss(y_test, y_pred)\n",
    "\n",
    "    losses.append(res)\n",
    "\n",
    "    plt.plot((np.arange(res.shape[0]) + 1)[::5], res[::5],\n",
    "             \"-\",\n",
    "             color=colors[e],\n",
    "             label=lr)\n",
    "    print()\n",
    "\n",
    "plt.show()"
   ],
   "metadata": {
    "collapsed": false,
    "pycharm": {
     "name": "#%%\n"
    }
   }
  },
  {
   "cell_type": "code",
   "execution_count": 9,
   "outputs": [],
   "source": [
    "save_ans(\"overfitting\")"
   ],
   "metadata": {
    "collapsed": false,
    "pycharm": {
     "name": "#%%\n"
    }
   }
  },
  {
   "cell_type": "code",
   "execution_count": 10,
   "outputs": [
    {
     "data": {
      "text/plain": "(0.5301645204906471, 36)"
     },
     "execution_count": 10,
     "metadata": {},
     "output_type": "execute_result"
    }
   ],
   "source": [
    "losses[3].min(), losses[3].argmin()"
   ],
   "metadata": {
    "collapsed": false,
    "pycharm": {
     "name": "#%%\n"
    }
   }
  },
  {
   "cell_type": "code",
   "execution_count": 11,
   "outputs": [],
   "source": [
    "save_ans(np.around(losses[3].min(), 2), losses[3].argmin())"
   ],
   "metadata": {
    "collapsed": false,
    "pycharm": {
     "name": "#%%\n"
    }
   }
  },
  {
   "cell_type": "code",
   "execution_count": 12,
   "outputs": [
    {
     "data": {
      "text/plain": "0.5415685811957381"
     },
     "execution_count": 12,
     "metadata": {},
     "output_type": "execute_result"
    }
   ],
   "source": [
    "clf = RandomForestClassifier(n_estimators=36, random_state=241)\n",
    "clf.fit(X_train, y_train)\n",
    "\n",
    "loss = log_loss(y_test, clf.predict_proba(X_test))\n",
    "loss"
   ],
   "metadata": {
    "collapsed": false,
    "pycharm": {
     "name": "#%%\n"
    }
   }
  },
  {
   "cell_type": "code",
   "execution_count": 13,
   "outputs": [],
   "source": [
    "save_ans(np.around(loss, 2))"
   ],
   "metadata": {
    "collapsed": false,
    "pycharm": {
     "name": "#%%\n"
    }
   }
  },
  {
   "cell_type": "code",
   "execution_count": 13,
   "outputs": [],
   "source": [],
   "metadata": {
    "collapsed": false,
    "pycharm": {
     "name": "#%%\n"
    }
   }
  }
 ],
 "metadata": {
  "kernelspec": {
   "display_name": "Python 3",
   "language": "python",
   "name": "python3"
  },
  "language_info": {
   "codemirror_mode": {
    "name": "ipython",
    "version": 2
   },
   "file_extension": ".py",
   "mimetype": "text/x-python",
   "name": "python",
   "nbconvert_exporter": "python",
   "pygments_lexer": "ipython2",
   "version": "2.7.6"
  }
 },
 "nbformat": 4,
 "nbformat_minor": 0
}