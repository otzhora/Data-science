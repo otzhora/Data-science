{
 "cells": [
  {
   "cell_type": "markdown",
   "source": [
    "# Imports and reading data"
   ],
   "metadata": {
    "collapsed": false,
    "pycharm": {
     "name": "#%% md\n"
    }
   }
  },
  {
   "cell_type": "code",
   "execution_count": 1,
   "metadata": {
    "collapsed": true
   },
   "outputs": [],
   "source": [
    "import os\n",
    "from pathlib import Path\n",
    "\n",
    "import pandas as pd\n",
    "from tqdm.notebook import tqdm\n",
    "import numpy as np\n",
    "from sklearn.ensemble import GradientBoostingClassifier\n",
    "from sklearn.linear_model import LogisticRegression\n",
    "from sklearn.preprocessing import StandardScaler\n",
    "from sklearn.model_selection import KFold, cross_val_score\n",
    "from sklearn.metrics import roc_auc_score, make_scorer"
   ]
  },
  {
   "cell_type": "code",
   "execution_count": 2,
   "outputs": [],
   "source": [
    "data_path = Path(os.getcwd()).parent/\"data\"/\"dota\"\n",
    "\n",
    "df = pd.read_csv(data_path/\"features.csv\", index_col=\"match_id\")\n",
    "df_test = pd.read_csv(data_path/\"features_test.csv\", index_col=\"match_id\")\n",
    "\n",
    "y = df.loc[:, \"radiant_win\"].astype(float).to_numpy() # extract answers for df\n",
    "\n",
    "# drop \"future\" features\n",
    "df.drop(columns=[\"start_time\",\n",
    "                 \"radiant_win\",\n",
    "                 \"tower_status_radiant\",\n",
    "                 \"tower_status_dire\",\n",
    "                 \"barracks_status_radiant\",\n",
    "                 \"barracks_status_dire\",\n",
    "                 \"duration\"], inplace=True)"
   ],
   "metadata": {
    "collapsed": false,
    "pycharm": {
     "name": "#%%\n"
    }
   }
  },
  {
   "cell_type": "markdown",
   "source": [
    "# EDA"
   ],
   "metadata": {
    "collapsed": false,
    "pycharm": {
     "name": "#%% md\n"
    }
   }
  },
  {
   "cell_type": "markdown",
   "source": [
    "Давайте посмотрим на то какие фичи у нас есть"
   ],
   "metadata": {
    "collapsed": false,
    "pycharm": {
     "name": "#%% md\n"
    }
   }
  },
  {
   "cell_type": "code",
   "execution_count": 3,
   "outputs": [
    {
     "data": {
      "text/plain": "         lobby_type       r1_hero      r1_level         r1_xp       r1_gold  \\\ncount  97230.000000  97230.000000  97230.000000  97230.000000  97230.000000   \nmean       2.630999     51.517104      3.442672   1233.405801   1147.899702   \nstd        2.835761     32.564211      1.111741    566.588895    464.111662   \nmin        0.000000      1.000000      0.000000      0.000000      0.000000   \n25%        1.000000     22.000000      3.000000    767.000000    746.000000   \n50%        1.000000     50.000000      3.000000   1175.000000   1113.000000   \n75%        7.000000     75.000000      4.000000   1704.000000   1479.000000   \nmax        7.000000    112.000000      6.000000   3319.000000   4332.000000   \n\n              r1_lh      r1_kills     r1_deaths      r1_items       r2_hero  \\\ncount  97230.000000  97230.000000  97230.000000  97230.000000  97230.000000   \nmean      11.231996      0.357009      0.362285      8.271315     52.183452   \nstd        9.041620      0.663889      0.626704      2.497575     32.674077   \nmin        0.000000      0.000000      0.000000      0.000000      1.000000   \n25%        2.000000      0.000000      0.000000      7.000000     25.000000   \n50%       11.000000      0.000000      0.000000      8.000000     50.000000   \n75%       19.000000      1.000000      1.000000     10.000000     75.000000   \nmax       47.000000      8.000000      5.000000     34.000000    112.000000   \n\n       ...  radiant_ward_sentry_count  radiant_first_ward_time  \\\ncount  ...               97230.000000             95394.000000   \nmean   ...                   0.716250                -6.875747   \nstd    ...                   0.725331                39.508650   \nmin    ...                   0.000000              -236.000000   \n25%    ...                   0.000000               -31.000000   \n50%    ...                   1.000000               -15.000000   \n75%    ...                   1.000000                 9.000000   \nmax    ...                  25.000000               300.000000   \n\n       dire_bottle_time  dire_courier_time  dire_flying_courier_time  \\\ncount      81087.000000       96554.000000              71132.000000   \nmean         127.215028         -80.191893                214.870536   \nstd           62.442018          15.261950                 34.137158   \nmin          -45.000000         -90.000000                180.000000   \n25%           83.000000         -86.000000                185.000000   \n50%          131.000000         -84.000000                203.000000   \n75%          165.000000         -79.000000                238.000000   \nmax          300.000000         296.000000                300.000000   \n\n       dire_tpscroll_count  dire_boots_count  dire_ward_observer_count  \\\ncount         97230.000000      97230.000000              97230.000000   \nmean              2.965566          3.349553                  2.448339   \nstd               1.907288          1.155609                  0.813459   \nmin               0.000000          0.000000                  0.000000   \n25%               2.000000          3.000000                  2.000000   \n50%               3.000000          3.000000                  2.000000   \n75%               4.000000          4.000000                  3.000000   \nmax              21.000000          9.000000                  9.000000   \n\n       dire_ward_sentry_count  dire_first_ward_time  \ncount            97230.000000          95404.000000  \nmean                 0.689119             -6.901922  \nstd                  0.710122             40.701397  \nmin                  0.000000            -84.000000  \n25%                  0.000000            -31.000000  \n50%                  1.000000            -16.000000  \n75%                  1.000000              8.000000  \nmax                 13.000000            300.000000  \n\n[8 rows x 101 columns]",
      "text/html": "<div>\n<style scoped>\n    .dataframe tbody tr th:only-of-type {\n        vertical-align: middle;\n    }\n\n    .dataframe tbody tr th {\n        vertical-align: top;\n    }\n\n    .dataframe thead th {\n        text-align: right;\n    }\n</style>\n<table border=\"1\" class=\"dataframe\">\n  <thead>\n    <tr style=\"text-align: right;\">\n      <th></th>\n      <th>lobby_type</th>\n      <th>r1_hero</th>\n      <th>r1_level</th>\n      <th>r1_xp</th>\n      <th>r1_gold</th>\n      <th>r1_lh</th>\n      <th>r1_kills</th>\n      <th>r1_deaths</th>\n      <th>r1_items</th>\n      <th>r2_hero</th>\n      <th>...</th>\n      <th>radiant_ward_sentry_count</th>\n      <th>radiant_first_ward_time</th>\n      <th>dire_bottle_time</th>\n      <th>dire_courier_time</th>\n      <th>dire_flying_courier_time</th>\n      <th>dire_tpscroll_count</th>\n      <th>dire_boots_count</th>\n      <th>dire_ward_observer_count</th>\n      <th>dire_ward_sentry_count</th>\n      <th>dire_first_ward_time</th>\n    </tr>\n  </thead>\n  <tbody>\n    <tr>\n      <th>count</th>\n      <td>97230.000000</td>\n      <td>97230.000000</td>\n      <td>97230.000000</td>\n      <td>97230.000000</td>\n      <td>97230.000000</td>\n      <td>97230.000000</td>\n      <td>97230.000000</td>\n      <td>97230.000000</td>\n      <td>97230.000000</td>\n      <td>97230.000000</td>\n      <td>...</td>\n      <td>97230.000000</td>\n      <td>95394.000000</td>\n      <td>81087.000000</td>\n      <td>96554.000000</td>\n      <td>71132.000000</td>\n      <td>97230.000000</td>\n      <td>97230.000000</td>\n      <td>97230.000000</td>\n      <td>97230.000000</td>\n      <td>95404.000000</td>\n    </tr>\n    <tr>\n      <th>mean</th>\n      <td>2.630999</td>\n      <td>51.517104</td>\n      <td>3.442672</td>\n      <td>1233.405801</td>\n      <td>1147.899702</td>\n      <td>11.231996</td>\n      <td>0.357009</td>\n      <td>0.362285</td>\n      <td>8.271315</td>\n      <td>52.183452</td>\n      <td>...</td>\n      <td>0.716250</td>\n      <td>-6.875747</td>\n      <td>127.215028</td>\n      <td>-80.191893</td>\n      <td>214.870536</td>\n      <td>2.965566</td>\n      <td>3.349553</td>\n      <td>2.448339</td>\n      <td>0.689119</td>\n      <td>-6.901922</td>\n    </tr>\n    <tr>\n      <th>std</th>\n      <td>2.835761</td>\n      <td>32.564211</td>\n      <td>1.111741</td>\n      <td>566.588895</td>\n      <td>464.111662</td>\n      <td>9.041620</td>\n      <td>0.663889</td>\n      <td>0.626704</td>\n      <td>2.497575</td>\n      <td>32.674077</td>\n      <td>...</td>\n      <td>0.725331</td>\n      <td>39.508650</td>\n      <td>62.442018</td>\n      <td>15.261950</td>\n      <td>34.137158</td>\n      <td>1.907288</td>\n      <td>1.155609</td>\n      <td>0.813459</td>\n      <td>0.710122</td>\n      <td>40.701397</td>\n    </tr>\n    <tr>\n      <th>min</th>\n      <td>0.000000</td>\n      <td>1.000000</td>\n      <td>0.000000</td>\n      <td>0.000000</td>\n      <td>0.000000</td>\n      <td>0.000000</td>\n      <td>0.000000</td>\n      <td>0.000000</td>\n      <td>0.000000</td>\n      <td>1.000000</td>\n      <td>...</td>\n      <td>0.000000</td>\n      <td>-236.000000</td>\n      <td>-45.000000</td>\n      <td>-90.000000</td>\n      <td>180.000000</td>\n      <td>0.000000</td>\n      <td>0.000000</td>\n      <td>0.000000</td>\n      <td>0.000000</td>\n      <td>-84.000000</td>\n    </tr>\n    <tr>\n      <th>25%</th>\n      <td>1.000000</td>\n      <td>22.000000</td>\n      <td>3.000000</td>\n      <td>767.000000</td>\n      <td>746.000000</td>\n      <td>2.000000</td>\n      <td>0.000000</td>\n      <td>0.000000</td>\n      <td>7.000000</td>\n      <td>25.000000</td>\n      <td>...</td>\n      <td>0.000000</td>\n      <td>-31.000000</td>\n      <td>83.000000</td>\n      <td>-86.000000</td>\n      <td>185.000000</td>\n      <td>2.000000</td>\n      <td>3.000000</td>\n      <td>2.000000</td>\n      <td>0.000000</td>\n      <td>-31.000000</td>\n    </tr>\n    <tr>\n      <th>50%</th>\n      <td>1.000000</td>\n      <td>50.000000</td>\n      <td>3.000000</td>\n      <td>1175.000000</td>\n      <td>1113.000000</td>\n      <td>11.000000</td>\n      <td>0.000000</td>\n      <td>0.000000</td>\n      <td>8.000000</td>\n      <td>50.000000</td>\n      <td>...</td>\n      <td>1.000000</td>\n      <td>-15.000000</td>\n      <td>131.000000</td>\n      <td>-84.000000</td>\n      <td>203.000000</td>\n      <td>3.000000</td>\n      <td>3.000000</td>\n      <td>2.000000</td>\n      <td>1.000000</td>\n      <td>-16.000000</td>\n    </tr>\n    <tr>\n      <th>75%</th>\n      <td>7.000000</td>\n      <td>75.000000</td>\n      <td>4.000000</td>\n      <td>1704.000000</td>\n      <td>1479.000000</td>\n      <td>19.000000</td>\n      <td>1.000000</td>\n      <td>1.000000</td>\n      <td>10.000000</td>\n      <td>75.000000</td>\n      <td>...</td>\n      <td>1.000000</td>\n      <td>9.000000</td>\n      <td>165.000000</td>\n      <td>-79.000000</td>\n      <td>238.000000</td>\n      <td>4.000000</td>\n      <td>4.000000</td>\n      <td>3.000000</td>\n      <td>1.000000</td>\n      <td>8.000000</td>\n    </tr>\n    <tr>\n      <th>max</th>\n      <td>7.000000</td>\n      <td>112.000000</td>\n      <td>6.000000</td>\n      <td>3319.000000</td>\n      <td>4332.000000</td>\n      <td>47.000000</td>\n      <td>8.000000</td>\n      <td>5.000000</td>\n      <td>34.000000</td>\n      <td>112.000000</td>\n      <td>...</td>\n      <td>25.000000</td>\n      <td>300.000000</td>\n      <td>300.000000</td>\n      <td>296.000000</td>\n      <td>300.000000</td>\n      <td>21.000000</td>\n      <td>9.000000</td>\n      <td>9.000000</td>\n      <td>13.000000</td>\n      <td>300.000000</td>\n    </tr>\n  </tbody>\n</table>\n<p>8 rows × 101 columns</p>\n</div>"
     },
     "execution_count": 3,
     "metadata": {},
     "output_type": "execute_result"
    }
   ],
   "source": [
    "df.describe()"
   ],
   "metadata": {
    "collapsed": false,
    "pycharm": {
     "name": "#%%\n"
    }
   }
  },
  {
   "cell_type": "code",
   "execution_count": 4,
   "outputs": [
    {
     "data": {
      "text/plain": "          lobby_type  r1_hero  r1_level  r1_xp  r1_gold  r1_lh  r1_kills  \\\nmatch_id                                                                   \n0                  7       11         5   2098     1489     20         0   \n1                  0       42         4   1188     1033      9         0   \n2                  7       33         4   1319     1270     22         0   \n3                  1       29         4   1779     1056     14         0   \n4                  7       13         4   1431     1090      8         1   \n\n          r1_deaths  r1_items  r2_hero  ...  radiant_ward_sentry_count  \\\nmatch_id                                ...                              \n0                 0         7       67  ...                          0   \n1                 1        12       49  ...                          0   \n2                 0        12       98  ...                          1   \n3                 0         5       30  ...                          0   \n4                 0         8       27  ...                          0   \n\n          radiant_first_ward_time  dire_bottle_time  dire_courier_time  \\\nmatch_id                                                                 \n0                            35.0             103.0              -84.0   \n1                           -20.0             149.0              -84.0   \n2                           -39.0              45.0              -77.0   \n3                           -30.0             124.0              -80.0   \n4                            46.0             182.0              -80.0   \n\n          dire_flying_courier_time  dire_tpscroll_count  dire_boots_count  \\\nmatch_id                                                                    \n0                            221.0                    3                 4   \n1                            195.0                    5                 4   \n2                            221.0                    3                 4   \n3                            184.0                    0                 4   \n4                            225.0                    6                 3   \n\n          dire_ward_observer_count  dire_ward_sentry_count  \\\nmatch_id                                                     \n0                                2                       2   \n1                                3                       1   \n2                                3                       1   \n3                                2                       0   \n4                                3                       0   \n\n          dire_first_ward_time  \nmatch_id                        \n0                        -52.0  \n1                         -5.0  \n2                         13.0  \n3                         27.0  \n4                        -16.0  \n\n[5 rows x 101 columns]",
      "text/html": "<div>\n<style scoped>\n    .dataframe tbody tr th:only-of-type {\n        vertical-align: middle;\n    }\n\n    .dataframe tbody tr th {\n        vertical-align: top;\n    }\n\n    .dataframe thead th {\n        text-align: right;\n    }\n</style>\n<table border=\"1\" class=\"dataframe\">\n  <thead>\n    <tr style=\"text-align: right;\">\n      <th></th>\n      <th>lobby_type</th>\n      <th>r1_hero</th>\n      <th>r1_level</th>\n      <th>r1_xp</th>\n      <th>r1_gold</th>\n      <th>r1_lh</th>\n      <th>r1_kills</th>\n      <th>r1_deaths</th>\n      <th>r1_items</th>\n      <th>r2_hero</th>\n      <th>...</th>\n      <th>radiant_ward_sentry_count</th>\n      <th>radiant_first_ward_time</th>\n      <th>dire_bottle_time</th>\n      <th>dire_courier_time</th>\n      <th>dire_flying_courier_time</th>\n      <th>dire_tpscroll_count</th>\n      <th>dire_boots_count</th>\n      <th>dire_ward_observer_count</th>\n      <th>dire_ward_sentry_count</th>\n      <th>dire_first_ward_time</th>\n    </tr>\n    <tr>\n      <th>match_id</th>\n      <th></th>\n      <th></th>\n      <th></th>\n      <th></th>\n      <th></th>\n      <th></th>\n      <th></th>\n      <th></th>\n      <th></th>\n      <th></th>\n      <th></th>\n      <th></th>\n      <th></th>\n      <th></th>\n      <th></th>\n      <th></th>\n      <th></th>\n      <th></th>\n      <th></th>\n      <th></th>\n      <th></th>\n    </tr>\n  </thead>\n  <tbody>\n    <tr>\n      <th>0</th>\n      <td>7</td>\n      <td>11</td>\n      <td>5</td>\n      <td>2098</td>\n      <td>1489</td>\n      <td>20</td>\n      <td>0</td>\n      <td>0</td>\n      <td>7</td>\n      <td>67</td>\n      <td>...</td>\n      <td>0</td>\n      <td>35.0</td>\n      <td>103.0</td>\n      <td>-84.0</td>\n      <td>221.0</td>\n      <td>3</td>\n      <td>4</td>\n      <td>2</td>\n      <td>2</td>\n      <td>-52.0</td>\n    </tr>\n    <tr>\n      <th>1</th>\n      <td>0</td>\n      <td>42</td>\n      <td>4</td>\n      <td>1188</td>\n      <td>1033</td>\n      <td>9</td>\n      <td>0</td>\n      <td>1</td>\n      <td>12</td>\n      <td>49</td>\n      <td>...</td>\n      <td>0</td>\n      <td>-20.0</td>\n      <td>149.0</td>\n      <td>-84.0</td>\n      <td>195.0</td>\n      <td>5</td>\n      <td>4</td>\n      <td>3</td>\n      <td>1</td>\n      <td>-5.0</td>\n    </tr>\n    <tr>\n      <th>2</th>\n      <td>7</td>\n      <td>33</td>\n      <td>4</td>\n      <td>1319</td>\n      <td>1270</td>\n      <td>22</td>\n      <td>0</td>\n      <td>0</td>\n      <td>12</td>\n      <td>98</td>\n      <td>...</td>\n      <td>1</td>\n      <td>-39.0</td>\n      <td>45.0</td>\n      <td>-77.0</td>\n      <td>221.0</td>\n      <td>3</td>\n      <td>4</td>\n      <td>3</td>\n      <td>1</td>\n      <td>13.0</td>\n    </tr>\n    <tr>\n      <th>3</th>\n      <td>1</td>\n      <td>29</td>\n      <td>4</td>\n      <td>1779</td>\n      <td>1056</td>\n      <td>14</td>\n      <td>0</td>\n      <td>0</td>\n      <td>5</td>\n      <td>30</td>\n      <td>...</td>\n      <td>0</td>\n      <td>-30.0</td>\n      <td>124.0</td>\n      <td>-80.0</td>\n      <td>184.0</td>\n      <td>0</td>\n      <td>4</td>\n      <td>2</td>\n      <td>0</td>\n      <td>27.0</td>\n    </tr>\n    <tr>\n      <th>4</th>\n      <td>7</td>\n      <td>13</td>\n      <td>4</td>\n      <td>1431</td>\n      <td>1090</td>\n      <td>8</td>\n      <td>1</td>\n      <td>0</td>\n      <td>8</td>\n      <td>27</td>\n      <td>...</td>\n      <td>0</td>\n      <td>46.0</td>\n      <td>182.0</td>\n      <td>-80.0</td>\n      <td>225.0</td>\n      <td>6</td>\n      <td>3</td>\n      <td>3</td>\n      <td>0</td>\n      <td>-16.0</td>\n    </tr>\n  </tbody>\n</table>\n<p>5 rows × 101 columns</p>\n</div>"
     },
     "execution_count": 4,
     "metadata": {},
     "output_type": "execute_result"
    }
   ],
   "source": [
    "df.head()"
   ],
   "metadata": {
    "collapsed": false,
    "pycharm": {
     "name": "#%%\n"
    }
   }
  },
  {
   "cell_type": "markdown",
   "source": [
    "Какие колонки имеют пропущенные значения?"
   ],
   "metadata": {
    "collapsed": false,
    "pycharm": {
     "name": "#%% md\n"
    }
   }
  },
  {
   "cell_type": "code",
   "execution_count": 5,
   "outputs": [],
   "source": [
    "def get_missing(df):\n",
    "    has_missing = []\n",
    "    for col_name, cnt in zip(df.columns, df.count()):\n",
    "        if cnt < len(df):\n",
    "            has_missing.append({\"col_name\": col_name, \"n_missing\": len(df) - cnt})\n",
    "    return has_missing"
   ],
   "metadata": {
    "collapsed": false,
    "pycharm": {
     "name": "#%%\n"
    }
   }
  },
  {
   "cell_type": "code",
   "execution_count": 6,
   "outputs": [
    {
     "data": {
      "text/plain": "[{'col_name': 'first_blood_time', 'n_missing': 19553},\n {'col_name': 'first_blood_team', 'n_missing': 19553},\n {'col_name': 'first_blood_player1', 'n_missing': 19553},\n {'col_name': 'first_blood_player2', 'n_missing': 43987},\n {'col_name': 'radiant_bottle_time', 'n_missing': 15691},\n {'col_name': 'radiant_courier_time', 'n_missing': 692},\n {'col_name': 'radiant_flying_courier_time', 'n_missing': 27479},\n {'col_name': 'radiant_first_ward_time', 'n_missing': 1836},\n {'col_name': 'dire_bottle_time', 'n_missing': 16143},\n {'col_name': 'dire_courier_time', 'n_missing': 676},\n {'col_name': 'dire_flying_courier_time', 'n_missing': 26098},\n {'col_name': 'dire_first_ward_time', 'n_missing': 1826}]"
     },
     "execution_count": 6,
     "metadata": {},
     "output_type": "execute_result"
    }
   ],
   "source": [
    "get_missing(df)"
   ],
   "metadata": {
    "collapsed": false,
    "pycharm": {
     "name": "#%%\n"
    }
   }
  },
  {
   "cell_type": "code",
   "execution_count": 7,
   "outputs": [
    {
     "data": {
      "text/plain": "[{'col_name': 'first_blood_time', 'n_missing': 3552},\n {'col_name': 'first_blood_team', 'n_missing': 3552},\n {'col_name': 'first_blood_player1', 'n_missing': 3552},\n {'col_name': 'first_blood_player2', 'n_missing': 7766},\n {'col_name': 'radiant_bottle_time', 'n_missing': 2895},\n {'col_name': 'radiant_courier_time', 'n_missing': 127},\n {'col_name': 'radiant_flying_courier_time', 'n_missing': 4885},\n {'col_name': 'radiant_first_ward_time', 'n_missing': 330},\n {'col_name': 'dire_bottle_time', 'n_missing': 2842},\n {'col_name': 'dire_courier_time', 'n_missing': 130},\n {'col_name': 'dire_flying_courier_time', 'n_missing': 4524},\n {'col_name': 'dire_first_ward_time', 'n_missing': 263}]"
     },
     "execution_count": 7,
     "metadata": {},
     "output_type": "execute_result"
    }
   ],
   "source": [
    "get_missing(df_test)"
   ],
   "metadata": {
    "collapsed": false,
    "pycharm": {
     "name": "#%%\n"
    }
   }
  },
  {
   "cell_type": "markdown",
   "source": [
    "# Data preparation"
   ],
   "metadata": {
    "collapsed": false,
    "pycharm": {
     "name": "#%% md\n"
    }
   }
  },
  {
   "cell_type": "code",
   "execution_count": 3,
   "outputs": [],
   "source": [
    "df.fillna(0, inplace=True)\n",
    "df_test.fillna(0, inplace=True)"
   ],
   "metadata": {
    "collapsed": false,
    "pycharm": {
     "name": "#%%\n"
    }
   }
  },
  {
   "cell_type": "code",
   "execution_count": 4,
   "outputs": [
    {
     "ename": "NameError",
     "evalue": "name 'get_missing' is not defined",
     "output_type": "error",
     "traceback": [
      "\u001B[0;31m---------------------------------------------------------------------------\u001B[0m",
      "\u001B[0;31mNameError\u001B[0m                                 Traceback (most recent call last)",
      "\u001B[0;32m<ipython-input-4-3bdb3be8c6a2>\u001B[0m in \u001B[0;36m<module>\u001B[0;34m\u001B[0m\n\u001B[0;32m----> 1\u001B[0;31m \u001B[0;32massert\u001B[0m \u001B[0mlen\u001B[0m\u001B[0;34m(\u001B[0m\u001B[0mget_missing\u001B[0m\u001B[0;34m(\u001B[0m\u001B[0mdf\u001B[0m\u001B[0;34m)\u001B[0m\u001B[0;34m)\u001B[0m \u001B[0;34m==\u001B[0m \u001B[0;36m0\u001B[0m\u001B[0;34m\u001B[0m\u001B[0m\n\u001B[0m\u001B[1;32m      2\u001B[0m \u001B[0;32massert\u001B[0m \u001B[0mlen\u001B[0m\u001B[0;34m(\u001B[0m\u001B[0mget_missing\u001B[0m\u001B[0;34m(\u001B[0m\u001B[0mdf_test\u001B[0m\u001B[0;34m)\u001B[0m\u001B[0;34m)\u001B[0m \u001B[0;34m==\u001B[0m \u001B[0;36m0\u001B[0m\u001B[0;34m\u001B[0m\u001B[0m\n\u001B[1;32m      3\u001B[0m \u001B[0;34m\u001B[0m\u001B[0m\n",
      "\u001B[0;31mNameError\u001B[0m: name 'get_missing' is not defined"
     ]
    }
   ],
   "source": [
    "assert len(get_missing(df)) == 0\n",
    "assert len(get_missing(df_test)) == 0"
   ],
   "metadata": {
    "collapsed": false,
    "pycharm": {
     "name": "#%%\n"
    }
   }
  },
  {
   "cell_type": "code",
   "execution_count": 5,
   "outputs": [],
   "source": [
    "X = df.to_numpy()"
   ],
   "metadata": {
    "collapsed": false,
    "pycharm": {
     "name": "#%%\n"
    }
   }
  },
  {
   "cell_type": "markdown",
   "source": [
    "# Gradient boosting"
   ],
   "metadata": {
    "collapsed": false,
    "pycharm": {
     "name": "#%% md\n"
    }
   }
  },
  {
   "cell_type": "code",
   "execution_count": 6,
   "outputs": [],
   "source": [
    "import time\n",
    "\n",
    "def train_clf(Classifier, X, y, params):\n",
    "    cv = KFold(n_splits=5, shuffle=True, random_state=241)\n",
    "\n",
    "    scores = {}\n",
    "\n",
    "    for param in tqdm(params):\n",
    "        score = np.zeros(5)\n",
    "        durs = np.zeros(5)\n",
    "        i = 0\n",
    "        for train_index, test_index in cv.split(X, y):\n",
    "            X_train, X_test = X[train_index], X[test_index]\n",
    "            y_train, y_test = y[train_index], y[test_index]\n",
    "\n",
    "            clf = Classifier(**param, random_state=241)\n",
    "\n",
    "            start = time.time()\n",
    "\n",
    "            clf.fit(X_train, y_train)\n",
    "\n",
    "            dur = time.time() - start\n",
    "\n",
    "            y_pred = clf.predict_proba(X_test)[:, 1]\n",
    "            score[i] = roc_auc_score(y_test, y_pred)\n",
    "            durs[i] = dur\n",
    "            i += 1\n",
    "\n",
    "        scores[\" \".join(map(str, param.items()))] = {\"score\": score.mean(), \"duration\": durs.sum()}\n",
    "    return scores"
   ],
   "metadata": {
    "collapsed": false,
    "pycharm": {
     "name": "#%%\n"
    }
   }
  },
  {
   "cell_type": "code",
   "execution_count": 12,
   "outputs": [
    {
     "data": {
      "text/plain": "HBox(children=(HTML(value=''), FloatProgress(value=0.0, max=3.0), HTML(value='')))",
      "application/vnd.jupyter.widget-view+json": {
       "version_major": 2,
       "version_minor": 0,
       "model_id": "03a371ecef75417f953ca1148b5257db"
      }
     },
     "metadata": {},
     "output_type": "display_data"
    },
    {
     "name": "stdout",
     "output_type": "stream",
     "text": [
      "\n"
     ]
    },
    {
     "data": {
      "text/plain": "{\"('n_estimators', 10)\": {'score': 0.6643877206345741,\n  'duration': 48.40032339096069},\n \"('n_estimators', 20)\": {'score': 0.6828535735340823,\n  'duration': 85.42267179489136},\n \"('n_estimators', 30)\": {'score': 0.6894962060591201,\n  'duration': 154.79795503616333}}"
     },
     "execution_count": 12,
     "metadata": {},
     "output_type": "execute_result"
    }
   ],
   "source": [
    "clf_params = [{\"n_estimators\": 10}, {\"n_estimators\": 20}, {\"n_estimators\": 30}]\n",
    "scores = train_clf(GradientBoostingClassifier, X, y, clf_params)\n",
    "scores"
   ],
   "metadata": {
    "collapsed": false,
    "pycharm": {
     "name": "#%%\n"
    }
   }
  },
  {
   "cell_type": "markdown",
   "source": [
    "# Logistic regression"
   ],
   "metadata": {
    "collapsed": false,
    "pycharm": {
     "name": "#%% md\n"
    }
   }
  },
  {
   "cell_type": "code",
   "execution_count": 13,
   "outputs": [],
   "source": [
    "scaler = StandardScaler()\n",
    "X = scaler.fit_transform(X)"
   ],
   "metadata": {
    "collapsed": false,
    "pycharm": {
     "name": "#%%\n"
    }
   }
  },
  {
   "cell_type": "code",
   "execution_count": 14,
   "outputs": [
    {
     "data": {
      "text/plain": "HBox(children=(HTML(value=''), FloatProgress(value=0.0, max=9.0), HTML(value='')))",
      "application/vnd.jupyter.widget-view+json": {
       "version_major": 2,
       "version_minor": 0,
       "model_id": "2f46775a5cb24123b0d40d9ec8bb86fe"
      }
     },
     "metadata": {},
     "output_type": "display_data"
    },
    {
     "name": "stdout",
     "output_type": "stream",
     "text": [
      "\n"
     ]
    }
   ],
   "source": [
    "clf_params = [{\"penalty\": \"l2\", \"C\": 0.001},\n",
    "              {\"penalty\": \"l2\", \"C\": 0.01},\n",
    "              {\"penalty\": \"l2\", \"C\": 0.1},\n",
    "              {\"penalty\": \"l2\", \"C\": 1.},\n",
    "              {\"penalty\": \"l2\", \"C\": 10.},\n",
    "              {\"penalty\": \"l2\", \"C\": 1000.},\n",
    "              {\"penalty\": \"l2\", \"C\": 10000.},\n",
    "              {\"penalty\": \"l2\", \"C\": 100000.},\n",
    "              {\"penalty\": 'none'}]\n",
    "scores = train_clf(LogisticRegression, X, y, clf_params)"
   ],
   "metadata": {
    "collapsed": false,
    "pycharm": {
     "name": "#%%\n"
    }
   }
  },
  {
   "cell_type": "code",
   "execution_count": 15,
   "outputs": [
    {
     "data": {
      "text/plain": "{\"('penalty', 'l2') ('C', 0.001)\": {'score': 0.7160840366228188,\n  'duration': 1.9151926040649414},\n \"('penalty', 'l2') ('C', 0.01)\": {'score': 0.7162598557965987,\n  'duration': 3.5079455375671387},\n \"('penalty', 'l2') ('C', 0.1)\": {'score': 0.716233028946313,\n  'duration': 4.0903143882751465},\n \"('penalty', 'l2') ('C', 1.0)\": {'score': 0.7162292494059109,\n  'duration': 3.0014796257019043},\n \"('penalty', 'l2') ('C', 10.0)\": {'score': 0.7162283088307158,\n  'duration': 3.235761880874634},\n \"('penalty', 'l2') ('C', 1000.0)\": {'score': 0.7162281796391324,\n  'duration': 2.8909637928009033},\n \"('penalty', 'l2') ('C', 10000.0)\": {'score': 0.7162281838815987,\n  'duration': 2.900258779525757},\n \"('penalty', 'l2') ('C', 100000.0)\": {'score': 0.7162281817636524,\n  'duration': 3.161609649658203},\n \"('penalty', 'none')\": {'score': 0.7162281817636524,\n  'duration': 3.706479787826538}}"
     },
     "execution_count": 15,
     "metadata": {},
     "output_type": "execute_result"
    }
   ],
   "source": [
    "scores"
   ],
   "metadata": {
    "collapsed": false,
    "pycharm": {
     "name": "#%%\n"
    }
   }
  },
  {
   "cell_type": "code",
   "execution_count": 16,
   "outputs": [],
   "source": [
    "del X"
   ],
   "metadata": {
    "collapsed": false,
    "pycharm": {
     "name": "#%%\n"
    }
   }
  },
  {
   "cell_type": "code",
   "execution_count": 7,
   "outputs": [],
   "source": [
    "scaler = StandardScaler()\n",
    "df_without_cat = df.drop(columns=[\"lobby_type\", \"r1_hero\", \"r2_hero\", \"r3_hero\", \"r4_hero\", \"r5_hero\", \"d1_hero\", \"d2_hero\", \"d3_hero\", \"d4_hero\", \"d5_hero\"])\n",
    "X = df_without_cat.to_numpy()\n",
    "X = scaler.fit_transform(X)"
   ],
   "metadata": {
    "collapsed": false,
    "pycharm": {
     "name": "#%%\n"
    }
   }
  },
  {
   "cell_type": "code",
   "execution_count": 18,
   "outputs": [
    {
     "data": {
      "text/plain": "HBox(children=(HTML(value=''), FloatProgress(value=0.0, max=9.0), HTML(value='')))",
      "application/vnd.jupyter.widget-view+json": {
       "version_major": 2,
       "version_minor": 0,
       "model_id": "ed74110f1f1d42b58c8fbe9284760064"
      }
     },
     "metadata": {},
     "output_type": "display_data"
    },
    {
     "name": "stdout",
     "output_type": "stream",
     "text": [
      "\n"
     ]
    },
    {
     "data": {
      "text/plain": "{\"('penalty', 'l2') ('C', 0.001)\": {'score': 0.7161378059340825,\n  'duration': 2.097487211227417},\n \"('penalty', 'l2') ('C', 0.01)\": {'score': 0.7163215664424338,\n  'duration': 2.554262399673462},\n \"('penalty', 'l2') ('C', 0.1)\": {'score': 0.7162966624026562,\n  'duration': 2.6589972972869873},\n \"('penalty', 'l2') ('C', 1.0)\": {'score': 0.7162927662392431,\n  'duration': 2.885206460952759},\n \"('penalty', 'l2') ('C', 10.0)\": {'score': 0.7162922705279733,\n  'duration': 2.6871306896209717},\n \"('penalty', 'l2') ('C', 1000.0)\": {'score': 0.7162922577318527,\n  'duration': 2.715484142303467},\n \"('penalty', 'l2') ('C', 10000.0)\": {'score': 0.7162922513714152,\n  'duration': 3.5428035259246826},\n \"('penalty', 'l2') ('C', 100000.0)\": {'score': 0.7162922492537789,\n  'duration': 2.870666980743408},\n \"('penalty', 'none')\": {'score': 0.7162922492537789,\n  'duration': 2.7602288722991943}}"
     },
     "execution_count": 18,
     "metadata": {},
     "output_type": "execute_result"
    }
   ],
   "source": [
    "clf_params = [{\"penalty\": \"l2\", \"C\": 0.001},\n",
    "              {\"penalty\": \"l2\", \"C\": 0.01},\n",
    "              {\"penalty\": \"l2\", \"C\": 0.1},\n",
    "              {\"penalty\": \"l2\", \"C\": 1.},\n",
    "              {\"penalty\": \"l2\", \"C\": 10.},\n",
    "              {\"penalty\": \"l2\", \"C\": 1000.},\n",
    "              {\"penalty\": \"l2\", \"C\": 10000.},\n",
    "              {\"penalty\": \"l2\", \"C\": 100000.},\n",
    "              {\"penalty\": 'none'}]\n",
    "scores = train_clf(LogisticRegression, X, y, clf_params)\n",
    "scores"
   ],
   "metadata": {
    "collapsed": false,
    "pycharm": {
     "name": "#%%\n"
    }
   }
  },
  {
   "cell_type": "code",
   "execution_count": 9,
   "outputs": [
    {
     "data": {
      "text/plain": "112"
     },
     "execution_count": 9,
     "metadata": {},
     "output_type": "execute_result"
    }
   ],
   "source": [
    "n_heroes = df.filter(like=\"hero\").max().max()\n",
    "n_heroes"
   ],
   "metadata": {
    "collapsed": false,
    "pycharm": {
     "name": "#%%\n"
    }
   }
  },
  {
   "cell_type": "code",
   "execution_count": 10,
   "outputs": [],
   "source": [
    "X_pick = np.zeros((df.shape[0], n_heroes))\n",
    "\n",
    "for i, match_id in enumerate(df.index):\n",
    "    for p in range(5):\n",
    "        X_pick[i, df.loc[match_id, f'r{p+1}_hero']-1] = 1\n",
    "        X_pick[i, df.loc[match_id, f'd{p+1}_hero']-1] = -1"
   ],
   "metadata": {
    "collapsed": false,
    "pycharm": {
     "name": "#%%\n"
    }
   }
  },
  {
   "cell_type": "code",
   "execution_count": 11,
   "outputs": [
    {
     "data": {
      "text/plain": "(97230, 202)"
     },
     "execution_count": 11,
     "metadata": {},
     "output_type": "execute_result"
    }
   ],
   "source": [
    "\n",
    "X = np.hstack([X, X_pick])\n",
    "X = scaler.fit_transform(X)\n",
    "X.shape"
   ],
   "metadata": {
    "collapsed": false,
    "pycharm": {
     "name": "#%%\n"
    }
   }
  },
  {
   "cell_type": "code",
   "execution_count": 12,
   "outputs": [
    {
     "data": {
      "text/plain": "HBox(children=(HTML(value=''), FloatProgress(value=0.0, max=9.0), HTML(value='')))",
      "application/vnd.jupyter.widget-view+json": {
       "version_major": 2,
       "version_minor": 0,
       "model_id": "551f18ce878740b6935efaf47843f6d1"
      }
     },
     "metadata": {},
     "output_type": "display_data"
    },
    {
     "name": "stdout",
     "output_type": "stream",
     "text": [
      "\n"
     ]
    },
    {
     "data": {
      "text/plain": "{\"('penalty', 'l2') ('C', 0.001)\": {'score': 0.7515256704904653,\n  'duration': 3.915085554122925},\n \"('penalty', 'l2') ('C', 0.01)\": {'score': 0.7518281840948673,\n  'duration': 5.507117509841919},\n \"('penalty', 'l2') ('C', 0.1)\": {'score': 0.7517849643867451,\n  'duration': 6.085991382598877},\n \"('penalty', 'l2') ('C', 1.0)\": {'score': 0.7517765427330695,\n  'duration': 6.939167022705078},\n \"('penalty', 'l2') ('C', 10.0)\": {'score': 0.7517755992405005,\n  'duration': 6.4167468547821045},\n \"('penalty', 'l2') ('C', 1000.0)\": {'score': 0.7517763093385121,\n  'duration': 6.6445839405059814},\n \"('penalty', 'l2') ('C', 10000.0)\": {'score': 0.7517763050966866,\n  'duration': 6.404962778091431},\n \"('penalty', 'l2') ('C', 100000.0)\": {'score': 0.7517763050966866,\n  'duration': 6.971964359283447},\n \"('penalty', 'none')\": {'score': 0.7517763050966866,\n  'duration': 6.066238641738892}}"
     },
     "execution_count": 12,
     "metadata": {},
     "output_type": "execute_result"
    }
   ],
   "source": [
    "clf_params = [{\"penalty\": \"l2\", \"C\": 0.001},\n",
    "              {\"penalty\": \"l2\", \"C\": 0.01},\n",
    "              {\"penalty\": \"l2\", \"C\": 0.1},\n",
    "              {\"penalty\": \"l2\", \"C\": 1.},\n",
    "              {\"penalty\": \"l2\", \"C\": 10.},\n",
    "              {\"penalty\": \"l2\", \"C\": 1000.},\n",
    "              {\"penalty\": \"l2\", \"C\": 10000.},\n",
    "              {\"penalty\": \"l2\", \"C\": 100000.},\n",
    "              {\"penalty\": 'none'}]\n",
    "scores = train_clf(LogisticRegression, X, y, clf_params)\n",
    "scores"
   ],
   "metadata": {
    "collapsed": false,
    "pycharm": {
     "name": "#%%\n"
    }
   }
  },
  {
   "cell_type": "code",
   "execution_count": 13,
   "outputs": [
    {
     "data": {
      "text/plain": "LogisticRegression()"
     },
     "execution_count": 13,
     "metadata": {},
     "output_type": "execute_result"
    }
   ],
   "source": [
    "clf = LogisticRegression()\n",
    "clf.fit(X, y)"
   ],
   "metadata": {
    "collapsed": false,
    "pycharm": {
     "name": "#%%\n"
    }
   }
  },
  {
   "cell_type": "code",
   "execution_count": 34,
   "outputs": [],
   "source": [
    "del X"
   ],
   "metadata": {
    "collapsed": false,
    "pycharm": {
     "name": "#%%\n"
    }
   }
  },
  {
   "cell_type": "markdown",
   "source": [
    "# Predict test"
   ],
   "metadata": {
    "collapsed": false,
    "pycharm": {
     "name": "#%% md\n"
    }
   }
  },
  {
   "cell_type": "code",
   "execution_count": 14,
   "outputs": [
    {
     "data": {
      "text/plain": "(17177, 202)"
     },
     "execution_count": 14,
     "metadata": {},
     "output_type": "execute_result"
    }
   ],
   "source": [
    "df_no_cat_test = df_test.drop(columns=[\"start_time\", \"lobby_type\", \"r1_hero\", \"r2_hero\", \"r3_hero\", \"r4_hero\", \"r5_hero\", \"d1_hero\", \"d2_hero\", \"d3_hero\", \"d4_hero\", \"d5_hero\"])\n",
    "X = df_no_cat_test.to_numpy()\n",
    "\n",
    "X_pick = np.zeros((df_test.shape[0], n_heroes))\n",
    "\n",
    "for i, match_id in enumerate(df_test.index):\n",
    "    for p in range(5):\n",
    "        X_pick[i, df_test.loc[match_id, f'r{p+1}_hero']-1] = 1\n",
    "        X_pick[i, df_test.loc[match_id, f'd{p+1}_hero']-1] = -1\n",
    "\n",
    "X = np.hstack([X, X_pick])\n",
    "X = scaler.transform(X)\n",
    "X.shape"
   ],
   "metadata": {
    "collapsed": false,
    "pycharm": {
     "name": "#%%\n"
    }
   }
  },
  {
   "cell_type": "code",
   "execution_count": 16,
   "outputs": [],
   "source": [
    "y_pred = clf.predict_proba(X)[:, 1]\n",
    "\n",
    "df_ans = pd.DataFrame({\"match_id\": df_test.index, \"radiant_win\": y_pred})\n",
    "df_ans.set_index(\"match_id\", inplace=True)\n",
    "df_ans.to_csv(data_path/\"preds.csv\", index=\"match_id\")"
   ],
   "metadata": {
    "collapsed": false,
    "pycharm": {
     "name": "#%%\n"
    }
   }
  },
  {
   "cell_type": "code",
   "execution_count": null,
   "outputs": [],
   "source": [],
   "metadata": {
    "collapsed": false,
    "pycharm": {
     "name": "#%%\n"
    }
   }
  }
 ],
 "metadata": {
  "kernelspec": {
   "display_name": "Python 3",
   "language": "python",
   "name": "python3"
  },
  "language_info": {
   "codemirror_mode": {
    "name": "ipython",
    "version": 2
   },
   "file_extension": ".py",
   "mimetype": "text/x-python",
   "name": "python",
   "nbconvert_exporter": "python",
   "pygments_lexer": "ipython2",
   "version": "2.7.6"
  }
 },
 "nbformat": 4,
 "nbformat_minor": 0
}